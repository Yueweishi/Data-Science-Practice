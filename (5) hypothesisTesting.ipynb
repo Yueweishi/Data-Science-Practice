{
 "cells": [
  {
   "cell_type": "markdown",
   "metadata": {},
   "source": [
    "# LAB 5. Hypothesis testing. Green taxi case"
   ]
  },
  {
   "cell_type": "markdown",
   "metadata": {},
   "source": [
    "Test varios hypothesis about ridership volume and trip characteristics for green taxi trips in 2018-2020. \n",
    "\n",
    "Does the ridership decline over time? Does it depend on the day of the week and time of the day? Does the distribution of the trip parameters (distance, time, speed) depend on the day of the week and borough?"
   ]
  },
  {
   "cell_type": "code",
   "execution_count": 1,
   "metadata": {
    "tags": []
   },
   "outputs": [],
   "source": [
    "#import the modules\n",
    "import pandas as pd\n",
    "import geopandas as gpd\n",
    "import urllib.request\n",
    "import os\n",
    "import numpy as np\n",
    "from scipy import stats\n",
    "import matplotlib.pyplot as plt\n",
    "import warnings\n",
    "warnings.filterwarnings('ignore')"
   ]
  },
  {
   "cell_type": "code",
   "execution_count": 2,
   "metadata": {
    "tags": []
   },
   "outputs": [],
   "source": [
    "#create the folders\n",
    "if not os.path.exists('Data'):\n",
    "    os.mkdir('Data')\n",
    "if not os.path.exists('Data/TLC'):\n",
    "    os.mkdir('Data/TLC')"
   ]
  },
  {
   "cell_type": "code",
   "execution_count": 3,
   "metadata": {},
   "outputs": [
    {
     "name": "stdout",
     "output_type": "stream",
     "text": [
      "done\n"
     ]
    }
   ],
   "source": [
    "# Download green taxi data if not downloaded yet; might take a couple of minutes\n",
    "for year in [2018, 2019, 2020]:\n",
    "    for month in range(1, 13):\n",
    "        if year == 2020 and month > 6:\n",
    "            pass\n",
    "        else:\n",
    "            parquet_file = f'green_tripdata_{year}-{str(month).zfill(2)}.parquet'\n",
    "            csv_file = f'green_tripdata_{year}-{str(month).zfill(2)}.csv'\n",
    "            if not os.path.exists(f'Data/TLC/{csv_file}'):\n",
    "                url = f'https://d37ci6vzurychx.cloudfront.net/trip-data/{parquet_file}'\n",
    "                parquet_path = f'Data/TLC/{parquet_file}'\n",
    "                csv_path = f'Data/TLC/{csv_file}'\n",
    "                \n",
    "                # Download the parquet file\n",
    "                urllib.request.urlretrieve(url, parquet_path)\n",
    "                \n",
    "                # Convert parquet to csv\n",
    "                df = pd.read_parquet(parquet_path)\n",
    "                df.to_csv(csv_path, index=False)\n",
    "                \n",
    "                # Optionally, remove the parquet file\n",
    "                os.remove(parquet_path)\n",
    "\n",
    "print('done')"
   ]
  },
  {
   "cell_type": "code",
   "execution_count": 4,
   "metadata": {},
   "outputs": [],
   "source": [
    "#concatenate all the files into a single dataframe - takes up to a minute\n",
    "files = os.listdir('./Data/TLC/')\n",
    "dfList = []\n",
    "\n",
    "for index,filename in enumerate(files):\n",
    "    if '.csv' in filename:\n",
    "        if index == 0:\n",
    "            df = pd.read_csv('./Data/TLC/'+filename, index_col=None)\n",
    "        else:\n",
    "            df = pd.read_csv('./Data/TLC/'+filename, index_col=None, header=0)\n",
    "        dfList.append(df)\n",
    "dfTaxi = pd.concat(dfList, axis=0, ignore_index=True)"
   ]
  },
  {
   "cell_type": "code",
   "execution_count": 5,
   "metadata": {},
   "outputs": [
    {
     "data": {
      "text/plain": [
       "Index(['VendorID', 'lpep_pickup_datetime', 'lpep_dropoff_datetime',\n",
       "       'store_and_fwd_flag', 'RatecodeID', 'PULocationID', 'DOLocationID',\n",
       "       'passenger_count', 'trip_distance', 'fare_amount', 'extra', 'mta_tax',\n",
       "       'tip_amount', 'tolls_amount', 'ehail_fee', 'improvement_surcharge',\n",
       "       'total_amount', 'payment_type', 'trip_type', 'congestion_surcharge'],\n",
       "      dtype='object')"
      ]
     },
     "execution_count": 5,
     "metadata": {},
     "output_type": "execute_result"
    }
   ],
   "source": [
    "dfTaxi.columns"
   ]
  },
  {
   "cell_type": "code",
   "execution_count": 6,
   "metadata": {},
   "outputs": [],
   "source": [
    "#take care of the timestamp types\n",
    "dfTaxi['lpep_pickup_datetime'] = pd.to_datetime(dfTaxi['lpep_pickup_datetime'])\n",
    "dfTaxi['lpep_dropoff_datetime'] = pd.to_datetime(dfTaxi['lpep_dropoff_datetime'])"
   ]
  },
  {
   "cell_type": "code",
   "execution_count": 7,
   "metadata": {},
   "outputs": [],
   "source": [
    "#extract date, year, day of the week and hour (takes some time around half a minute)\n",
    "dfTaxi['Date'] = dfTaxi['lpep_pickup_datetime'].dt.date\n",
    "dfTaxi['Month'] = dfTaxi['lpep_pickup_datetime'].dt.month\n",
    "dfTaxi['Year'] = dfTaxi['lpep_pickup_datetime'].dt.year\n",
    "dfTaxi['DOW'] = dfTaxi['lpep_pickup_datetime'].dt.dayofweek\n",
    "dfTaxi['Hour'] = dfTaxi['lpep_pickup_datetime'].dt.hour\n",
    "dfTaxi['Minute'] = dfTaxi['lpep_pickup_datetime'].dt.minute\n",
    "dfTaxi = dfTaxi.loc[dfTaxi['Year'].isin([2018,2019,2020])]"
   ]
  },
  {
   "cell_type": "code",
   "execution_count": 8,
   "metadata": {},
   "outputs": [],
   "source": [
    "#calculate trip duration in minutes\n",
    "dfTaxi['trip_duration'] = (dfTaxi['lpep_dropoff_datetime'] - dfTaxi['lpep_pickup_datetime'])\n",
    "dfTaxi['trip_duration'] = dfTaxi['trip_duration'].dt.total_seconds() / 60"
   ]
  },
  {
   "cell_type": "code",
   "execution_count": 9,
   "metadata": {},
   "outputs": [],
   "source": [
    "dfTaxi['speed'] = dfTaxi['trip_distance'] / (dfTaxi['trip_duration'] / 60) #avg trip speed in miles per hoiur"
   ]
  },
  {
   "cell_type": "code",
   "execution_count": 10,
   "metadata": {},
   "outputs": [
    {
     "data": {
      "text/plain": [
       "16426014"
      ]
     },
     "execution_count": 10,
     "metadata": {},
     "output_type": "execute_result"
    }
   ],
   "source": [
    "len(dfTaxi) #original number of records"
   ]
  },
  {
   "cell_type": "code",
   "execution_count": 11,
   "metadata": {},
   "outputs": [],
   "source": [
    "dfTaxi['Date']=pd.to_datetime(dfTaxi[\"Date\"])"
   ]
  },
  {
   "cell_type": "code",
   "execution_count": 12,
   "metadata": {},
   "outputs": [
    {
     "data": {
      "text/plain": [
       "15881382"
      ]
     },
     "execution_count": 12,
     "metadata": {},
     "output_type": "execute_result"
    }
   ],
   "source": [
    "#sanity filtering\n",
    "dfTaxi = dfTaxi[(dfTaxi['Date']<=pd.to_datetime('6/30/2020')) & (dfTaxi.trip_distance < 100)\n",
    "           & (dfTaxi.speed <= 80) & (dfTaxi.speed >= 1) & (dfTaxi.trip_duration <= 100) & (dfTaxi.trip_duration >= 1)]\n",
    "len(dfTaxi) #remaining records"
   ]
  },
  {
   "cell_type": "code",
   "execution_count": 13,
   "metadata": {},
   "outputs": [],
   "source": [
    "#daily total trip counts and cumulative duration and distance traveled\n",
    "dfTaxiDaily = dfTaxi.groupby(['Year','Month','DOW','Date']).\\\n",
    "            agg({'lpep_pickup_datetime':'count','trip_duration':'sum','trip_distance':'sum'}).\\\n",
    "            rename(columns={'lpep_pickup_datetime':'trip_count'}).reset_index()\n",
    "dfTaxiDaily = dfTaxiDaily.sort_values(by='Date')"
   ]
  },
  {
   "cell_type": "code",
   "execution_count": 14,
   "metadata": {},
   "outputs": [],
   "source": [
    "dfTaxiDaily['speed'] = dfTaxiDaily['trip_distance'] / dfTaxiDaily['trip_duration'] * 60"
   ]
  },
  {
   "cell_type": "code",
   "execution_count": 15,
   "metadata": {},
   "outputs": [
    {
     "data": {
      "text/html": [
       "<div>\n",
       "<style scoped>\n",
       "    .dataframe tbody tr th:only-of-type {\n",
       "        vertical-align: middle;\n",
       "    }\n",
       "\n",
       "    .dataframe tbody tr th {\n",
       "        vertical-align: top;\n",
       "    }\n",
       "\n",
       "    .dataframe thead th {\n",
       "        text-align: right;\n",
       "    }\n",
       "</style>\n",
       "<table border=\"1\" class=\"dataframe\">\n",
       "  <thead>\n",
       "    <tr style=\"text-align: right;\">\n",
       "      <th></th>\n",
       "      <th>Year</th>\n",
       "      <th>Month</th>\n",
       "      <th>DOW</th>\n",
       "      <th>Date</th>\n",
       "      <th>trip_count</th>\n",
       "      <th>trip_duration</th>\n",
       "      <th>trip_distance</th>\n",
       "      <th>speed</th>\n",
       "    </tr>\n",
       "  </thead>\n",
       "  <tbody>\n",
       "    <tr>\n",
       "      <th>0</th>\n",
       "      <td>2018</td>\n",
       "      <td>1</td>\n",
       "      <td>0</td>\n",
       "      <td>2018-01-01</td>\n",
       "      <td>22384</td>\n",
       "      <td>263853.966667</td>\n",
       "      <td>67911.34</td>\n",
       "      <td>15.442938</td>\n",
       "    </tr>\n",
       "    <tr>\n",
       "      <th>5</th>\n",
       "      <td>2018</td>\n",
       "      <td>1</td>\n",
       "      <td>1</td>\n",
       "      <td>2018-01-02</td>\n",
       "      <td>22583</td>\n",
       "      <td>274362.416667</td>\n",
       "      <td>59493.64</td>\n",
       "      <td>13.010595</td>\n",
       "    </tr>\n",
       "    <tr>\n",
       "      <th>10</th>\n",
       "      <td>2018</td>\n",
       "      <td>1</td>\n",
       "      <td>2</td>\n",
       "      <td>2018-01-03</td>\n",
       "      <td>25673</td>\n",
       "      <td>341670.100000</td>\n",
       "      <td>69394.22</td>\n",
       "      <td>12.186180</td>\n",
       "    </tr>\n",
       "    <tr>\n",
       "      <th>15</th>\n",
       "      <td>2018</td>\n",
       "      <td>1</td>\n",
       "      <td>3</td>\n",
       "      <td>2018-01-04</td>\n",
       "      <td>6297</td>\n",
       "      <td>80896.516667</td>\n",
       "      <td>16403.10</td>\n",
       "      <td>12.165987</td>\n",
       "    </tr>\n",
       "    <tr>\n",
       "      <th>19</th>\n",
       "      <td>2018</td>\n",
       "      <td>1</td>\n",
       "      <td>4</td>\n",
       "      <td>2018-01-05</td>\n",
       "      <td>26727</td>\n",
       "      <td>341303.233333</td>\n",
       "      <td>64290.25</td>\n",
       "      <td>11.302017</td>\n",
       "    </tr>\n",
       "  </tbody>\n",
       "</table>\n",
       "</div>"
      ],
      "text/plain": [
       "    Year  Month  DOW       Date  trip_count  trip_duration  trip_distance  \\\n",
       "0   2018      1    0 2018-01-01       22384  263853.966667       67911.34   \n",
       "5   2018      1    1 2018-01-02       22583  274362.416667       59493.64   \n",
       "10  2018      1    2 2018-01-03       25673  341670.100000       69394.22   \n",
       "15  2018      1    3 2018-01-04        6297   80896.516667       16403.10   \n",
       "19  2018      1    4 2018-01-05       26727  341303.233333       64290.25   \n",
       "\n",
       "        speed  \n",
       "0   15.442938  \n",
       "5   13.010595  \n",
       "10  12.186180  \n",
       "15  12.165987  \n",
       "19  11.302017  "
      ]
     },
     "execution_count": 15,
     "metadata": {},
     "output_type": "execute_result"
    }
   ],
   "source": [
    "dfTaxiDaily.head()"
   ]
  },
  {
   "cell_type": "code",
   "execution_count": 16,
   "metadata": {},
   "outputs": [
    {
     "data": {
      "image/png": "[encoded data removed]",
      "text/plain": [
       "<Figure size 640x480 with 1 Axes>"
      ]
     },
     "metadata": {},
     "output_type": "display_data"
    }
   ],
   "source": [
    "#ridership timeline - daily trip counts; seem to decline and particularly during the pandemics lockdown\n",
    "plt.plot(dfTaxiDaily['Date'], dfTaxiDaily['trip_count'])\n",
    "plt.xticks(rotation=70);\n",
    "plt.show()"
   ]
  },
  {
   "cell_type": "code",
   "execution_count": 17,
   "metadata": {},
   "outputs": [
    {
     "data": {
      "text/plain": [
       "<matplotlib.legend.Legend at 0x1c98c02dc10>"
      ]
     },
     "execution_count": 17,
     "metadata": {},
     "output_type": "execute_result"
    },
    {
     "data": {
      "image/png": "[encoded data removed]",
      "text/plain": [
       "<Figure size 640x480 with 1 Axes>"
      ]
     },
     "metadata": {},
     "output_type": "display_data"
    }
   ],
   "source": [
    "#histograms of daily counts in 2019 and 2018 - distributions look different\n",
    "plt.hist(dfTaxiDaily.loc[dfTaxiDaily['Year']==2018]['trip_count'].values,bins=30,label='2018')\n",
    "plt.hist(dfTaxiDaily.loc[dfTaxiDaily['Year']==2019]['trip_count'].values,bins=30,alpha=0.9,label='2019')\n",
    "#plt.hist(dfTaxiDaily.loc[dfTaxiDaily['Year']==2020]['trip_count'].values,bins=30,alpha=0.5,label='2020')\n",
    "plt.legend()"
   ]
  },
  {
   "cell_type": "code",
   "execution_count": 18,
   "metadata": {},
   "outputs": [
    {
     "data": {
      "text/plain": [
       "TtestResult(statistic=28.657087941915254, pvalue=1.666456504219968e-121, df=728.0)"
      ]
     },
     "execution_count": 18,
     "metadata": {},
     "output_type": "execute_result"
    }
   ],
   "source": [
    "## t-test between the 2019 and 2018 distributions\n",
    "stats.ttest_ind(dfTaxiDaily.loc[dfTaxiDaily['Year']==2018]['trip_count'],dfTaxiDaily.loc[dfTaxiDaily['Year']==2019]['trip_count'])"
   ]
  },
  {
   "cell_type": "code",
   "execution_count": 19,
   "metadata": {},
   "outputs": [
    {
     "data": {
      "text/plain": [
       "KstestResult(statistic=0.7287671232876712, pvalue=3.569826213988359e-94, statistic_location=18906, statistic_sign=-1)"
      ]
     },
     "execution_count": 19,
     "metadata": {},
     "output_type": "execute_result"
    }
   ],
   "source": [
    "## K-S test\n",
    "stats.ks_2samp(dfTaxiDaily.loc[dfTaxiDaily['Year']==2018]['trip_count'],dfTaxiDaily.loc[dfTaxiDaily['Year']==2019]['trip_count'])"
   ]
  },
  {
   "cell_type": "markdown",
   "metadata": {},
   "source": [
    "So the hypothesis that 2018 and 2019 daily trip counts follow the same distributions can be rejected beyond any reasonable doubt"
   ]
  },
  {
   "cell_type": "code",
   "execution_count": 20,
   "metadata": {},
   "outputs": [
    {
     "data": {
      "text/plain": [
       "(6050642, 6050642)"
      ]
     },
     "execution_count": 20,
     "metadata": {},
     "output_type": "execute_result"
    }
   ],
   "source": [
    "#For further analysis select the year 2019\n",
    "dfTaxiDaily2019 = dfTaxiDaily.loc[dfTaxiDaily['Year']==2019] #daily aggregates\n",
    "dfTaxi2019 = dfTaxi.loc[dfTaxi['Year']==2019] #individual trips\n",
    "(dfTaxiDaily2019['trip_count'].sum(),len(dfTaxi2019)) #total trip counts in either dataset"
   ]
  },
  {
   "cell_type": "markdown",
   "metadata": {},
   "source": [
    "## Example 1. Test if weekend ridership is different from weekday"
   ]
  },
  {
   "cell_type": "code",
   "execution_count": 21,
   "metadata": {},
   "outputs": [
    {
     "data": {
      "text/plain": [
       "TtestResult(statistic=-2.451880479058623, pvalue=0.014760749788942986, df=311.0)"
      ]
     },
     "execution_count": 21,
     "metadata": {},
     "output_type": "execute_result"
    }
   ],
   "source": [
    "# Monday is 0, Sunday is 6; weekends: DOW>4, weekdays: DOW<4\n",
    "# t-test\n",
    "stats.ttest_ind(dfTaxiDaily2019.loc[dfTaxiDaily2019['DOW']>4]['trip_count'],\n",
    "                dfTaxiDaily2019.loc[dfTaxiDaily2019['DOW']<4]['trip_count'])"
   ]
  },
  {
   "cell_type": "code",
   "execution_count": 22,
   "metadata": {},
   "outputs": [
    {
     "data": {
      "text/plain": [
       "KstestResult(statistic=0.19773647405226352, pvalue=0.0076234894582322054, statistic_location=13746, statistic_sign=1)"
      ]
     },
     "execution_count": 22,
     "metadata": {},
     "output_type": "execute_result"
    }
   ],
   "source": [
    "# Monday is 0, Sunday is 6; weekends: DOW>4, weekdays: DOW<4\n",
    "# KS-test\n",
    "stats.ks_2samp(dfTaxiDaily2019.loc[dfTaxiDaily2019['DOW']>4]['trip_count'],\n",
    "                dfTaxiDaily2019.loc[dfTaxiDaily2019['DOW']<4]['trip_count'])"
   ]
  },
  {
   "cell_type": "markdown",
   "metadata": {},
   "source": [
    "Reject the hypothesis that weekends and weekdays follow the same ridership distribution at 95\\% significance level"
   ]
  },
  {
   "cell_type": "markdown",
   "metadata": {},
   "source": [
    "## Example 2. Test if trip speed, duration or distance follow log-normal distributions"
   ]
  },
  {
   "cell_type": "code",
   "execution_count": 23,
   "metadata": {},
   "outputs": [
    {
     "data": {
      "text/plain": [
       "<Axes: >"
      ]
     },
     "execution_count": 23,
     "metadata": {},
     "output_type": "execute_result"
    },
    {
     "data": {
      "image/png": "[encoded data removed]",
      "text/plain": [
       "<Figure size 640x480 with 1 Axes>"
      ]
     },
     "metadata": {},
     "output_type": "display_data"
    }
   ],
   "source": [
    "#analyze the overall speed distribution (plot on log-scale)\n",
    "np.log(dfTaxi2019['speed']).hist(bins=100)"
   ]
  },
  {
   "cell_type": "code",
   "execution_count": 24,
   "metadata": {},
   "outputs": [
    {
     "data": {
      "text/plain": [
       "<Axes: >"
      ]
     },
     "execution_count": 24,
     "metadata": {},
     "output_type": "execute_result"
    },
    {
     "data": {
      "image/png": "[encoded data removed]",
      "text/plain": [
       "<Figure size 640x480 with 1 Axes>"
      ]
     },
     "metadata": {},
     "output_type": "display_data"
    }
   ],
   "source": [
    "#analyze the overall duration distribution (plot on log-scale)\n",
    "np.log(dfTaxi2019['trip_duration']).hist(bins=100)"
   ]
  },
  {
   "cell_type": "code",
   "execution_count": 25,
   "metadata": {},
   "outputs": [
    {
     "data": {
      "text/plain": [
       "<Axes: >"
      ]
     },
     "execution_count": 25,
     "metadata": {},
     "output_type": "execute_result"
    },
    {
     "data": {
      "image/png": "[encoded data removed]",
      "text/plain": [
       "<Figure size 640x480 with 1 Axes>"
      ]
     },
     "metadata": {},
     "output_type": "display_data"
    }
   ],
   "source": [
    "#analyze the overall duration distribution (plot on log-scale)\n",
    "np.log(dfTaxi2019['trip_distance']).hist(bins=100)"
   ]
  },
  {
   "cell_type": "code",
   "execution_count": 26,
   "metadata": {},
   "outputs": [],
   "source": [
    "def is_normal(x): #check if the distribution is normal using one-sample KS test and sample mean-std\n",
    "    return stats.kstest(x,'norm',args=(x.mean(),x.std()))"
   ]
  },
  {
   "cell_type": "code",
   "execution_count": 27,
   "metadata": {},
   "outputs": [
    {
     "data": {
      "text/plain": [
       "KstestResult(statistic=0.04112421439405889, pvalue=0.0, statistic_location=2.553899521274952, statistic_sign=1)"
      ]
     },
     "execution_count": 27,
     "metadata": {},
     "output_type": "execute_result"
    }
   ],
   "source": [
    "# is log-speed normally distributed?\n",
    "is_normal(np.log(dfTaxi2019['speed']))"
   ]
  },
  {
   "cell_type": "code",
   "execution_count": 28,
   "metadata": {},
   "outputs": [
    {
     "data": {
      "text/plain": [
       "KstestResult(statistic=0.009910381706450755, pvalue=0.0, statistic_location=3.2188758248682006, statistic_sign=-1)"
      ]
     },
     "execution_count": 28,
     "metadata": {},
     "output_type": "execute_result"
    }
   ],
   "source": [
    "# is log-duration normally distributed?\n",
    "is_normal(np.log(dfTaxi2019['trip_duration']))"
   ]
  },
  {
   "cell_type": "code",
   "execution_count": 29,
   "metadata": {},
   "outputs": [
    {
     "data": {
      "text/plain": [
       "KstestResult(statistic=0.038051991909565375, pvalue=0.0, statistic_location=0.5306282510621704, statistic_sign=1)"
      ]
     },
     "execution_count": 29,
     "metadata": {},
     "output_type": "execute_result"
    }
   ],
   "source": [
    "# is log-distance normally distributed?\n",
    "is_normal(np.log(dfTaxi2019['trip_distance']))"
   ]
  },
  {
   "cell_type": "code",
   "execution_count": 30,
   "metadata": {},
   "outputs": [],
   "source": [
    "#so none of those quantities have log-normal distribution (rejecting with 99.9999...% confidence)"
   ]
  },
  {
   "cell_type": "code",
   "execution_count": 31,
   "metadata": {},
   "outputs": [],
   "source": [
    "#what about daily average trip_count, duration, distance, speed?"
   ]
  },
  {
   "cell_type": "code",
   "execution_count": 32,
   "metadata": {},
   "outputs": [
    {
     "data": {
      "text/plain": [
       "KstestResult(statistic=0.08978473661157738, pvalue=0.0052026892522868615, statistic_location=15924, statistic_sign=1)"
      ]
     },
     "execution_count": 32,
     "metadata": {},
     "output_type": "execute_result"
    }
   ],
   "source": [
    "is_normal(dfTaxiDaily2019['trip_count']) #does not look normal"
   ]
  },
  {
   "cell_type": "code",
   "execution_count": 33,
   "metadata": {},
   "outputs": [
    {
     "data": {
      "text/plain": [
       "<matplotlib.legend.Legend at 0x1c8acd25a90>"
      ]
     },
     "execution_count": 33,
     "metadata": {},
     "output_type": "execute_result"
    },
    {
     "data": {
      "image/png": "[encoded data removed]",
      "text/plain": [
       "<Figure size 640x480 with 1 Axes>"
      ]
     },
     "metadata": {},
     "output_type": "display_data"
    }
   ],
   "source": [
    "#visualize empiric CDF's for trip-counts\n",
    "plt.hist(dfTaxiDaily2019['trip_count'].values, 50, density=True, \n",
    "         histtype='step',cumulative=True,label='trip count')\n",
    "plt.hist(np.random.normal(dfTaxiDaily2019['trip_count'].mean(), dfTaxiDaily2019['trip_count'].std(),\n",
    "                          len(dfTaxiDaily2019)), 50, density=True, \n",
    "         histtype='step',cumulative=True,label='same mean and std in gaussian distribution')\n",
    "plt.legend(loc='upper left')"
   ]
  },
  {
   "cell_type": "code",
   "execution_count": 34,
   "metadata": {},
   "outputs": [
    {
     "data": {
      "text/plain": [
       "KstestResult(statistic=0.05176889942437113, pvalue=0.2724527644257917, statistic_location=9.929691218032765, statistic_sign=-1)"
      ]
     },
     "execution_count": 34,
     "metadata": {},
     "output_type": "execute_result"
    }
   ],
   "source": [
    "is_normal(np.log(dfTaxiDaily2019['trip_count'])) #but might be log-normal"
   ]
  },
  {
   "cell_type": "code",
   "execution_count": 35,
   "metadata": {},
   "outputs": [
    {
     "data": {
      "text/plain": [
       "<matplotlib.legend.Legend at 0x1c98c3a6250>"
      ]
     },
     "execution_count": 35,
     "metadata": {},
     "output_type": "execute_result"
    },
    {
     "data": {
      "image/png": "[encoded data removed]",
      "text/plain": [
       "<Figure size 640x480 with 1 Axes>"
      ]
     },
     "metadata": {},
     "output_type": "display_data"
    }
   ],
   "source": [
    "#visualize empiric CDF's for log trip-counts\n",
    "plt.hist(np.log(dfTaxiDaily2019['trip_count'].values), 50, density=True, \n",
    "         histtype='step',cumulative=True,label='log trip count')\n",
    "plt.hist(np.random.normal(np.log(dfTaxiDaily2019['trip_count']).mean(), np.log(dfTaxiDaily2019['trip_count']).std(),\n",
    "                          len(dfTaxiDaily2019)), 50, density=True, \n",
    "         histtype='step',cumulative=True,label='same mean and std in gaussian distribution')\n",
    "plt.legend(loc='upper left')"
   ]
  },
  {
   "cell_type": "code",
   "execution_count": 36,
   "metadata": {},
   "outputs": [
    {
     "data": {
      "text/plain": [
       "KstestResult(statistic=0.08629102051381943, pvalue=0.008181442632356909, statistic_location=294726.48333333334, statistic_sign=1)"
      ]
     },
     "execution_count": 36,
     "metadata": {},
     "output_type": "execute_result"
    }
   ],
   "source": [
    "is_normal(dfTaxiDaily2019['trip_duration']) #could be normal"
   ]
  },
  {
   "cell_type": "code",
   "execution_count": 37,
   "metadata": {},
   "outputs": [
    {
     "data": {
      "text/plain": [
       "<Axes: >"
      ]
     },
     "execution_count": 37,
     "metadata": {},
     "output_type": "execute_result"
    },
    {
     "data": {
      "image/png": "[encoded data removed]",
      "text/plain": [
       "<Figure size 640x480 with 1 Axes>"
      ]
     },
     "metadata": {},
     "output_type": "display_data"
    }
   ],
   "source": [
    "dfTaxiDaily2019['trip_duration'].hist(bins=8)"
   ]
  },
  {
   "cell_type": "code",
   "execution_count": 38,
   "metadata": {},
   "outputs": [
    {
     "data": {
      "text/plain": [
       "<matplotlib.legend.Legend at 0x1c98c2d6bd0>"
      ]
     },
     "execution_count": 38,
     "metadata": {},
     "output_type": "execute_result"
    },
    {
     "data": {
      "image/png": "[encoded data removed]",
      "text/plain": [
       "<Figure size 640x480 with 1 Axes>"
      ]
     },
     "metadata": {},
     "output_type": "display_data"
    }
   ],
   "source": [
    "_ = plt.hist(dfTaxiDaily2019['trip_duration'].values, 50, density=True, \n",
    "         histtype='step',cumulative=True,label='trip duration')\n",
    "_ = plt.hist(np.random.normal(dfTaxiDaily2019['trip_duration'].mean(), \n",
    "                              dfTaxiDaily2019['trip_duration'].std(),\n",
    "                          len(dfTaxiDaily2019)), 50, density=True, \n",
    "         histtype='step',cumulative=True,label='same mean and std \\nin gaussian distribution')\n",
    "plt.legend(loc='upper left')"
   ]
  },
  {
   "cell_type": "code",
   "execution_count": 39,
   "metadata": {},
   "outputs": [
    {
     "data": {
      "text/plain": [
       "KstestResult(statistic=0.17163545001482683, pvalue=7.163182264727883e-10, statistic_location=61169.01, statistic_sign=1)"
      ]
     },
     "execution_count": 39,
     "metadata": {},
     "output_type": "execute_result"
    }
   ],
   "source": [
    "is_normal(dfTaxiDaily2019['trip_distance']) #does not look normal"
   ]
  },
  {
   "cell_type": "code",
   "execution_count": 40,
   "metadata": {},
   "outputs": [
    {
     "data": {
      "text/plain": [
       "KstestResult(statistic=0.12271548280911115, pvalue=3.005447778584722e-05, statistic_location=11.021395967701523, statistic_sign=1)"
      ]
     },
     "execution_count": 40,
     "metadata": {},
     "output_type": "execute_result"
    }
   ],
   "source": [
    "is_normal(np.log(dfTaxiDaily2019['trip_distance'])) #but might be log-normal"
   ]
  },
  {
   "cell_type": "code",
   "execution_count": 41,
   "metadata": {},
   "outputs": [
    {
     "data": {
      "text/plain": [
       "KstestResult(statistic=0.07628804961462937, pvalue=0.027073301479906164, statistic_location=12.833311327932032, statistic_sign=1)"
      ]
     },
     "execution_count": 41,
     "metadata": {},
     "output_type": "execute_result"
    }
   ],
   "source": [
    "is_normal(dfTaxiDaily2019['speed']) #might be normal"
   ]
  },
  {
   "cell_type": "code",
   "execution_count": 42,
   "metadata": {},
   "outputs": [
    {
     "data": {
      "text/plain": [
       "KstestResult(statistic=0.06791252706897999, pvalue=0.06584459147143584, statistic_location=2.552044237917564, statistic_sign=1)"
      ]
     },
     "execution_count": 42,
     "metadata": {},
     "output_type": "execute_result"
    }
   ],
   "source": [
    "is_normal(np.log(dfTaxiDaily2019['speed'])) #log-normal even more likely"
   ]
  },
  {
   "cell_type": "markdown",
   "metadata": {},
   "source": [
    "## Homework assignment"
   ]
  },
  {
   "cell_type": "markdown",
   "metadata": {},
   "source": [
    "## Task 1. Travel speed - hours of the day\n",
    "Traffic and travel speed might vary throughout the day. Select the trips happening on Oct, 1, 2019. a) Compute average travel speed per each hour of the day and visuale as a bar plot. Compare the speed distributions for: b) trip samples within an hour of 9am (Hour=9) and an hour of 10am, c) morning rush hour (two hours of 8 and 9am) and evening rush hour (two hours of 5pm(17) and 6pm(18)). Can you reject the hypothesis that the compared speed samples have the same mean(use t-test) and distribution (use ks-test) at a 95\\% significance level?"
   ]
  },
  {
   "cell_type": "code",
   "execution_count": 43,
   "metadata": {},
   "outputs": [
    {
     "data": {
      "text/html": [
       "<div>\n",
       "<style scoped>\n",
       "    .dataframe tbody tr th:only-of-type {\n",
       "        vertical-align: middle;\n",
       "    }\n",
       "\n",
       "    .dataframe tbody tr th {\n",
       "        vertical-align: top;\n",
       "    }\n",
       "\n",
       "    .dataframe thead th {\n",
       "        text-align: right;\n",
       "    }\n",
       "</style>\n",
       "<table border=\"1\" class=\"dataframe\">\n",
       "  <thead>\n",
       "    <tr style=\"text-align: right;\">\n",
       "      <th></th>\n",
       "      <th>VendorID</th>\n",
       "      <th>lpep_pickup_datetime</th>\n",
       "      <th>lpep_dropoff_datetime</th>\n",
       "      <th>store_and_fwd_flag</th>\n",
       "      <th>RatecodeID</th>\n",
       "      <th>PULocationID</th>\n",
       "      <th>DOLocationID</th>\n",
       "      <th>passenger_count</th>\n",
       "      <th>trip_distance</th>\n",
       "      <th>fare_amount</th>\n",
       "      <th>...</th>\n",
       "      <th>trip_type</th>\n",
       "      <th>congestion_surcharge</th>\n",
       "      <th>Date</th>\n",
       "      <th>Month</th>\n",
       "      <th>Year</th>\n",
       "      <th>DOW</th>\n",
       "      <th>Hour</th>\n",
       "      <th>Minute</th>\n",
       "      <th>trip_duration</th>\n",
       "      <th>speed</th>\n",
       "    </tr>\n",
       "  </thead>\n",
       "  <tbody>\n",
       "    <tr>\n",
       "      <th>13760139</th>\n",
       "      <td>2</td>\n",
       "      <td>2019-10-01 00:02:03</td>\n",
       "      <td>2019-10-01 00:03:34</td>\n",
       "      <td>N</td>\n",
       "      <td>1.0</td>\n",
       "      <td>166</td>\n",
       "      <td>166</td>\n",
       "      <td>1.0</td>\n",
       "      <td>0.36</td>\n",
       "      <td>3.5</td>\n",
       "      <td>...</td>\n",
       "      <td>1.0</td>\n",
       "      <td>0.0</td>\n",
       "      <td>2019-10-01</td>\n",
       "      <td>10</td>\n",
       "      <td>2019</td>\n",
       "      <td>1</td>\n",
       "      <td>0</td>\n",
       "      <td>2</td>\n",
       "      <td>1.516667</td>\n",
       "      <td>14.241758</td>\n",
       "    </tr>\n",
       "    <tr>\n",
       "      <th>13760341</th>\n",
       "      <td>2</td>\n",
       "      <td>2019-10-01 00:02:07</td>\n",
       "      <td>2019-10-01 00:12:34</td>\n",
       "      <td>N</td>\n",
       "      <td>1.0</td>\n",
       "      <td>130</td>\n",
       "      <td>205</td>\n",
       "      <td>1.0</td>\n",
       "      <td>2.85</td>\n",
       "      <td>11.0</td>\n",
       "      <td>...</td>\n",
       "      <td>1.0</td>\n",
       "      <td>0.0</td>\n",
       "      <td>2019-10-01</td>\n",
       "      <td>10</td>\n",
       "      <td>2019</td>\n",
       "      <td>1</td>\n",
       "      <td>0</td>\n",
       "      <td>2</td>\n",
       "      <td>10.450000</td>\n",
       "      <td>16.363636</td>\n",
       "    </tr>\n",
       "    <tr>\n",
       "      <th>13760379</th>\n",
       "      <td>2</td>\n",
       "      <td>2019-10-01 00:00:05</td>\n",
       "      <td>2019-10-01 00:05:50</td>\n",
       "      <td>N</td>\n",
       "      <td>1.0</td>\n",
       "      <td>256</td>\n",
       "      <td>37</td>\n",
       "      <td>1.0</td>\n",
       "      <td>1.21</td>\n",
       "      <td>6.5</td>\n",
       "      <td>...</td>\n",
       "      <td>1.0</td>\n",
       "      <td>0.0</td>\n",
       "      <td>2019-10-01</td>\n",
       "      <td>10</td>\n",
       "      <td>2019</td>\n",
       "      <td>1</td>\n",
       "      <td>0</td>\n",
       "      <td>0</td>\n",
       "      <td>5.750000</td>\n",
       "      <td>12.626087</td>\n",
       "    </tr>\n",
       "    <tr>\n",
       "      <th>13819523</th>\n",
       "      <td>2</td>\n",
       "      <td>2019-10-01 00:26:02</td>\n",
       "      <td>2019-10-01 00:39:58</td>\n",
       "      <td>N</td>\n",
       "      <td>1.0</td>\n",
       "      <td>112</td>\n",
       "      <td>196</td>\n",
       "      <td>1.0</td>\n",
       "      <td>5.88</td>\n",
       "      <td>18.0</td>\n",
       "      <td>...</td>\n",
       "      <td>1.0</td>\n",
       "      <td>0.0</td>\n",
       "      <td>2019-10-01</td>\n",
       "      <td>10</td>\n",
       "      <td>2019</td>\n",
       "      <td>1</td>\n",
       "      <td>0</td>\n",
       "      <td>26</td>\n",
       "      <td>13.933333</td>\n",
       "      <td>25.320574</td>\n",
       "    </tr>\n",
       "    <tr>\n",
       "      <th>13819524</th>\n",
       "      <td>1</td>\n",
       "      <td>2019-10-01 00:18:11</td>\n",
       "      <td>2019-10-01 00:22:38</td>\n",
       "      <td>N</td>\n",
       "      <td>1.0</td>\n",
       "      <td>43</td>\n",
       "      <td>263</td>\n",
       "      <td>1.0</td>\n",
       "      <td>0.80</td>\n",
       "      <td>5.0</td>\n",
       "      <td>...</td>\n",
       "      <td>1.0</td>\n",
       "      <td>0.0</td>\n",
       "      <td>2019-10-01</td>\n",
       "      <td>10</td>\n",
       "      <td>2019</td>\n",
       "      <td>1</td>\n",
       "      <td>0</td>\n",
       "      <td>18</td>\n",
       "      <td>4.450000</td>\n",
       "      <td>10.786517</td>\n",
       "    </tr>\n",
       "  </tbody>\n",
       "</table>\n",
       "<p>5 rows × 28 columns</p>\n",
       "</div>"
      ],
      "text/plain": [
       "          VendorID lpep_pickup_datetime lpep_dropoff_datetime  \\\n",
       "13760139         2  2019-10-01 00:02:03   2019-10-01 00:03:34   \n",
       "13760341         2  2019-10-01 00:02:07   2019-10-01 00:12:34   \n",
       "13760379         2  2019-10-01 00:00:05   2019-10-01 00:05:50   \n",
       "13819523         2  2019-10-01 00:26:02   2019-10-01 00:39:58   \n",
       "13819524         1  2019-10-01 00:18:11   2019-10-01 00:22:38   \n",
       "\n",
       "         store_and_fwd_flag  RatecodeID  PULocationID  DOLocationID  \\\n",
       "13760139                  N         1.0           166           166   \n",
       "13760341                  N         1.0           130           205   \n",
       "13760379                  N         1.0           256            37   \n",
       "13819523                  N         1.0           112           196   \n",
       "13819524                  N         1.0            43           263   \n",
       "\n",
       "          passenger_count  trip_distance  fare_amount  ...  trip_type  \\\n",
       "13760139              1.0           0.36          3.5  ...        1.0   \n",
       "13760341              1.0           2.85         11.0  ...        1.0   \n",
       "13760379              1.0           1.21          6.5  ...        1.0   \n",
       "13819523              1.0           5.88         18.0  ...        1.0   \n",
       "13819524              1.0           0.80          5.0  ...        1.0   \n",
       "\n",
       "          congestion_surcharge       Date  Month  Year  DOW  Hour  Minute  \\\n",
       "13760139                   0.0 2019-10-01     10  2019    1     0       2   \n",
       "13760341                   0.0 2019-10-01     10  2019    1     0       2   \n",
       "13760379                   0.0 2019-10-01     10  2019    1     0       0   \n",
       "13819523                   0.0 2019-10-01     10  2019    1     0      26   \n",
       "13819524                   0.0 2019-10-01     10  2019    1     0      18   \n",
       "\n",
       "          trip_duration      speed  \n",
       "13760139       1.516667  14.241758  \n",
       "13760341      10.450000  16.363636  \n",
       "13760379       5.750000  12.626087  \n",
       "13819523      13.933333  25.320574  \n",
       "13819524       4.450000  10.786517  \n",
       "\n",
       "[5 rows x 28 columns]"
      ]
     },
     "execution_count": 43,
     "metadata": {},
     "output_type": "execute_result"
    }
   ],
   "source": [
    "# Select the trips happening on Oct, 1, 2019\n",
    "dfTaxi_day=dfTaxi[(dfTaxi['Date']==pd.to_datetime('10/1/2019'))]\n",
    "dfTaxi_day.head()"
   ]
  },
  {
   "cell_type": "code",
   "execution_count": 44,
   "metadata": {},
   "outputs": [
    {
     "data": {
      "text/html": [
       "<div>\n",
       "<style scoped>\n",
       "    .dataframe tbody tr th:only-of-type {\n",
       "        vertical-align: middle;\n",
       "    }\n",
       "\n",
       "    .dataframe tbody tr th {\n",
       "        vertical-align: top;\n",
       "    }\n",
       "\n",
       "    .dataframe thead th {\n",
       "        text-align: right;\n",
       "    }\n",
       "</style>\n",
       "<table border=\"1\" class=\"dataframe\">\n",
       "  <thead>\n",
       "    <tr style=\"text-align: right;\">\n",
       "      <th></th>\n",
       "      <th>Year</th>\n",
       "      <th>Month</th>\n",
       "      <th>DOW</th>\n",
       "      <th>Date</th>\n",
       "      <th>Hour</th>\n",
       "      <th>trip_count</th>\n",
       "      <th>trip_duration</th>\n",
       "      <th>trip_distance</th>\n",
       "    </tr>\n",
       "  </thead>\n",
       "  <tbody>\n",
       "    <tr>\n",
       "      <th>0</th>\n",
       "      <td>2019</td>\n",
       "      <td>10</td>\n",
       "      <td>1</td>\n",
       "      <td>2019-10-01</td>\n",
       "      <td>0</td>\n",
       "      <td>214</td>\n",
       "      <td>2334.350000</td>\n",
       "      <td>668.85</td>\n",
       "    </tr>\n",
       "    <tr>\n",
       "      <th>1</th>\n",
       "      <td>2019</td>\n",
       "      <td>10</td>\n",
       "      <td>1</td>\n",
       "      <td>2019-10-01</td>\n",
       "      <td>1</td>\n",
       "      <td>127</td>\n",
       "      <td>1381.233333</td>\n",
       "      <td>385.41</td>\n",
       "    </tr>\n",
       "    <tr>\n",
       "      <th>2</th>\n",
       "      <td>2019</td>\n",
       "      <td>10</td>\n",
       "      <td>1</td>\n",
       "      <td>2019-10-01</td>\n",
       "      <td>2</td>\n",
       "      <td>72</td>\n",
       "      <td>782.450000</td>\n",
       "      <td>215.77</td>\n",
       "    </tr>\n",
       "    <tr>\n",
       "      <th>3</th>\n",
       "      <td>2019</td>\n",
       "      <td>10</td>\n",
       "      <td>1</td>\n",
       "      <td>2019-10-01</td>\n",
       "      <td>3</td>\n",
       "      <td>79</td>\n",
       "      <td>923.000000</td>\n",
       "      <td>318.19</td>\n",
       "    </tr>\n",
       "    <tr>\n",
       "      <th>4</th>\n",
       "      <td>2019</td>\n",
       "      <td>10</td>\n",
       "      <td>1</td>\n",
       "      <td>2019-10-01</td>\n",
       "      <td>4</td>\n",
       "      <td>86</td>\n",
       "      <td>1285.066667</td>\n",
       "      <td>507.86</td>\n",
       "    </tr>\n",
       "  </tbody>\n",
       "</table>\n",
       "</div>"
      ],
      "text/plain": [
       "   Year  Month  DOW       Date  Hour  trip_count  trip_duration  trip_distance\n",
       "0  2019     10    1 2019-10-01     0         214    2334.350000         668.85\n",
       "1  2019     10    1 2019-10-01     1         127    1381.233333         385.41\n",
       "2  2019     10    1 2019-10-01     2          72     782.450000         215.77\n",
       "3  2019     10    1 2019-10-01     3          79     923.000000         318.19\n",
       "4  2019     10    1 2019-10-01     4          86    1285.066667         507.86"
      ]
     },
     "execution_count": 44,
     "metadata": {},
     "output_type": "execute_result"
    }
   ],
   "source": [
    "dfTaxi_hour = dfTaxi_day.groupby(['Year','Month','DOW','Date','Hour']).\\\n",
    "            agg({'lpep_pickup_datetime':'count','trip_duration':'sum','trip_distance':'sum'}).\\\n",
    "            rename(columns={'lpep_pickup_datetime':'trip_count'}).reset_index()\n",
    "dfTaxi_hour = dfTaxi_hour.sort_values(by=['Hour'])\n",
    "dfTaxi_hour.head()"
   ]
  },
  {
   "cell_type": "code",
   "execution_count": 45,
   "metadata": {},
   "outputs": [
    {
     "data": {
      "text/html": [
       "<div>\n",
       "<style scoped>\n",
       "    .dataframe tbody tr th:only-of-type {\n",
       "        vertical-align: middle;\n",
       "    }\n",
       "\n",
       "    .dataframe tbody tr th {\n",
       "        vertical-align: top;\n",
       "    }\n",
       "\n",
       "    .dataframe thead th {\n",
       "        text-align: right;\n",
       "    }\n",
       "</style>\n",
       "<table border=\"1\" class=\"dataframe\">\n",
       "  <thead>\n",
       "    <tr style=\"text-align: right;\">\n",
       "      <th></th>\n",
       "      <th>Year</th>\n",
       "      <th>Month</th>\n",
       "      <th>DOW</th>\n",
       "      <th>Date</th>\n",
       "      <th>Hour</th>\n",
       "      <th>trip_count</th>\n",
       "      <th>trip_duration</th>\n",
       "      <th>trip_distance</th>\n",
       "      <th>speed</th>\n",
       "    </tr>\n",
       "  </thead>\n",
       "  <tbody>\n",
       "    <tr>\n",
       "      <th>0</th>\n",
       "      <td>2019</td>\n",
       "      <td>10</td>\n",
       "      <td>1</td>\n",
       "      <td>2019-10-01</td>\n",
       "      <td>0</td>\n",
       "      <td>214</td>\n",
       "      <td>2334.350000</td>\n",
       "      <td>668.85</td>\n",
       "      <td>17.191509</td>\n",
       "    </tr>\n",
       "    <tr>\n",
       "      <th>1</th>\n",
       "      <td>2019</td>\n",
       "      <td>10</td>\n",
       "      <td>1</td>\n",
       "      <td>2019-10-01</td>\n",
       "      <td>1</td>\n",
       "      <td>127</td>\n",
       "      <td>1381.233333</td>\n",
       "      <td>385.41</td>\n",
       "      <td>16.741994</td>\n",
       "    </tr>\n",
       "    <tr>\n",
       "      <th>2</th>\n",
       "      <td>2019</td>\n",
       "      <td>10</td>\n",
       "      <td>1</td>\n",
       "      <td>2019-10-01</td>\n",
       "      <td>2</td>\n",
       "      <td>72</td>\n",
       "      <td>782.450000</td>\n",
       "      <td>215.77</td>\n",
       "      <td>16.545722</td>\n",
       "    </tr>\n",
       "    <tr>\n",
       "      <th>3</th>\n",
       "      <td>2019</td>\n",
       "      <td>10</td>\n",
       "      <td>1</td>\n",
       "      <td>2019-10-01</td>\n",
       "      <td>3</td>\n",
       "      <td>79</td>\n",
       "      <td>923.000000</td>\n",
       "      <td>318.19</td>\n",
       "      <td>20.684074</td>\n",
       "    </tr>\n",
       "    <tr>\n",
       "      <th>4</th>\n",
       "      <td>2019</td>\n",
       "      <td>10</td>\n",
       "      <td>1</td>\n",
       "      <td>2019-10-01</td>\n",
       "      <td>4</td>\n",
       "      <td>86</td>\n",
       "      <td>1285.066667</td>\n",
       "      <td>507.86</td>\n",
       "      <td>23.712077</td>\n",
       "    </tr>\n",
       "  </tbody>\n",
       "</table>\n",
       "</div>"
      ],
      "text/plain": [
       "   Year  Month  DOW       Date  Hour  trip_count  trip_duration  \\\n",
       "0  2019     10    1 2019-10-01     0         214    2334.350000   \n",
       "1  2019     10    1 2019-10-01     1         127    1381.233333   \n",
       "2  2019     10    1 2019-10-01     2          72     782.450000   \n",
       "3  2019     10    1 2019-10-01     3          79     923.000000   \n",
       "4  2019     10    1 2019-10-01     4          86    1285.066667   \n",
       "\n",
       "   trip_distance      speed  \n",
       "0         668.85  17.191509  \n",
       "1         385.41  16.741994  \n",
       "2         215.77  16.545722  \n",
       "3         318.19  20.684074  \n",
       "4         507.86  23.712077  "
      ]
     },
     "execution_count": 45,
     "metadata": {},
     "output_type": "execute_result"
    }
   ],
   "source": [
    "# Compute average travel speed per each hour of the day\n",
    "dfTaxi_hour['speed'] = dfTaxi_hour['trip_distance'] / (dfTaxi_hour['trip_duration'] / 60)\n",
    "dfTaxi_hour.head()"
   ]
  },
  {
   "cell_type": "code",
   "execution_count": 46,
   "metadata": {
    "tags": []
   },
   "outputs": [
    {
     "data": {
      "text/plain": [
       "<BarContainer object of 24 artists>"
      ]
     },
     "execution_count": 46,
     "metadata": {},
     "output_type": "execute_result"
    },
    {
     "data": {
      "image/png": "[encoded data removed]",
      "text/plain": [
       "<Figure size 640x480 with 1 Axes>"
      ]
     },
     "metadata": {},
     "output_type": "display_data"
    }
   ],
   "source": [
    "#visuale as a bar plot\n",
    "plt.bar(dfTaxi_hour['Hour'], dfTaxi_hour['speed'])"
   ]
  },
  {
   "cell_type": "code",
   "execution_count": 47,
   "metadata": {},
   "outputs": [],
   "source": [
    "# trip samples within an hour of 9am (Hour=9) and an hour of 10am\n",
    "# the hypothesis that the compared speed samples have the same mean(use t-test) and distribution (use ks-test) at a 95% significance level"
   ]
  },
  {
   "cell_type": "code",
   "execution_count": 48,
   "metadata": {
    "tags": []
   },
   "outputs": [
    {
     "data": {
      "text/html": [
       "<div>\n",
       "<style scoped>\n",
       "    .dataframe tbody tr th:only-of-type {\n",
       "        vertical-align: middle;\n",
       "    }\n",
       "\n",
       "    .dataframe tbody tr th {\n",
       "        vertical-align: top;\n",
       "    }\n",
       "\n",
       "    .dataframe thead th {\n",
       "        text-align: right;\n",
       "    }\n",
       "</style>\n",
       "<table border=\"1\" class=\"dataframe\">\n",
       "  <thead>\n",
       "    <tr style=\"text-align: right;\">\n",
       "      <th></th>\n",
       "      <th>VendorID</th>\n",
       "      <th>lpep_pickup_datetime</th>\n",
       "      <th>lpep_dropoff_datetime</th>\n",
       "      <th>store_and_fwd_flag</th>\n",
       "      <th>RatecodeID</th>\n",
       "      <th>PULocationID</th>\n",
       "      <th>DOLocationID</th>\n",
       "      <th>passenger_count</th>\n",
       "      <th>trip_distance</th>\n",
       "      <th>fare_amount</th>\n",
       "      <th>...</th>\n",
       "      <th>trip_type</th>\n",
       "      <th>congestion_surcharge</th>\n",
       "      <th>Date</th>\n",
       "      <th>Month</th>\n",
       "      <th>Year</th>\n",
       "      <th>DOW</th>\n",
       "      <th>Hour</th>\n",
       "      <th>Minute</th>\n",
       "      <th>trip_duration</th>\n",
       "      <th>speed</th>\n",
       "    </tr>\n",
       "  </thead>\n",
       "  <tbody>\n",
       "    <tr>\n",
       "      <th>13760139</th>\n",
       "      <td>2</td>\n",
       "      <td>2019-10-01 00:02:03</td>\n",
       "      <td>2019-10-01 00:03:34</td>\n",
       "      <td>N</td>\n",
       "      <td>1.0</td>\n",
       "      <td>166</td>\n",
       "      <td>166</td>\n",
       "      <td>1.0</td>\n",
       "      <td>0.36</td>\n",
       "      <td>3.5</td>\n",
       "      <td>...</td>\n",
       "      <td>1.0</td>\n",
       "      <td>0.0</td>\n",
       "      <td>2019-10-01</td>\n",
       "      <td>10</td>\n",
       "      <td>2019</td>\n",
       "      <td>1</td>\n",
       "      <td>0</td>\n",
       "      <td>2</td>\n",
       "      <td>1.516667</td>\n",
       "      <td>14.241758</td>\n",
       "    </tr>\n",
       "    <tr>\n",
       "      <th>13760341</th>\n",
       "      <td>2</td>\n",
       "      <td>2019-10-01 00:02:07</td>\n",
       "      <td>2019-10-01 00:12:34</td>\n",
       "      <td>N</td>\n",
       "      <td>1.0</td>\n",
       "      <td>130</td>\n",
       "      <td>205</td>\n",
       "      <td>1.0</td>\n",
       "      <td>2.85</td>\n",
       "      <td>11.0</td>\n",
       "      <td>...</td>\n",
       "      <td>1.0</td>\n",
       "      <td>0.0</td>\n",
       "      <td>2019-10-01</td>\n",
       "      <td>10</td>\n",
       "      <td>2019</td>\n",
       "      <td>1</td>\n",
       "      <td>0</td>\n",
       "      <td>2</td>\n",
       "      <td>10.450000</td>\n",
       "      <td>16.363636</td>\n",
       "    </tr>\n",
       "    <tr>\n",
       "      <th>13760379</th>\n",
       "      <td>2</td>\n",
       "      <td>2019-10-01 00:00:05</td>\n",
       "      <td>2019-10-01 00:05:50</td>\n",
       "      <td>N</td>\n",
       "      <td>1.0</td>\n",
       "      <td>256</td>\n",
       "      <td>37</td>\n",
       "      <td>1.0</td>\n",
       "      <td>1.21</td>\n",
       "      <td>6.5</td>\n",
       "      <td>...</td>\n",
       "      <td>1.0</td>\n",
       "      <td>0.0</td>\n",
       "      <td>2019-10-01</td>\n",
       "      <td>10</td>\n",
       "      <td>2019</td>\n",
       "      <td>1</td>\n",
       "      <td>0</td>\n",
       "      <td>0</td>\n",
       "      <td>5.750000</td>\n",
       "      <td>12.626087</td>\n",
       "    </tr>\n",
       "    <tr>\n",
       "      <th>13819523</th>\n",
       "      <td>2</td>\n",
       "      <td>2019-10-01 00:26:02</td>\n",
       "      <td>2019-10-01 00:39:58</td>\n",
       "      <td>N</td>\n",
       "      <td>1.0</td>\n",
       "      <td>112</td>\n",
       "      <td>196</td>\n",
       "      <td>1.0</td>\n",
       "      <td>5.88</td>\n",
       "      <td>18.0</td>\n",
       "      <td>...</td>\n",
       "      <td>1.0</td>\n",
       "      <td>0.0</td>\n",
       "      <td>2019-10-01</td>\n",
       "      <td>10</td>\n",
       "      <td>2019</td>\n",
       "      <td>1</td>\n",
       "      <td>0</td>\n",
       "      <td>26</td>\n",
       "      <td>13.933333</td>\n",
       "      <td>25.320574</td>\n",
       "    </tr>\n",
       "    <tr>\n",
       "      <th>13819524</th>\n",
       "      <td>1</td>\n",
       "      <td>2019-10-01 00:18:11</td>\n",
       "      <td>2019-10-01 00:22:38</td>\n",
       "      <td>N</td>\n",
       "      <td>1.0</td>\n",
       "      <td>43</td>\n",
       "      <td>263</td>\n",
       "      <td>1.0</td>\n",
       "      <td>0.80</td>\n",
       "      <td>5.0</td>\n",
       "      <td>...</td>\n",
       "      <td>1.0</td>\n",
       "      <td>0.0</td>\n",
       "      <td>2019-10-01</td>\n",
       "      <td>10</td>\n",
       "      <td>2019</td>\n",
       "      <td>1</td>\n",
       "      <td>0</td>\n",
       "      <td>18</td>\n",
       "      <td>4.450000</td>\n",
       "      <td>10.786517</td>\n",
       "    </tr>\n",
       "  </tbody>\n",
       "</table>\n",
       "<p>5 rows × 28 columns</p>\n",
       "</div>"
      ],
      "text/plain": [
       "          VendorID lpep_pickup_datetime lpep_dropoff_datetime  \\\n",
       "13760139         2  2019-10-01 00:02:03   2019-10-01 00:03:34   \n",
       "13760341         2  2019-10-01 00:02:07   2019-10-01 00:12:34   \n",
       "13760379         2  2019-10-01 00:00:05   2019-10-01 00:05:50   \n",
       "13819523         2  2019-10-01 00:26:02   2019-10-01 00:39:58   \n",
       "13819524         1  2019-10-01 00:18:11   2019-10-01 00:22:38   \n",
       "\n",
       "         store_and_fwd_flag  RatecodeID  PULocationID  DOLocationID  \\\n",
       "13760139                  N         1.0           166           166   \n",
       "13760341                  N         1.0           130           205   \n",
       "13760379                  N         1.0           256            37   \n",
       "13819523                  N         1.0           112           196   \n",
       "13819524                  N         1.0            43           263   \n",
       "\n",
       "          passenger_count  trip_distance  fare_amount  ...  trip_type  \\\n",
       "13760139              1.0           0.36          3.5  ...        1.0   \n",
       "13760341              1.0           2.85         11.0  ...        1.0   \n",
       "13760379              1.0           1.21          6.5  ...        1.0   \n",
       "13819523              1.0           5.88         18.0  ...        1.0   \n",
       "13819524              1.0           0.80          5.0  ...        1.0   \n",
       "\n",
       "          congestion_surcharge       Date  Month  Year  DOW  Hour  Minute  \\\n",
       "13760139                   0.0 2019-10-01     10  2019    1     0       2   \n",
       "13760341                   0.0 2019-10-01     10  2019    1     0       2   \n",
       "13760379                   0.0 2019-10-01     10  2019    1     0       0   \n",
       "13819523                   0.0 2019-10-01     10  2019    1     0      26   \n",
       "13819524                   0.0 2019-10-01     10  2019    1     0      18   \n",
       "\n",
       "          trip_duration      speed  \n",
       "13760139       1.516667  14.241758  \n",
       "13760341      10.450000  16.363636  \n",
       "13760379       5.750000  12.626087  \n",
       "13819523      13.933333  25.320574  \n",
       "13819524       4.450000  10.786517  \n",
       "\n",
       "[5 rows x 28 columns]"
      ]
     },
     "execution_count": 48,
     "metadata": {},
     "output_type": "execute_result"
    }
   ],
   "source": [
    "dfTaxi_day.head()"
   ]
  },
  {
   "cell_type": "raw",
   "metadata": {
    "tags": []
   },
   "source": [
    "dfTaxi_day['hour'] = dfTaxi_day['lpep_pickup_datetime'].dt.hour\n",
    "dfTaxi_day['minutes'] = dfTaxi_day['lpep_pickup_datetime'].dt.minute\n",
    "dfTaxi_day['seconds'] = dfTaxi_day['lpep_pickup_datetime'].dt.second "
   ]
  },
  {
   "cell_type": "code",
   "execution_count": 49,
   "metadata": {
    "tags": []
   },
   "outputs": [
    {
     "data": {
      "text/html": [
       "<div>\n",
       "<style scoped>\n",
       "    .dataframe tbody tr th:only-of-type {\n",
       "        vertical-align: middle;\n",
       "    }\n",
       "\n",
       "    .dataframe tbody tr th {\n",
       "        vertical-align: top;\n",
       "    }\n",
       "\n",
       "    .dataframe thead th {\n",
       "        text-align: right;\n",
       "    }\n",
       "</style>\n",
       "<table border=\"1\" class=\"dataframe\">\n",
       "  <thead>\n",
       "    <tr style=\"text-align: right;\">\n",
       "      <th></th>\n",
       "      <th>VendorID</th>\n",
       "      <th>lpep_pickup_datetime</th>\n",
       "      <th>lpep_dropoff_datetime</th>\n",
       "      <th>store_and_fwd_flag</th>\n",
       "      <th>RatecodeID</th>\n",
       "      <th>PULocationID</th>\n",
       "      <th>DOLocationID</th>\n",
       "      <th>passenger_count</th>\n",
       "      <th>trip_distance</th>\n",
       "      <th>fare_amount</th>\n",
       "      <th>...</th>\n",
       "      <th>trip_type</th>\n",
       "      <th>congestion_surcharge</th>\n",
       "      <th>Date</th>\n",
       "      <th>Month</th>\n",
       "      <th>Year</th>\n",
       "      <th>DOW</th>\n",
       "      <th>Hour</th>\n",
       "      <th>Minute</th>\n",
       "      <th>trip_duration</th>\n",
       "      <th>speed</th>\n",
       "    </tr>\n",
       "  </thead>\n",
       "  <tbody>\n",
       "    <tr>\n",
       "      <th>13760139</th>\n",
       "      <td>2</td>\n",
       "      <td>2019-10-01 00:02:03</td>\n",
       "      <td>2019-10-01 00:03:34</td>\n",
       "      <td>N</td>\n",
       "      <td>1.0</td>\n",
       "      <td>166</td>\n",
       "      <td>166</td>\n",
       "      <td>1.0</td>\n",
       "      <td>0.36</td>\n",
       "      <td>3.5</td>\n",
       "      <td>...</td>\n",
       "      <td>1.0</td>\n",
       "      <td>0.0</td>\n",
       "      <td>2019-10-01</td>\n",
       "      <td>10</td>\n",
       "      <td>2019</td>\n",
       "      <td>1</td>\n",
       "      <td>0</td>\n",
       "      <td>2</td>\n",
       "      <td>1.516667</td>\n",
       "      <td>14.241758</td>\n",
       "    </tr>\n",
       "    <tr>\n",
       "      <th>13760341</th>\n",
       "      <td>2</td>\n",
       "      <td>2019-10-01 00:02:07</td>\n",
       "      <td>2019-10-01 00:12:34</td>\n",
       "      <td>N</td>\n",
       "      <td>1.0</td>\n",
       "      <td>130</td>\n",
       "      <td>205</td>\n",
       "      <td>1.0</td>\n",
       "      <td>2.85</td>\n",
       "      <td>11.0</td>\n",
       "      <td>...</td>\n",
       "      <td>1.0</td>\n",
       "      <td>0.0</td>\n",
       "      <td>2019-10-01</td>\n",
       "      <td>10</td>\n",
       "      <td>2019</td>\n",
       "      <td>1</td>\n",
       "      <td>0</td>\n",
       "      <td>2</td>\n",
       "      <td>10.450000</td>\n",
       "      <td>16.363636</td>\n",
       "    </tr>\n",
       "    <tr>\n",
       "      <th>13760379</th>\n",
       "      <td>2</td>\n",
       "      <td>2019-10-01 00:00:05</td>\n",
       "      <td>2019-10-01 00:05:50</td>\n",
       "      <td>N</td>\n",
       "      <td>1.0</td>\n",
       "      <td>256</td>\n",
       "      <td>37</td>\n",
       "      <td>1.0</td>\n",
       "      <td>1.21</td>\n",
       "      <td>6.5</td>\n",
       "      <td>...</td>\n",
       "      <td>1.0</td>\n",
       "      <td>0.0</td>\n",
       "      <td>2019-10-01</td>\n",
       "      <td>10</td>\n",
       "      <td>2019</td>\n",
       "      <td>1</td>\n",
       "      <td>0</td>\n",
       "      <td>0</td>\n",
       "      <td>5.750000</td>\n",
       "      <td>12.626087</td>\n",
       "    </tr>\n",
       "    <tr>\n",
       "      <th>13819523</th>\n",
       "      <td>2</td>\n",
       "      <td>2019-10-01 00:26:02</td>\n",
       "      <td>2019-10-01 00:39:58</td>\n",
       "      <td>N</td>\n",
       "      <td>1.0</td>\n",
       "      <td>112</td>\n",
       "      <td>196</td>\n",
       "      <td>1.0</td>\n",
       "      <td>5.88</td>\n",
       "      <td>18.0</td>\n",
       "      <td>...</td>\n",
       "      <td>1.0</td>\n",
       "      <td>0.0</td>\n",
       "      <td>2019-10-01</td>\n",
       "      <td>10</td>\n",
       "      <td>2019</td>\n",
       "      <td>1</td>\n",
       "      <td>0</td>\n",
       "      <td>26</td>\n",
       "      <td>13.933333</td>\n",
       "      <td>25.320574</td>\n",
       "    </tr>\n",
       "    <tr>\n",
       "      <th>13819524</th>\n",
       "      <td>1</td>\n",
       "      <td>2019-10-01 00:18:11</td>\n",
       "      <td>2019-10-01 00:22:38</td>\n",
       "      <td>N</td>\n",
       "      <td>1.0</td>\n",
       "      <td>43</td>\n",
       "      <td>263</td>\n",
       "      <td>1.0</td>\n",
       "      <td>0.80</td>\n",
       "      <td>5.0</td>\n",
       "      <td>...</td>\n",
       "      <td>1.0</td>\n",
       "      <td>0.0</td>\n",
       "      <td>2019-10-01</td>\n",
       "      <td>10</td>\n",
       "      <td>2019</td>\n",
       "      <td>1</td>\n",
       "      <td>0</td>\n",
       "      <td>18</td>\n",
       "      <td>4.450000</td>\n",
       "      <td>10.786517</td>\n",
       "    </tr>\n",
       "  </tbody>\n",
       "</table>\n",
       "<p>5 rows × 28 columns</p>\n",
       "</div>"
      ],
      "text/plain": [
       "          VendorID lpep_pickup_datetime lpep_dropoff_datetime  \\\n",
       "13760139         2  2019-10-01 00:02:03   2019-10-01 00:03:34   \n",
       "13760341         2  2019-10-01 00:02:07   2019-10-01 00:12:34   \n",
       "13760379         2  2019-10-01 00:00:05   2019-10-01 00:05:50   \n",
       "13819523         2  2019-10-01 00:26:02   2019-10-01 00:39:58   \n",
       "13819524         1  2019-10-01 00:18:11   2019-10-01 00:22:38   \n",
       "\n",
       "         store_and_fwd_flag  RatecodeID  PULocationID  DOLocationID  \\\n",
       "13760139                  N         1.0           166           166   \n",
       "13760341                  N         1.0           130           205   \n",
       "13760379                  N         1.0           256            37   \n",
       "13819523                  N         1.0           112           196   \n",
       "13819524                  N         1.0            43           263   \n",
       "\n",
       "          passenger_count  trip_distance  fare_amount  ...  trip_type  \\\n",
       "13760139              1.0           0.36          3.5  ...        1.0   \n",
       "13760341              1.0           2.85         11.0  ...        1.0   \n",
       "13760379              1.0           1.21          6.5  ...        1.0   \n",
       "13819523              1.0           5.88         18.0  ...        1.0   \n",
       "13819524              1.0           0.80          5.0  ...        1.0   \n",
       "\n",
       "          congestion_surcharge       Date  Month  Year  DOW  Hour  Minute  \\\n",
       "13760139                   0.0 2019-10-01     10  2019    1     0       2   \n",
       "13760341                   0.0 2019-10-01     10  2019    1     0       2   \n",
       "13760379                   0.0 2019-10-01     10  2019    1     0       0   \n",
       "13819523                   0.0 2019-10-01     10  2019    1     0      26   \n",
       "13819524                   0.0 2019-10-01     10  2019    1     0      18   \n",
       "\n",
       "          trip_duration      speed  \n",
       "13760139       1.516667  14.241758  \n",
       "13760341      10.450000  16.363636  \n",
       "13760379       5.750000  12.626087  \n",
       "13819523      13.933333  25.320574  \n",
       "13819524       4.450000  10.786517  \n",
       "\n",
       "[5 rows x 28 columns]"
      ]
     },
     "execution_count": 49,
     "metadata": {},
     "output_type": "execute_result"
    }
   ],
   "source": [
    "dfTaxi_day.head()"
   ]
  },
  {
   "cell_type": "code",
   "execution_count": 50,
   "metadata": {
    "tags": []
   },
   "outputs": [
    {
     "data": {
      "text/html": [
       "<div>\n",
       "<style scoped>\n",
       "    .dataframe tbody tr th:only-of-type {\n",
       "        vertical-align: middle;\n",
       "    }\n",
       "\n",
       "    .dataframe tbody tr th {\n",
       "        vertical-align: top;\n",
       "    }\n",
       "\n",
       "    .dataframe thead th {\n",
       "        text-align: right;\n",
       "    }\n",
       "</style>\n",
       "<table border=\"1\" class=\"dataframe\">\n",
       "  <thead>\n",
       "    <tr style=\"text-align: right;\">\n",
       "      <th></th>\n",
       "      <th>VendorID</th>\n",
       "      <th>lpep_pickup_datetime</th>\n",
       "      <th>lpep_dropoff_datetime</th>\n",
       "      <th>store_and_fwd_flag</th>\n",
       "      <th>RatecodeID</th>\n",
       "      <th>PULocationID</th>\n",
       "      <th>DOLocationID</th>\n",
       "      <th>passenger_count</th>\n",
       "      <th>trip_distance</th>\n",
       "      <th>fare_amount</th>\n",
       "      <th>...</th>\n",
       "      <th>trip_type</th>\n",
       "      <th>congestion_surcharge</th>\n",
       "      <th>Date</th>\n",
       "      <th>Month</th>\n",
       "      <th>Year</th>\n",
       "      <th>DOW</th>\n",
       "      <th>Hour</th>\n",
       "      <th>Minute</th>\n",
       "      <th>trip_duration</th>\n",
       "      <th>speed</th>\n",
       "    </tr>\n",
       "  </thead>\n",
       "  <tbody>\n",
       "    <tr>\n",
       "      <th>13820885</th>\n",
       "      <td>2</td>\n",
       "      <td>2019-10-01 09:15:09</td>\n",
       "      <td>2019-10-01 09:38:55</td>\n",
       "      <td>N</td>\n",
       "      <td>1.0</td>\n",
       "      <td>244</td>\n",
       "      <td>68</td>\n",
       "      <td>5.0</td>\n",
       "      <td>8.65</td>\n",
       "      <td>26.5</td>\n",
       "      <td>...</td>\n",
       "      <td>1.0</td>\n",
       "      <td>2.75</td>\n",
       "      <td>2019-10-01</td>\n",
       "      <td>10</td>\n",
       "      <td>2019</td>\n",
       "      <td>1</td>\n",
       "      <td>9</td>\n",
       "      <td>15</td>\n",
       "      <td>23.766667</td>\n",
       "      <td>21.837307</td>\n",
       "    </tr>\n",
       "    <tr>\n",
       "      <th>13820907</th>\n",
       "      <td>2</td>\n",
       "      <td>2019-10-01 09:03:15</td>\n",
       "      <td>2019-10-01 09:07:27</td>\n",
       "      <td>N</td>\n",
       "      <td>1.0</td>\n",
       "      <td>41</td>\n",
       "      <td>41</td>\n",
       "      <td>1.0</td>\n",
       "      <td>0.79</td>\n",
       "      <td>5.0</td>\n",
       "      <td>...</td>\n",
       "      <td>1.0</td>\n",
       "      <td>0.00</td>\n",
       "      <td>2019-10-01</td>\n",
       "      <td>10</td>\n",
       "      <td>2019</td>\n",
       "      <td>1</td>\n",
       "      <td>9</td>\n",
       "      <td>3</td>\n",
       "      <td>4.200000</td>\n",
       "      <td>11.285714</td>\n",
       "    </tr>\n",
       "    <tr>\n",
       "      <th>13820913</th>\n",
       "      <td>2</td>\n",
       "      <td>2019-10-01 09:01:15</td>\n",
       "      <td>2019-10-01 09:16:41</td>\n",
       "      <td>N</td>\n",
       "      <td>1.0</td>\n",
       "      <td>74</td>\n",
       "      <td>244</td>\n",
       "      <td>5.0</td>\n",
       "      <td>3.91</td>\n",
       "      <td>15.0</td>\n",
       "      <td>...</td>\n",
       "      <td>1.0</td>\n",
       "      <td>0.00</td>\n",
       "      <td>2019-10-01</td>\n",
       "      <td>10</td>\n",
       "      <td>2019</td>\n",
       "      <td>1</td>\n",
       "      <td>9</td>\n",
       "      <td>1</td>\n",
       "      <td>15.433333</td>\n",
       "      <td>15.200864</td>\n",
       "    </tr>\n",
       "    <tr>\n",
       "      <th>13820945</th>\n",
       "      <td>2</td>\n",
       "      <td>2019-10-01 09:06:33</td>\n",
       "      <td>2019-10-01 09:09:19</td>\n",
       "      <td>N</td>\n",
       "      <td>1.0</td>\n",
       "      <td>52</td>\n",
       "      <td>33</td>\n",
       "      <td>1.0</td>\n",
       "      <td>0.58</td>\n",
       "      <td>4.0</td>\n",
       "      <td>...</td>\n",
       "      <td>1.0</td>\n",
       "      <td>0.00</td>\n",
       "      <td>2019-10-01</td>\n",
       "      <td>10</td>\n",
       "      <td>2019</td>\n",
       "      <td>1</td>\n",
       "      <td>9</td>\n",
       "      <td>6</td>\n",
       "      <td>2.766667</td>\n",
       "      <td>12.578313</td>\n",
       "    </tr>\n",
       "    <tr>\n",
       "      <th>13821001</th>\n",
       "      <td>2</td>\n",
       "      <td>2019-10-01 09:14:58</td>\n",
       "      <td>2019-10-01 09:29:28</td>\n",
       "      <td>N</td>\n",
       "      <td>1.0</td>\n",
       "      <td>159</td>\n",
       "      <td>74</td>\n",
       "      <td>1.0</td>\n",
       "      <td>2.39</td>\n",
       "      <td>11.5</td>\n",
       "      <td>...</td>\n",
       "      <td>1.0</td>\n",
       "      <td>0.00</td>\n",
       "      <td>2019-10-01</td>\n",
       "      <td>10</td>\n",
       "      <td>2019</td>\n",
       "      <td>1</td>\n",
       "      <td>9</td>\n",
       "      <td>14</td>\n",
       "      <td>14.500000</td>\n",
       "      <td>9.889655</td>\n",
       "    </tr>\n",
       "  </tbody>\n",
       "</table>\n",
       "<p>5 rows × 28 columns</p>\n",
       "</div>"
      ],
      "text/plain": [
       "          VendorID lpep_pickup_datetime lpep_dropoff_datetime  \\\n",
       "13820885         2  2019-10-01 09:15:09   2019-10-01 09:38:55   \n",
       "13820907         2  2019-10-01 09:03:15   2019-10-01 09:07:27   \n",
       "13820913         2  2019-10-01 09:01:15   2019-10-01 09:16:41   \n",
       "13820945         2  2019-10-01 09:06:33   2019-10-01 09:09:19   \n",
       "13821001         2  2019-10-01 09:14:58   2019-10-01 09:29:28   \n",
       "\n",
       "         store_and_fwd_flag  RatecodeID  PULocationID  DOLocationID  \\\n",
       "13820885                  N         1.0           244            68   \n",
       "13820907                  N         1.0            41            41   \n",
       "13820913                  N         1.0            74           244   \n",
       "13820945                  N         1.0            52            33   \n",
       "13821001                  N         1.0           159            74   \n",
       "\n",
       "          passenger_count  trip_distance  fare_amount  ...  trip_type  \\\n",
       "13820885              5.0           8.65         26.5  ...        1.0   \n",
       "13820907              1.0           0.79          5.0  ...        1.0   \n",
       "13820913              5.0           3.91         15.0  ...        1.0   \n",
       "13820945              1.0           0.58          4.0  ...        1.0   \n",
       "13821001              1.0           2.39         11.5  ...        1.0   \n",
       "\n",
       "          congestion_surcharge       Date  Month  Year  DOW  Hour  Minute  \\\n",
       "13820885                  2.75 2019-10-01     10  2019    1     9      15   \n",
       "13820907                  0.00 2019-10-01     10  2019    1     9       3   \n",
       "13820913                  0.00 2019-10-01     10  2019    1     9       1   \n",
       "13820945                  0.00 2019-10-01     10  2019    1     9       6   \n",
       "13821001                  0.00 2019-10-01     10  2019    1     9      14   \n",
       "\n",
       "          trip_duration      speed  \n",
       "13820885      23.766667  21.837307  \n",
       "13820907       4.200000  11.285714  \n",
       "13820913      15.433333  15.200864  \n",
       "13820945       2.766667  12.578313  \n",
       "13821001      14.500000   9.889655  \n",
       "\n",
       "[5 rows x 28 columns]"
      ]
     },
     "execution_count": 50,
     "metadata": {},
     "output_type": "execute_result"
    }
   ],
   "source": [
    "Nine=dfTaxi_day[(dfTaxi_day['Hour'] == 9)]\n",
    "Ten=dfTaxi_day[(dfTaxi_day['Hour'] == 10)]\n",
    "Nine.head()"
   ]
  },
  {
   "cell_type": "code",
   "execution_count": 51,
   "metadata": {
    "tags": []
   },
   "outputs": [
    {
     "data": {
      "text/plain": [
       "TtestResult(statistic=-1.173277394807621, pvalue=0.2408567402829922, df=1623.0)"
      ]
     },
     "execution_count": 51,
     "metadata": {},
     "output_type": "execute_result"
    }
   ],
   "source": [
    "#t-test between the 9AM and 10AM mean\n",
    "stats.ttest_ind(Nine['speed'],Ten['speed'])"
   ]
  },
  {
   "cell_type": "code",
   "execution_count": 52,
   "metadata": {
    "tags": []
   },
   "outputs": [
    {
     "data": {
      "text/plain": [
       "KstestResult(statistic=0.04866545344252351, pvalue=0.2793212653142789, statistic_location=8.666666666666668, statistic_sign=1)"
      ]
     },
     "execution_count": 52,
     "metadata": {},
     "output_type": "execute_result"
    }
   ],
   "source": [
    "stats.ks_2samp(Nine['speed'], Ten['speed'])"
   ]
  },
  {
   "cell_type": "code",
   "execution_count": 53,
   "metadata": {},
   "outputs": [],
   "source": [
    "# We can not reject the hypothesis that the samples of 9AM and 10AM have the same mean and distribution at a 95% significance level."
   ]
  },
  {
   "cell_type": "code",
   "execution_count": 54,
   "metadata": {
    "tags": []
   },
   "outputs": [],
   "source": [
    "# trip samples within morning rush hour (two hours of 8 and 9am) and evening rush hour (two hours of 5pm(17) and 6pm(18)).\n",
    "# the hypothesis that the compared speed samples have the same mean(use t-test) and distribution (use ks-test) at a 95% significance level"
   ]
  },
  {
   "cell_type": "code",
   "execution_count": 55,
   "metadata": {
    "tags": []
   },
   "outputs": [],
   "source": [
    "morning_rush_hour = dfTaxi_day[(dfTaxi_day['Hour'] >= 8) & (dfTaxi_day['Hour'] <= 9)]\n",
    "evening_rush_hour = dfTaxi_day[(dfTaxi_day['Hour'] >= 17) & (dfTaxi_day['Hour'] <= 18)]"
   ]
  },
  {
   "cell_type": "code",
   "execution_count": 56,
   "metadata": {
    "tags": []
   },
   "outputs": [
    {
     "data": {
      "text/html": [
       "<div>\n",
       "<style scoped>\n",
       "    .dataframe tbody tr th:only-of-type {\n",
       "        vertical-align: middle;\n",
       "    }\n",
       "\n",
       "    .dataframe tbody tr th {\n",
       "        vertical-align: top;\n",
       "    }\n",
       "\n",
       "    .dataframe thead th {\n",
       "        text-align: right;\n",
       "    }\n",
       "</style>\n",
       "<table border=\"1\" class=\"dataframe\">\n",
       "  <thead>\n",
       "    <tr style=\"text-align: right;\">\n",
       "      <th></th>\n",
       "      <th>VendorID</th>\n",
       "      <th>lpep_pickup_datetime</th>\n",
       "      <th>lpep_dropoff_datetime</th>\n",
       "      <th>store_and_fwd_flag</th>\n",
       "      <th>RatecodeID</th>\n",
       "      <th>PULocationID</th>\n",
       "      <th>DOLocationID</th>\n",
       "      <th>passenger_count</th>\n",
       "      <th>trip_distance</th>\n",
       "      <th>fare_amount</th>\n",
       "      <th>...</th>\n",
       "      <th>trip_type</th>\n",
       "      <th>congestion_surcharge</th>\n",
       "      <th>Date</th>\n",
       "      <th>Month</th>\n",
       "      <th>Year</th>\n",
       "      <th>DOW</th>\n",
       "      <th>Hour</th>\n",
       "      <th>Minute</th>\n",
       "      <th>trip_duration</th>\n",
       "      <th>speed</th>\n",
       "    </tr>\n",
       "  </thead>\n",
       "  <tbody>\n",
       "    <tr>\n",
       "      <th>13820007</th>\n",
       "      <td>2</td>\n",
       "      <td>2019-10-01 08:37:38</td>\n",
       "      <td>2019-10-01 08:38:38</td>\n",
       "      <td>N</td>\n",
       "      <td>1.0</td>\n",
       "      <td>42</td>\n",
       "      <td>42</td>\n",
       "      <td>1.0</td>\n",
       "      <td>0.26</td>\n",
       "      <td>3.0</td>\n",
       "      <td>...</td>\n",
       "      <td>1.0</td>\n",
       "      <td>0.00</td>\n",
       "      <td>2019-10-01</td>\n",
       "      <td>10</td>\n",
       "      <td>2019</td>\n",
       "      <td>1</td>\n",
       "      <td>8</td>\n",
       "      <td>37</td>\n",
       "      <td>1.000000</td>\n",
       "      <td>15.600000</td>\n",
       "    </tr>\n",
       "    <tr>\n",
       "      <th>13820008</th>\n",
       "      <td>2</td>\n",
       "      <td>2019-10-01 08:40:57</td>\n",
       "      <td>2019-10-01 09:14:54</td>\n",
       "      <td>N</td>\n",
       "      <td>1.0</td>\n",
       "      <td>41</td>\n",
       "      <td>234</td>\n",
       "      <td>1.0</td>\n",
       "      <td>5.27</td>\n",
       "      <td>23.5</td>\n",
       "      <td>...</td>\n",
       "      <td>1.0</td>\n",
       "      <td>2.75</td>\n",
       "      <td>2019-10-01</td>\n",
       "      <td>10</td>\n",
       "      <td>2019</td>\n",
       "      <td>1</td>\n",
       "      <td>8</td>\n",
       "      <td>40</td>\n",
       "      <td>33.950000</td>\n",
       "      <td>9.313697</td>\n",
       "    </tr>\n",
       "    <tr>\n",
       "      <th>13820367</th>\n",
       "      <td>2</td>\n",
       "      <td>2019-10-01 08:00:06</td>\n",
       "      <td>2019-10-01 08:34:41</td>\n",
       "      <td>N</td>\n",
       "      <td>1.0</td>\n",
       "      <td>66</td>\n",
       "      <td>66</td>\n",
       "      <td>5.0</td>\n",
       "      <td>9.83</td>\n",
       "      <td>33.0</td>\n",
       "      <td>...</td>\n",
       "      <td>1.0</td>\n",
       "      <td>2.75</td>\n",
       "      <td>2019-10-01</td>\n",
       "      <td>10</td>\n",
       "      <td>2019</td>\n",
       "      <td>1</td>\n",
       "      <td>8</td>\n",
       "      <td>0</td>\n",
       "      <td>34.583333</td>\n",
       "      <td>17.054458</td>\n",
       "    </tr>\n",
       "    <tr>\n",
       "      <th>13820407</th>\n",
       "      <td>2</td>\n",
       "      <td>2019-10-01 08:01:21</td>\n",
       "      <td>2019-10-01 08:06:11</td>\n",
       "      <td>N</td>\n",
       "      <td>1.0</td>\n",
       "      <td>42</td>\n",
       "      <td>41</td>\n",
       "      <td>1.0</td>\n",
       "      <td>0.84</td>\n",
       "      <td>5.5</td>\n",
       "      <td>...</td>\n",
       "      <td>1.0</td>\n",
       "      <td>0.00</td>\n",
       "      <td>2019-10-01</td>\n",
       "      <td>10</td>\n",
       "      <td>2019</td>\n",
       "      <td>1</td>\n",
       "      <td>8</td>\n",
       "      <td>1</td>\n",
       "      <td>4.833333</td>\n",
       "      <td>10.427586</td>\n",
       "    </tr>\n",
       "    <tr>\n",
       "      <th>13820429</th>\n",
       "      <td>2</td>\n",
       "      <td>2019-10-01 08:01:45</td>\n",
       "      <td>2019-10-01 08:13:53</td>\n",
       "      <td>N</td>\n",
       "      <td>1.0</td>\n",
       "      <td>7</td>\n",
       "      <td>145</td>\n",
       "      <td>1.0</td>\n",
       "      <td>2.69</td>\n",
       "      <td>11.0</td>\n",
       "      <td>...</td>\n",
       "      <td>1.0</td>\n",
       "      <td>0.00</td>\n",
       "      <td>2019-10-01</td>\n",
       "      <td>10</td>\n",
       "      <td>2019</td>\n",
       "      <td>1</td>\n",
       "      <td>8</td>\n",
       "      <td>1</td>\n",
       "      <td>12.133333</td>\n",
       "      <td>13.302198</td>\n",
       "    </tr>\n",
       "  </tbody>\n",
       "</table>\n",
       "<p>5 rows × 28 columns</p>\n",
       "</div>"
      ],
      "text/plain": [
       "          VendorID lpep_pickup_datetime lpep_dropoff_datetime  \\\n",
       "13820007         2  2019-10-01 08:37:38   2019-10-01 08:38:38   \n",
       "13820008         2  2019-10-01 08:40:57   2019-10-01 09:14:54   \n",
       "13820367         2  2019-10-01 08:00:06   2019-10-01 08:34:41   \n",
       "13820407         2  2019-10-01 08:01:21   2019-10-01 08:06:11   \n",
       "13820429         2  2019-10-01 08:01:45   2019-10-01 08:13:53   \n",
       "\n",
       "         store_and_fwd_flag  RatecodeID  PULocationID  DOLocationID  \\\n",
       "13820007                  N         1.0            42            42   \n",
       "13820008                  N         1.0            41           234   \n",
       "13820367                  N         1.0            66            66   \n",
       "13820407                  N         1.0            42            41   \n",
       "13820429                  N         1.0             7           145   \n",
       "\n",
       "          passenger_count  trip_distance  fare_amount  ...  trip_type  \\\n",
       "13820007              1.0           0.26          3.0  ...        1.0   \n",
       "13820008              1.0           5.27         23.5  ...        1.0   \n",
       "13820367              5.0           9.83         33.0  ...        1.0   \n",
       "13820407              1.0           0.84          5.5  ...        1.0   \n",
       "13820429              1.0           2.69         11.0  ...        1.0   \n",
       "\n",
       "          congestion_surcharge       Date  Month  Year  DOW  Hour  Minute  \\\n",
       "13820007                  0.00 2019-10-01     10  2019    1     8      37   \n",
       "13820008                  2.75 2019-10-01     10  2019    1     8      40   \n",
       "13820367                  2.75 2019-10-01     10  2019    1     8       0   \n",
       "13820407                  0.00 2019-10-01     10  2019    1     8       1   \n",
       "13820429                  0.00 2019-10-01     10  2019    1     8       1   \n",
       "\n",
       "          trip_duration      speed  \n",
       "13820007       1.000000  15.600000  \n",
       "13820008      33.950000   9.313697  \n",
       "13820367      34.583333  17.054458  \n",
       "13820407       4.833333  10.427586  \n",
       "13820429      12.133333  13.302198  \n",
       "\n",
       "[5 rows x 28 columns]"
      ]
     },
     "execution_count": 56,
     "metadata": {},
     "output_type": "execute_result"
    }
   ],
   "source": [
    "morning_rush_hour.head()"
   ]
  },
  {
   "cell_type": "code",
   "execution_count": 57,
   "metadata": {
    "tags": []
   },
   "outputs": [
    {
     "data": {
      "text/plain": [
       "TtestResult(statistic=5.316218844376518, pvalue=1.1253493376433583e-07, df=3522.0)"
      ]
     },
     "execution_count": 57,
     "metadata": {},
     "output_type": "execute_result"
    }
   ],
   "source": [
    "stats.ttest_ind(morning_rush_hour['speed'],evening_rush_hour['speed'])"
   ]
  },
  {
   "cell_type": "code",
   "execution_count": 58,
   "metadata": {
    "tags": []
   },
   "outputs": [
    {
     "data": {
      "text/plain": [
       "KstestResult(statistic=0.06860517517057287, pvalue=0.0005164093592967348, statistic_location=10.858695652173914, statistic_sign=-1)"
      ]
     },
     "execution_count": 58,
     "metadata": {},
     "output_type": "execute_result"
    }
   ],
   "source": [
    "stats.ks_2samp(morning_rush_hour['speed'], evening_rush_hour['speed'])"
   ]
  },
  {
   "cell_type": "markdown",
   "metadata": {
    "tags": []
   },
   "source": [
    " We can reject the hypothesis that the samples of morning rush hour and evening rush hour have the same mean and distribution at a 95% significance level."
   ]
  },
  {
   "cell_type": "markdown",
   "metadata": {
    "tags": []
   },
   "source": [
    "## Task 2. Travel speed - days of the week\n",
    "Traffic and travel speed also vary during different weekdays. a) Compute average travel speed per each of the 7 days of the week (among all the individual trips happening on Mondays, Tuesdays, Wednesdays etc); visualize those as a bar plot. Then compute average travel speed per each day of the week and perform a pairwise comparison between the distributions of the daily speed averages within different days of the week (i.e. distribution of all Mondays vs all Tuesdays etc). Compute p-value of the ks-test for each pair of the different weekdays and compare with 5\\%. As a results we are expecting a 7*7 pandas dataframe filled with \"reject\" (if p-value below 5\\%), \"keep\" (if p-value above 5\\%) and \"-\" on the diagonal."
   ]
  },
  {
   "cell_type": "code",
   "execution_count": 59,
   "metadata": {},
   "outputs": [],
   "source": [
    "# Compute average travel speed per each of the 7 days of the week "
   ]
  },
  {
   "cell_type": "code",
   "execution_count": 60,
   "metadata": {},
   "outputs": [
    {
     "data": {
      "text/html": [
       "<div>\n",
       "<style scoped>\n",
       "    .dataframe tbody tr th:only-of-type {\n",
       "        vertical-align: middle;\n",
       "    }\n",
       "\n",
       "    .dataframe tbody tr th {\n",
       "        vertical-align: top;\n",
       "    }\n",
       "\n",
       "    .dataframe thead th {\n",
       "        text-align: right;\n",
       "    }\n",
       "</style>\n",
       "<table border=\"1\" class=\"dataframe\">\n",
       "  <thead>\n",
       "    <tr style=\"text-align: right;\">\n",
       "      <th></th>\n",
       "      <th>Year</th>\n",
       "      <th>Month</th>\n",
       "      <th>DOW</th>\n",
       "      <th>Date</th>\n",
       "      <th>trip_count</th>\n",
       "      <th>trip_duration</th>\n",
       "      <th>trip_distance</th>\n",
       "      <th>speed</th>\n",
       "    </tr>\n",
       "  </thead>\n",
       "  <tbody>\n",
       "    <tr>\n",
       "      <th>0</th>\n",
       "      <td>2018</td>\n",
       "      <td>1</td>\n",
       "      <td>0</td>\n",
       "      <td>2018-01-01</td>\n",
       "      <td>22384</td>\n",
       "      <td>263853.966667</td>\n",
       "      <td>67911.34</td>\n",
       "      <td>15.442938</td>\n",
       "    </tr>\n",
       "    <tr>\n",
       "      <th>5</th>\n",
       "      <td>2018</td>\n",
       "      <td>1</td>\n",
       "      <td>1</td>\n",
       "      <td>2018-01-02</td>\n",
       "      <td>22583</td>\n",
       "      <td>274362.416667</td>\n",
       "      <td>59493.64</td>\n",
       "      <td>13.010595</td>\n",
       "    </tr>\n",
       "    <tr>\n",
       "      <th>10</th>\n",
       "      <td>2018</td>\n",
       "      <td>1</td>\n",
       "      <td>2</td>\n",
       "      <td>2018-01-03</td>\n",
       "      <td>25673</td>\n",
       "      <td>341670.100000</td>\n",
       "      <td>69394.22</td>\n",
       "      <td>12.186180</td>\n",
       "    </tr>\n",
       "    <tr>\n",
       "      <th>15</th>\n",
       "      <td>2018</td>\n",
       "      <td>1</td>\n",
       "      <td>3</td>\n",
       "      <td>2018-01-04</td>\n",
       "      <td>6297</td>\n",
       "      <td>80896.516667</td>\n",
       "      <td>16403.10</td>\n",
       "      <td>12.165987</td>\n",
       "    </tr>\n",
       "    <tr>\n",
       "      <th>19</th>\n",
       "      <td>2018</td>\n",
       "      <td>1</td>\n",
       "      <td>4</td>\n",
       "      <td>2018-01-05</td>\n",
       "      <td>26727</td>\n",
       "      <td>341303.233333</td>\n",
       "      <td>64290.25</td>\n",
       "      <td>11.302017</td>\n",
       "    </tr>\n",
       "  </tbody>\n",
       "</table>\n",
       "</div>"
      ],
      "text/plain": [
       "    Year  Month  DOW       Date  trip_count  trip_duration  trip_distance  \\\n",
       "0   2018      1    0 2018-01-01       22384  263853.966667       67911.34   \n",
       "5   2018      1    1 2018-01-02       22583  274362.416667       59493.64   \n",
       "10  2018      1    2 2018-01-03       25673  341670.100000       69394.22   \n",
       "15  2018      1    3 2018-01-04        6297   80896.516667       16403.10   \n",
       "19  2018      1    4 2018-01-05       26727  341303.233333       64290.25   \n",
       "\n",
       "        speed  \n",
       "0   15.442938  \n",
       "5   13.010595  \n",
       "10  12.186180  \n",
       "15  12.165987  \n",
       "19  11.302017  "
      ]
     },
     "execution_count": 60,
     "metadata": {},
     "output_type": "execute_result"
    }
   ],
   "source": [
    "dfTaxiDaily.head()"
   ]
  },
  {
   "cell_type": "code",
   "execution_count": 61,
   "metadata": {},
   "outputs": [],
   "source": [
    "dfTaxiDaily_DOW = dfTaxiDaily.groupby(['DOW']).\\\n",
    "            agg({'trip_duration':'sum','trip_distance':'sum'})"
   ]
  },
  {
   "cell_type": "code",
   "execution_count": 62,
   "metadata": {
    "tags": []
   },
   "outputs": [
    {
     "data": {
      "text/html": [
       "<div>\n",
       "<style scoped>\n",
       "    .dataframe tbody tr th:only-of-type {\n",
       "        vertical-align: middle;\n",
       "    }\n",
       "\n",
       "    .dataframe tbody tr th {\n",
       "        vertical-align: top;\n",
       "    }\n",
       "\n",
       "    .dataframe thead th {\n",
       "        text-align: right;\n",
       "    }\n",
       "</style>\n",
       "<table border=\"1\" class=\"dataframe\">\n",
       "  <thead>\n",
       "    <tr style=\"text-align: right;\">\n",
       "      <th></th>\n",
       "      <th>trip_duration</th>\n",
       "      <th>trip_distance</th>\n",
       "      <th>average travel speed</th>\n",
       "    </tr>\n",
       "    <tr>\n",
       "      <th>DOW</th>\n",
       "      <th></th>\n",
       "      <th></th>\n",
       "      <th></th>\n",
       "    </tr>\n",
       "  </thead>\n",
       "  <tbody>\n",
       "    <tr>\n",
       "      <th>0</th>\n",
       "      <td>3.271465e+07</td>\n",
       "      <td>7346729.35</td>\n",
       "      <td>13.474200</td>\n",
       "    </tr>\n",
       "    <tr>\n",
       "      <th>1</th>\n",
       "      <td>3.592646e+07</td>\n",
       "      <td>7768934.75</td>\n",
       "      <td>12.974730</td>\n",
       "    </tr>\n",
       "    <tr>\n",
       "      <th>2</th>\n",
       "      <td>3.744882e+07</td>\n",
       "      <td>8044210.21</td>\n",
       "      <td>12.888325</td>\n",
       "    </tr>\n",
       "    <tr>\n",
       "      <th>3</th>\n",
       "      <td>3.947172e+07</td>\n",
       "      <td>8263397.93</td>\n",
       "      <td>12.560989</td>\n",
       "    </tr>\n",
       "    <tr>\n",
       "      <th>4</th>\n",
       "      <td>4.090780e+07</td>\n",
       "      <td>8553861.26</td>\n",
       "      <td>12.546060</td>\n",
       "    </tr>\n",
       "    <tr>\n",
       "      <th>5</th>\n",
       "      <td>3.488742e+07</td>\n",
       "      <td>8104591.86</td>\n",
       "      <td>13.938421</td>\n",
       "    </tr>\n",
       "    <tr>\n",
       "      <th>6</th>\n",
       "      <td>2.802968e+07</td>\n",
       "      <td>6997613.31</td>\n",
       "      <td>14.979006</td>\n",
       "    </tr>\n",
       "  </tbody>\n",
       "</table>\n",
       "</div>"
      ],
      "text/plain": [
       "     trip_duration  trip_distance  average travel speed\n",
       "DOW                                                    \n",
       "0     3.271465e+07     7346729.35             13.474200\n",
       "1     3.592646e+07     7768934.75             12.974730\n",
       "2     3.744882e+07     8044210.21             12.888325\n",
       "3     3.947172e+07     8263397.93             12.560989\n",
       "4     4.090780e+07     8553861.26             12.546060\n",
       "5     3.488742e+07     8104591.86             13.938421\n",
       "6     2.802968e+07     6997613.31             14.979006"
      ]
     },
     "execution_count": 62,
     "metadata": {},
     "output_type": "execute_result"
    }
   ],
   "source": [
    "dfTaxiDaily_DOW['average travel speed']=dfTaxiDaily_DOW['trip_distance']/dfTaxiDaily_DOW['trip_duration']*60\n",
    "dfTaxiDaily_DOW"
   ]
  },
  {
   "cell_type": "code",
   "execution_count": 63,
   "metadata": {
    "tags": []
   },
   "outputs": [
    {
     "data": {
      "text/html": [
       "<div>\n",
       "<style scoped>\n",
       "    .dataframe tbody tr th:only-of-type {\n",
       "        vertical-align: middle;\n",
       "    }\n",
       "\n",
       "    .dataframe tbody tr th {\n",
       "        vertical-align: top;\n",
       "    }\n",
       "\n",
       "    .dataframe thead th {\n",
       "        text-align: right;\n",
       "    }\n",
       "</style>\n",
       "<table border=\"1\" class=\"dataframe\">\n",
       "  <thead>\n",
       "    <tr style=\"text-align: right;\">\n",
       "      <th></th>\n",
       "      <th>trip_duration</th>\n",
       "      <th>trip_distance</th>\n",
       "      <th>average travel speed</th>\n",
       "      <th>week_of_day</th>\n",
       "    </tr>\n",
       "    <tr>\n",
       "      <th>DOW</th>\n",
       "      <th></th>\n",
       "      <th></th>\n",
       "      <th></th>\n",
       "      <th></th>\n",
       "    </tr>\n",
       "  </thead>\n",
       "  <tbody>\n",
       "    <tr>\n",
       "      <th>0</th>\n",
       "      <td>3.271465e+07</td>\n",
       "      <td>7346729.35</td>\n",
       "      <td>13.474200</td>\n",
       "      <td>Monday</td>\n",
       "    </tr>\n",
       "    <tr>\n",
       "      <th>1</th>\n",
       "      <td>3.592646e+07</td>\n",
       "      <td>7768934.75</td>\n",
       "      <td>12.974730</td>\n",
       "      <td>Tuesday</td>\n",
       "    </tr>\n",
       "    <tr>\n",
       "      <th>2</th>\n",
       "      <td>3.744882e+07</td>\n",
       "      <td>8044210.21</td>\n",
       "      <td>12.888325</td>\n",
       "      <td>Wednesday</td>\n",
       "    </tr>\n",
       "    <tr>\n",
       "      <th>3</th>\n",
       "      <td>3.947172e+07</td>\n",
       "      <td>8263397.93</td>\n",
       "      <td>12.560989</td>\n",
       "      <td>Thursday</td>\n",
       "    </tr>\n",
       "    <tr>\n",
       "      <th>4</th>\n",
       "      <td>4.090780e+07</td>\n",
       "      <td>8553861.26</td>\n",
       "      <td>12.546060</td>\n",
       "      <td>Friday</td>\n",
       "    </tr>\n",
       "    <tr>\n",
       "      <th>5</th>\n",
       "      <td>3.488742e+07</td>\n",
       "      <td>8104591.86</td>\n",
       "      <td>13.938421</td>\n",
       "      <td>Saturday</td>\n",
       "    </tr>\n",
       "    <tr>\n",
       "      <th>6</th>\n",
       "      <td>2.802968e+07</td>\n",
       "      <td>6997613.31</td>\n",
       "      <td>14.979006</td>\n",
       "      <td>Sunday</td>\n",
       "    </tr>\n",
       "  </tbody>\n",
       "</table>\n",
       "</div>"
      ],
      "text/plain": [
       "     trip_duration  trip_distance  average travel speed week_of_day\n",
       "DOW                                                                \n",
       "0     3.271465e+07     7346729.35             13.474200      Monday\n",
       "1     3.592646e+07     7768934.75             12.974730     Tuesday\n",
       "2     3.744882e+07     8044210.21             12.888325   Wednesday\n",
       "3     3.947172e+07     8263397.93             12.560989    Thursday\n",
       "4     4.090780e+07     8553861.26             12.546060      Friday\n",
       "5     3.488742e+07     8104591.86             13.938421    Saturday\n",
       "6     2.802968e+07     6997613.31             14.979006      Sunday"
      ]
     },
     "execution_count": 63,
     "metadata": {},
     "output_type": "execute_result"
    }
   ],
   "source": [
    "week_of_day = ['Monday','Tuesday','Wednesday','Thursday','Friday','Saturday','Sunday']\n",
    "dfTaxiDaily_DOW['week_of_day'] = week_of_day\n",
    "dfTaxiDaily_DOW"
   ]
  },
  {
   "cell_type": "code",
   "execution_count": 64,
   "metadata": {
    "tags": []
   },
   "outputs": [
    {
     "data": {
      "text/plain": [
       "<BarContainer object of 7 artists>"
      ]
     },
     "execution_count": 64,
     "metadata": {},
     "output_type": "execute_result"
    },
    {
     "data": {
      "image/png": "[encoded data removed]",
      "text/plain": [
       "<Figure size 640x480 with 1 Axes>"
      ]
     },
     "metadata": {},
     "output_type": "display_data"
    }
   ],
   "source": [
    "plt.bar(dfTaxiDaily_DOW['week_of_day'] , dfTaxiDaily_DOW['average travel speed'] )"
   ]
  },
  {
   "cell_type": "code",
   "execution_count": 65,
   "metadata": {},
   "outputs": [],
   "source": [
    "# Compute average travel speed per each day of the week"
   ]
  },
  {
   "cell_type": "code",
   "execution_count": 66,
   "metadata": {
    "tags": []
   },
   "outputs": [
    {
     "data": {
      "text/html": [
       "<div>\n",
       "<style scoped>\n",
       "    .dataframe tbody tr th:only-of-type {\n",
       "        vertical-align: middle;\n",
       "    }\n",
       "\n",
       "    .dataframe tbody tr th {\n",
       "        vertical-align: top;\n",
       "    }\n",
       "\n",
       "    .dataframe thead th {\n",
       "        text-align: right;\n",
       "    }\n",
       "</style>\n",
       "<table border=\"1\" class=\"dataframe\">\n",
       "  <thead>\n",
       "    <tr style=\"text-align: right;\">\n",
       "      <th></th>\n",
       "      <th>Year</th>\n",
       "      <th>Month</th>\n",
       "      <th>DOW</th>\n",
       "      <th>Date</th>\n",
       "      <th>trip_count</th>\n",
       "      <th>trip_duration</th>\n",
       "      <th>trip_distance</th>\n",
       "      <th>speed</th>\n",
       "    </tr>\n",
       "  </thead>\n",
       "  <tbody>\n",
       "    <tr>\n",
       "      <th>0</th>\n",
       "      <td>2018</td>\n",
       "      <td>1</td>\n",
       "      <td>0</td>\n",
       "      <td>2018-01-01</td>\n",
       "      <td>22384</td>\n",
       "      <td>263853.966667</td>\n",
       "      <td>67911.34</td>\n",
       "      <td>15.442938</td>\n",
       "    </tr>\n",
       "    <tr>\n",
       "      <th>5</th>\n",
       "      <td>2018</td>\n",
       "      <td>1</td>\n",
       "      <td>1</td>\n",
       "      <td>2018-01-02</td>\n",
       "      <td>22583</td>\n",
       "      <td>274362.416667</td>\n",
       "      <td>59493.64</td>\n",
       "      <td>13.010595</td>\n",
       "    </tr>\n",
       "    <tr>\n",
       "      <th>10</th>\n",
       "      <td>2018</td>\n",
       "      <td>1</td>\n",
       "      <td>2</td>\n",
       "      <td>2018-01-03</td>\n",
       "      <td>25673</td>\n",
       "      <td>341670.100000</td>\n",
       "      <td>69394.22</td>\n",
       "      <td>12.186180</td>\n",
       "    </tr>\n",
       "    <tr>\n",
       "      <th>15</th>\n",
       "      <td>2018</td>\n",
       "      <td>1</td>\n",
       "      <td>3</td>\n",
       "      <td>2018-01-04</td>\n",
       "      <td>6297</td>\n",
       "      <td>80896.516667</td>\n",
       "      <td>16403.10</td>\n",
       "      <td>12.165987</td>\n",
       "    </tr>\n",
       "    <tr>\n",
       "      <th>19</th>\n",
       "      <td>2018</td>\n",
       "      <td>1</td>\n",
       "      <td>4</td>\n",
       "      <td>2018-01-05</td>\n",
       "      <td>26727</td>\n",
       "      <td>341303.233333</td>\n",
       "      <td>64290.25</td>\n",
       "      <td>11.302017</td>\n",
       "    </tr>\n",
       "  </tbody>\n",
       "</table>\n",
       "</div>"
      ],
      "text/plain": [
       "    Year  Month  DOW       Date  trip_count  trip_duration  trip_distance  \\\n",
       "0   2018      1    0 2018-01-01       22384  263853.966667       67911.34   \n",
       "5   2018      1    1 2018-01-02       22583  274362.416667       59493.64   \n",
       "10  2018      1    2 2018-01-03       25673  341670.100000       69394.22   \n",
       "15  2018      1    3 2018-01-04        6297   80896.516667       16403.10   \n",
       "19  2018      1    4 2018-01-05       26727  341303.233333       64290.25   \n",
       "\n",
       "        speed  \n",
       "0   15.442938  \n",
       "5   13.010595  \n",
       "10  12.186180  \n",
       "15  12.165987  \n",
       "19  11.302017  "
      ]
     },
     "execution_count": 66,
     "metadata": {},
     "output_type": "execute_result"
    }
   ],
   "source": [
    "dfTaxiDaily.head()"
   ]
  },
  {
   "cell_type": "code",
   "execution_count": 67,
   "metadata": {
    "tags": []
   },
   "outputs": [
    {
     "data": {
      "text/html": [
       "<div>\n",
       "<style scoped>\n",
       "    .dataframe tbody tr th:only-of-type {\n",
       "        vertical-align: middle;\n",
       "    }\n",
       "\n",
       "    .dataframe tbody tr th {\n",
       "        vertical-align: top;\n",
       "    }\n",
       "\n",
       "    .dataframe thead th {\n",
       "        text-align: right;\n",
       "    }\n",
       "</style>\n",
       "<table border=\"1\" class=\"dataframe\">\n",
       "  <thead>\n",
       "    <tr style=\"text-align: right;\">\n",
       "      <th></th>\n",
       "      <th>DOW</th>\n",
       "      <th>Date</th>\n",
       "      <th>trip_count</th>\n",
       "      <th>trip_duration</th>\n",
       "      <th>trip_distance</th>\n",
       "      <th>speed</th>\n",
       "    </tr>\n",
       "  </thead>\n",
       "  <tbody>\n",
       "    <tr>\n",
       "      <th>0</th>\n",
       "      <td>0</td>\n",
       "      <td>2018-01-01</td>\n",
       "      <td>1</td>\n",
       "      <td>263853.966667</td>\n",
       "      <td>67911.34</td>\n",
       "      <td>15.442938</td>\n",
       "    </tr>\n",
       "    <tr>\n",
       "      <th>1</th>\n",
       "      <td>0</td>\n",
       "      <td>2018-01-08</td>\n",
       "      <td>1</td>\n",
       "      <td>351788.700000</td>\n",
       "      <td>65498.37</td>\n",
       "      <td>11.171201</td>\n",
       "    </tr>\n",
       "    <tr>\n",
       "      <th>2</th>\n",
       "      <td>0</td>\n",
       "      <td>2018-01-15</td>\n",
       "      <td>1</td>\n",
       "      <td>222311.300000</td>\n",
       "      <td>51803.45</td>\n",
       "      <td>13.981327</td>\n",
       "    </tr>\n",
       "    <tr>\n",
       "      <th>3</th>\n",
       "      <td>0</td>\n",
       "      <td>2018-01-22</td>\n",
       "      <td>1</td>\n",
       "      <td>301740.350000</td>\n",
       "      <td>64706.69</td>\n",
       "      <td>12.866696</td>\n",
       "    </tr>\n",
       "    <tr>\n",
       "      <th>4</th>\n",
       "      <td>0</td>\n",
       "      <td>2018-01-29</td>\n",
       "      <td>1</td>\n",
       "      <td>303618.750000</td>\n",
       "      <td>64758.74</td>\n",
       "      <td>12.797380</td>\n",
       "    </tr>\n",
       "    <tr>\n",
       "      <th>...</th>\n",
       "      <td>...</td>\n",
       "      <td>...</td>\n",
       "      <td>...</td>\n",
       "      <td>...</td>\n",
       "      <td>...</td>\n",
       "      <td>...</td>\n",
       "    </tr>\n",
       "    <tr>\n",
       "      <th>907</th>\n",
       "      <td>6</td>\n",
       "      <td>2020-05-31</td>\n",
       "      <td>1</td>\n",
       "      <td>16778.016667</td>\n",
       "      <td>5766.89</td>\n",
       "      <td>20.623022</td>\n",
       "    </tr>\n",
       "    <tr>\n",
       "      <th>908</th>\n",
       "      <td>6</td>\n",
       "      <td>2020-06-07</td>\n",
       "      <td>1</td>\n",
       "      <td>22792.883333</td>\n",
       "      <td>8012.34</td>\n",
       "      <td>21.091689</td>\n",
       "    </tr>\n",
       "    <tr>\n",
       "      <th>909</th>\n",
       "      <td>6</td>\n",
       "      <td>2020-06-14</td>\n",
       "      <td>1</td>\n",
       "      <td>20843.900000</td>\n",
       "      <td>6747.18</td>\n",
       "      <td>19.422028</td>\n",
       "    </tr>\n",
       "    <tr>\n",
       "      <th>910</th>\n",
       "      <td>6</td>\n",
       "      <td>2020-06-21</td>\n",
       "      <td>1</td>\n",
       "      <td>20040.766667</td>\n",
       "      <td>6622.12</td>\n",
       "      <td>19.825948</td>\n",
       "    </tr>\n",
       "    <tr>\n",
       "      <th>911</th>\n",
       "      <td>6</td>\n",
       "      <td>2020-06-28</td>\n",
       "      <td>1</td>\n",
       "      <td>20931.033333</td>\n",
       "      <td>6713.17</td>\n",
       "      <td>19.243684</td>\n",
       "    </tr>\n",
       "  </tbody>\n",
       "</table>\n",
       "<p>912 rows × 6 columns</p>\n",
       "</div>"
      ],
      "text/plain": [
       "     DOW       Date  trip_count  trip_duration  trip_distance      speed\n",
       "0      0 2018-01-01           1  263853.966667       67911.34  15.442938\n",
       "1      0 2018-01-08           1  351788.700000       65498.37  11.171201\n",
       "2      0 2018-01-15           1  222311.300000       51803.45  13.981327\n",
       "3      0 2018-01-22           1  301740.350000       64706.69  12.866696\n",
       "4      0 2018-01-29           1  303618.750000       64758.74  12.797380\n",
       "..   ...        ...         ...            ...            ...        ...\n",
       "907    6 2020-05-31           1   16778.016667        5766.89  20.623022\n",
       "908    6 2020-06-07           1   22792.883333        8012.34  21.091689\n",
       "909    6 2020-06-14           1   20843.900000        6747.18  19.422028\n",
       "910    6 2020-06-21           1   20040.766667        6622.12  19.825948\n",
       "911    6 2020-06-28           1   20931.033333        6713.17  19.243684\n",
       "\n",
       "[912 rows x 6 columns]"
      ]
     },
     "execution_count": 67,
     "metadata": {},
     "output_type": "execute_result"
    }
   ],
   "source": [
    "dfTaxiDaily_DOW_1 = dfTaxiDaily.groupby(['DOW','Date']).\\\n",
    "            agg({'trip_count':'count','trip_duration':'sum','trip_distance':'sum','speed':'first'})\n",
    "dfTaxiDaily_DOW_1\n",
    "dfTaxiDaily_DOW_2=dfTaxiDaily_DOW_1.reset_index()\n",
    "dfTaxiDaily_DOW_2"
   ]
  },
  {
   "cell_type": "code",
   "execution_count": 68,
   "metadata": {
    "tags": []
   },
   "outputs": [],
   "source": [
    "Monday=dfTaxiDaily_DOW_2[(dfTaxiDaily_DOW_2['DOW'] == 0)]\n",
    "Tuesday=dfTaxiDaily_DOW_2[(dfTaxiDaily_DOW_2['DOW'] == 1)]\n",
    "Wendesday=dfTaxiDaily_DOW_2[(dfTaxiDaily_DOW_2['DOW'] == 2)]\n",
    "Thursday=dfTaxiDaily_DOW_2[(dfTaxiDaily_DOW_2['DOW'] == 3)]\n",
    "Friday=dfTaxiDaily_DOW_2[(dfTaxiDaily_DOW_2['DOW'] == 4)]\n",
    "Saturday=dfTaxiDaily_DOW_2[(dfTaxiDaily_DOW_2['DOW'] == 5)]\n",
    "Sunday=dfTaxiDaily_DOW_2[(dfTaxiDaily_DOW_2['DOW'] == 6)]"
   ]
  },
  {
   "cell_type": "code",
   "execution_count": 69,
   "metadata": {
    "tags": []
   },
   "outputs": [],
   "source": [
    "ks_statistic, p_value_MON_TUE = stats.ks_2samp(Monday['speed'], Tuesday['speed'])\n",
    "ks_statistic, p_value_MON_WEN = stats.ks_2samp(Monday['speed'], Wendesday['speed'])\n",
    "ks_statistic, p_value_MON_THU = stats.ks_2samp(Monday['speed'], Thursday['speed'])\n",
    "ks_statistic, p_value_MON_FRI = stats.ks_2samp(Monday['speed'], Friday['speed'])\n",
    "ks_statistic, p_value_MON_SAT = stats.ks_2samp(Monday['speed'], Saturday['speed'])\n",
    "ks_statistic, p_value_MON_SUN = stats.ks_2samp(Monday['speed'], Sunday['speed'])\n",
    "ks_statistic, p_value_TUE_WEN = stats.ks_2samp(Tuesday['speed'], Wendesday['speed'])\n",
    "ks_statistic, p_value_TUE_THU = stats.ks_2samp(Tuesday['speed'], Thursday['speed'])\n",
    "ks_statistic, p_value_TUE_FRI = stats.ks_2samp(Tuesday['speed'], Friday['speed'])\n",
    "ks_statistic, p_value_TUE_SAT = stats.ks_2samp(Tuesday['speed'], Saturday['speed'])\n",
    "ks_statistic, p_value_TUE_SUN = stats.ks_2samp(Tuesday['speed'], Sunday['speed'])\n",
    "ks_statistic, p_value_WEN_THU = stats.ks_2samp(Wendesday['speed'], Thursday['speed'])\n",
    "ks_statistic, p_value_WEN_FRI = stats.ks_2samp(Wendesday['speed'], Friday['speed'])\n",
    "ks_statistic, p_value_WEN_SAT = stats.ks_2samp(Wendesday['speed'], Saturday['speed'])\n",
    "ks_statistic, p_value_WEN_SUN = stats.ks_2samp(Wendesday['speed'], Sunday['speed'])\n",
    "ks_statistic, p_value_THU_FRI = stats.ks_2samp(Thursday['speed'], Friday['speed'])\n",
    "ks_statistic, p_value_THU_SAT = stats.ks_2samp(Thursday['speed'], Saturday['speed'])\n",
    "ks_statistic, p_value_THU_SUN = stats.ks_2samp(Thursday['speed'], Sunday['speed'])\n",
    "ks_statistic, p_value_FRI_SAT = stats.ks_2samp(Friday['speed'], Sunday['speed'])\n",
    "ks_statistic, p_value_FRI_SUN = stats.ks_2samp(Friday['speed'], Saturday['speed'])\n",
    "ks_statistic, p_value_SAT_SUN = stats.ks_2samp(Saturday['speed'], Sunday['speed'])\n",
    "p_value_MON_MON=p_value_TUE_TUE=p_value_WEN_WEN=p_value_THU_THU=p_value_FRI_FRI=p_value_SAT_SAT=p_value_SUN_SUN='-'\n",
    "p_value_TUE_MON=p_value_MON_TUE\n",
    "p_value_WEN_MON=p_value_MON_WEN\n",
    "p_value_THU_MON=p_value_MON_THU\n",
    "p_value_FRI_MON=p_value_MON_FRI\n",
    "p_value_SAT_MON=p_value_MON_SAT\n",
    "p_value_SUN_MON=p_value_MON_SUN\n",
    "p_value_WEN_TUE=p_value_TUE_WEN\n",
    "p_value_THU_TUE=p_value_TUE_THU\n",
    "p_value_FRI_TUE=p_value_TUE_FRI\n",
    "p_value_SAT_TUE=p_value_TUE_SAT\n",
    "p_value_SUN_TUE=p_value_TUE_SUN\n",
    "p_value_THU_WEN=p_value_WEN_THU\n",
    "p_value_FRI_WEN=p_value_WEN_FRI\n",
    "p_value_SAT_WEN=p_value_WEN_SAT\n",
    "p_value_SUN_WEN=p_value_WEN_SUN\n",
    "p_value_FRI_THU=p_value_THU_FRI\n",
    "p_value_SAT_THU=p_value_THU_SAT\n",
    "p_value_SUN_THU=p_value_THU_SUN\n",
    "p_value_SAT_FRI=p_value_FRI_SAT\n",
    "p_value_SUN_FRI=p_value_FRI_SUN\n",
    "p_value_SUN_SAT=p_value_SAT_SUN"
   ]
  },
  {
   "cell_type": "code",
   "execution_count": 70,
   "metadata": {
    "tags": []
   },
   "outputs": [],
   "source": [
    "# Compute p-value of the ks-test for each pair of the different weekdays and compare with 5\\%.matrix_data = np.array(data).reshape(7, 7)\n",
    "# As a results we are expecting a 7*7 pandas dataframe filled with \"reject\" (if p-value below 5\\%), \"keep\" (if p-value above 5\\%) and \"-\" on the diagonal."
   ]
  },
  {
   "cell_type": "code",
   "execution_count": 71,
   "metadata": {
    "tags": []
   },
   "outputs": [
    {
     "data": {
      "text/html": [
       "<div>\n",
       "<style scoped>\n",
       "    .dataframe tbody tr th:only-of-type {\n",
       "        vertical-align: middle;\n",
       "    }\n",
       "\n",
       "    .dataframe tbody tr th {\n",
       "        vertical-align: top;\n",
       "    }\n",
       "\n",
       "    .dataframe thead th {\n",
       "        text-align: right;\n",
       "    }\n",
       "</style>\n",
       "<table border=\"1\" class=\"dataframe\">\n",
       "  <thead>\n",
       "    <tr style=\"text-align: right;\">\n",
       "      <th></th>\n",
       "      <th>Monday</th>\n",
       "      <th>Tuesday</th>\n",
       "      <th>Wendesday</th>\n",
       "      <th>Thursday</th>\n",
       "      <th>Friday</th>\n",
       "      <th>Saturday</th>\n",
       "      <th>Sunday</th>\n",
       "    </tr>\n",
       "  </thead>\n",
       "  <tbody>\n",
       "    <tr>\n",
       "      <th>Monday</th>\n",
       "      <td>-</td>\n",
       "      <td>0.000767</td>\n",
       "      <td>0.000011</td>\n",
       "      <td>0.0</td>\n",
       "      <td>0.0</td>\n",
       "      <td>0.000003</td>\n",
       "      <td>0.0</td>\n",
       "    </tr>\n",
       "    <tr>\n",
       "      <th>Tuesday</th>\n",
       "      <td>0.000767</td>\n",
       "      <td>-</td>\n",
       "      <td>0.549577</td>\n",
       "      <td>0.000067</td>\n",
       "      <td>0.000199</td>\n",
       "      <td>0.0</td>\n",
       "      <td>0.0</td>\n",
       "    </tr>\n",
       "    <tr>\n",
       "      <th>Wendesday</th>\n",
       "      <td>0.000011</td>\n",
       "      <td>0.549577</td>\n",
       "      <td>-</td>\n",
       "      <td>0.001901</td>\n",
       "      <td>0.004694</td>\n",
       "      <td>0.0</td>\n",
       "      <td>0.0</td>\n",
       "    </tr>\n",
       "    <tr>\n",
       "      <th>Thursday</th>\n",
       "      <td>0.0</td>\n",
       "      <td>0.000067</td>\n",
       "      <td>0.001901</td>\n",
       "      <td>-</td>\n",
       "      <td>0.999179</td>\n",
       "      <td>0.0</td>\n",
       "      <td>0.0</td>\n",
       "    </tr>\n",
       "    <tr>\n",
       "      <th>Friday</th>\n",
       "      <td>0.0</td>\n",
       "      <td>0.000199</td>\n",
       "      <td>0.004694</td>\n",
       "      <td>0.999179</td>\n",
       "      <td>-</td>\n",
       "      <td>0.0</td>\n",
       "      <td>0.0</td>\n",
       "    </tr>\n",
       "    <tr>\n",
       "      <th>Saturday</th>\n",
       "      <td>0.000003</td>\n",
       "      <td>0.0</td>\n",
       "      <td>0.0</td>\n",
       "      <td>0.0</td>\n",
       "      <td>0.0</td>\n",
       "      <td>-</td>\n",
       "      <td>0.0</td>\n",
       "    </tr>\n",
       "    <tr>\n",
       "      <th>Sunday</th>\n",
       "      <td>0.0</td>\n",
       "      <td>0.0</td>\n",
       "      <td>0.0</td>\n",
       "      <td>0.0</td>\n",
       "      <td>0.0</td>\n",
       "      <td>0.0</td>\n",
       "      <td>-</td>\n",
       "    </tr>\n",
       "  </tbody>\n",
       "</table>\n",
       "</div>"
      ],
      "text/plain": [
       "             Monday   Tuesday Wendesday  Thursday    Friday  Saturday Sunday\n",
       "Monday            -  0.000767  0.000011       0.0       0.0  0.000003    0.0\n",
       "Tuesday    0.000767         -  0.549577  0.000067  0.000199       0.0    0.0\n",
       "Wendesday  0.000011  0.549577         -  0.001901  0.004694       0.0    0.0\n",
       "Thursday        0.0  0.000067  0.001901         -  0.999179       0.0    0.0\n",
       "Friday          0.0  0.000199  0.004694  0.999179         -       0.0    0.0\n",
       "Saturday   0.000003       0.0       0.0       0.0       0.0         -    0.0\n",
       "Sunday          0.0       0.0       0.0       0.0       0.0       0.0      -"
      ]
     },
     "execution_count": 71,
     "metadata": {},
     "output_type": "execute_result"
    }
   ],
   "source": [
    "data = [p_value_MON_MON,p_value_MON_TUE,p_value_MON_WEN,p_value_MON_THU,p_value_MON_FRI,p_value_MON_SAT,p_value_MON_SUN,p_value_TUE_MON,p_value_TUE_TUE,p_value_TUE_WEN,p_value_TUE_THU,p_value_TUE_FRI,p_value_TUE_SAT,p_value_TUE_SUN,p_value_WEN_MON,p_value_WEN_TUE,p_value_WEN_WEN,p_value_WEN_THU,p_value_WEN_FRI,p_value_WEN_SAT,p_value_WEN_SUN,p_value_THU_MON,p_value_THU_TUE,p_value_THU_WEN,p_value_THU_THU,p_value_THU_FRI,p_value_THU_SAT,p_value_THU_SUN,p_value_FRI_MON,p_value_FRI_TUE,p_value_FRI_WEN,p_value_FRI_THU,p_value_FRI_FRI,p_value_FRI_SAT,p_value_FRI_SUN,p_value_SAT_MON,p_value_SAT_TUE,p_value_SAT_WEN,p_value_SAT_THU,p_value_SAT_FRI,p_value_SAT_SAT,p_value_SAT_SUN,p_value_SUN_MON,p_value_SUN_TUE,p_value_SUN_WEN,p_value_SUN_THU,p_value_SUN_FRI,p_value_SUN_SAT,p_value_SUN_SUN]\n",
    "\n",
    "matrix_data = [[None] * 7 for _ in range(7)]\n",
    "\n",
    "for i in range(7):\n",
    "    for j in range(7):\n",
    "        index = i * 7 + j\n",
    "        if index < 49:\n",
    "            matrix_data[i][j] = data[index]\n",
    "\n",
    "dfTaxiDaily_DOW3 = pd.DataFrame(matrix_data, columns=[\"Monday\", \"Tuesday\", \"Wendesday\", \"Thursday\", \"Friday\", \"Saturday\", \"Sunday\"], index=[\"Monday\", \"Tuesday\", \"Wendesday\", \"Thursday\", \"Friday\", \"Saturday\", \"Sunday\"])\n",
    "\n",
    "dfTaxiDaily_DOW3"
   ]
  },
  {
   "cell_type": "code",
   "execution_count": 72,
   "metadata": {
    "tags": []
   },
   "outputs": [
    {
     "data": {
      "text/html": [
       "<div>\n",
       "<style scoped>\n",
       "    .dataframe tbody tr th:only-of-type {\n",
       "        vertical-align: middle;\n",
       "    }\n",
       "\n",
       "    .dataframe tbody tr th {\n",
       "        vertical-align: top;\n",
       "    }\n",
       "\n",
       "    .dataframe thead th {\n",
       "        text-align: right;\n",
       "    }\n",
       "</style>\n",
       "<table border=\"1\" class=\"dataframe\">\n",
       "  <thead>\n",
       "    <tr style=\"text-align: right;\">\n",
       "      <th></th>\n",
       "      <th>Monday</th>\n",
       "      <th>Tuesday</th>\n",
       "      <th>Wendesday</th>\n",
       "      <th>Thursday</th>\n",
       "      <th>Friday</th>\n",
       "      <th>Saturday</th>\n",
       "      <th>Sunday</th>\n",
       "    </tr>\n",
       "  </thead>\n",
       "  <tbody>\n",
       "    <tr>\n",
       "      <th>Monday</th>\n",
       "      <td>-</td>\n",
       "      <td>reject</td>\n",
       "      <td>reject</td>\n",
       "      <td>reject</td>\n",
       "      <td>reject</td>\n",
       "      <td>reject</td>\n",
       "      <td>reject</td>\n",
       "    </tr>\n",
       "    <tr>\n",
       "      <th>Tuesday</th>\n",
       "      <td>reject</td>\n",
       "      <td>-</td>\n",
       "      <td>keep</td>\n",
       "      <td>reject</td>\n",
       "      <td>reject</td>\n",
       "      <td>reject</td>\n",
       "      <td>reject</td>\n",
       "    </tr>\n",
       "    <tr>\n",
       "      <th>Wendesday</th>\n",
       "      <td>reject</td>\n",
       "      <td>keep</td>\n",
       "      <td>-</td>\n",
       "      <td>reject</td>\n",
       "      <td>reject</td>\n",
       "      <td>reject</td>\n",
       "      <td>reject</td>\n",
       "    </tr>\n",
       "    <tr>\n",
       "      <th>Thursday</th>\n",
       "      <td>reject</td>\n",
       "      <td>reject</td>\n",
       "      <td>reject</td>\n",
       "      <td>-</td>\n",
       "      <td>keep</td>\n",
       "      <td>reject</td>\n",
       "      <td>reject</td>\n",
       "    </tr>\n",
       "    <tr>\n",
       "      <th>Friday</th>\n",
       "      <td>reject</td>\n",
       "      <td>reject</td>\n",
       "      <td>reject</td>\n",
       "      <td>keep</td>\n",
       "      <td>-</td>\n",
       "      <td>reject</td>\n",
       "      <td>reject</td>\n",
       "    </tr>\n",
       "    <tr>\n",
       "      <th>Saturday</th>\n",
       "      <td>reject</td>\n",
       "      <td>reject</td>\n",
       "      <td>reject</td>\n",
       "      <td>reject</td>\n",
       "      <td>reject</td>\n",
       "      <td>-</td>\n",
       "      <td>reject</td>\n",
       "    </tr>\n",
       "    <tr>\n",
       "      <th>Sunday</th>\n",
       "      <td>reject</td>\n",
       "      <td>reject</td>\n",
       "      <td>reject</td>\n",
       "      <td>reject</td>\n",
       "      <td>reject</td>\n",
       "      <td>reject</td>\n",
       "      <td>-</td>\n",
       "    </tr>\n",
       "  </tbody>\n",
       "</table>\n",
       "</div>"
      ],
      "text/plain": [
       "           Monday Tuesday Wendesday Thursday  Friday Saturday  Sunday\n",
       "Monday          -  reject    reject   reject  reject   reject  reject\n",
       "Tuesday    reject       -      keep   reject  reject   reject  reject\n",
       "Wendesday  reject    keep         -   reject  reject   reject  reject\n",
       "Thursday   reject  reject    reject        -    keep   reject  reject\n",
       "Friday     reject  reject    reject     keep       -   reject  reject\n",
       "Saturday   reject  reject    reject   reject  reject        -  reject\n",
       "Sunday     reject  reject    reject   reject  reject   reject       -"
      ]
     },
     "execution_count": 72,
     "metadata": {},
     "output_type": "execute_result"
    }
   ],
   "source": [
    "def replace_value(value):\n",
    "    if value == '-':\n",
    "        return '-'\n",
    "    else:\n",
    "        if value < 0.05:\n",
    "            return 'reject'\n",
    "        else:\n",
    "            return 'keep'\n",
    "\n",
    "dfTaxiDaily_DOW3 = dfTaxiDaily_DOW3.applymap(replace_value)\n",
    "\n",
    "\n",
    "dfTaxiDaily_DOW3"
   ]
  },
  {
   "cell_type": "markdown",
   "metadata": {},
   "source": [
    "## Task 3. Trip speeds per borough.\n",
    "\n",
    "For the day of Oct, 1, 2019 compute the average trip speed in Brooklyn, Queens and Bronx (by pickup). Then compare the samples of the trip speeds in Brooklyn, Queens and Bronx on that day using t-test and ks-test (pairwise comparison). Fill two 3x3 pandas dataframes (one for t-test, one for ks-test) with p-values for each pair of boroughs. Can we reject the null hypothesis that speed mean/distributions within each pair of boroughs is is similar?\n",
    "\n",
    "HINT: Download taxizone geojson from 'https://data.cityofnewyork.us/api/geospatial/d3c5-ddgc?method=export&format=GeoJSON' to define borough for each pickup taxi zone."
   ]
  },
  {
   "cell_type": "code",
   "execution_count": 73,
   "metadata": {},
   "outputs": [
    {
     "data": {
      "text/plain": [
       "('Data/TLC/taxizone.geojson', <http.client.HTTPMessage at 0x1c98b21d1d0>)"
      ]
     },
     "execution_count": 73,
     "metadata": {},
     "output_type": "execute_result"
    }
   ],
   "source": [
    "# download taxizone map\n",
    "file = 'taxizone.geojson'\n",
    "url = 'https://data.cityofnewyork.us/api/geospatial/d3c5-ddgc?method=export&format=GeoJSON'\n",
    "urllib.request.urlretrieve(url,'Data/TLC/'+file)"
   ]
  },
  {
   "cell_type": "code",
   "execution_count": 74,
   "metadata": {
    "tags": []
   },
   "outputs": [
    {
     "data": {
      "text/html": [
       "<div>\n",
       "<style scoped>\n",
       "    .dataframe tbody tr th:only-of-type {\n",
       "        vertical-align: middle;\n",
       "    }\n",
       "\n",
       "    .dataframe tbody tr th {\n",
       "        vertical-align: top;\n",
       "    }\n",
       "\n",
       "    .dataframe thead th {\n",
       "        text-align: right;\n",
       "    }\n",
       "</style>\n",
       "<table border=\"1\" class=\"dataframe\">\n",
       "  <thead>\n",
       "    <tr style=\"text-align: right;\">\n",
       "      <th></th>\n",
       "      <th>shape_area</th>\n",
       "      <th>objectid</th>\n",
       "      <th>shape_leng</th>\n",
       "      <th>location_id</th>\n",
       "      <th>zone</th>\n",
       "      <th>borough</th>\n",
       "      <th>geometry</th>\n",
       "    </tr>\n",
       "  </thead>\n",
       "  <tbody>\n",
       "    <tr>\n",
       "      <th>0</th>\n",
       "      <td>0.0007823067885</td>\n",
       "      <td>1</td>\n",
       "      <td>0.116357453189</td>\n",
       "      <td>1</td>\n",
       "      <td>Newark Airport</td>\n",
       "      <td>EWR</td>\n",
       "      <td>MULTIPOLYGON (((-74.18445 40.69500, -74.18449 ...</td>\n",
       "    </tr>\n",
       "    <tr>\n",
       "      <th>1</th>\n",
       "      <td>0.00486634037837</td>\n",
       "      <td>2</td>\n",
       "      <td>0.43346966679</td>\n",
       "      <td>2</td>\n",
       "      <td>Jamaica Bay</td>\n",
       "      <td>Queens</td>\n",
       "      <td>MULTIPOLYGON (((-73.82338 40.63899, -73.82277 ...</td>\n",
       "    </tr>\n",
       "    <tr>\n",
       "      <th>2</th>\n",
       "      <td>0.000314414156821</td>\n",
       "      <td>3</td>\n",
       "      <td>0.0843411059012</td>\n",
       "      <td>3</td>\n",
       "      <td>Allerton/Pelham Gardens</td>\n",
       "      <td>Bronx</td>\n",
       "      <td>MULTIPOLYGON (((-73.84793 40.87134, -73.84725 ...</td>\n",
       "    </tr>\n",
       "    <tr>\n",
       "      <th>3</th>\n",
       "      <td>0.000111871946192</td>\n",
       "      <td>4</td>\n",
       "      <td>0.0435665270921</td>\n",
       "      <td>4</td>\n",
       "      <td>Alphabet City</td>\n",
       "      <td>Manhattan</td>\n",
       "      <td>MULTIPOLYGON (((-73.97177 40.72582, -73.97179 ...</td>\n",
       "    </tr>\n",
       "    <tr>\n",
       "      <th>4</th>\n",
       "      <td>0.000497957489363</td>\n",
       "      <td>5</td>\n",
       "      <td>0.0921464898574</td>\n",
       "      <td>5</td>\n",
       "      <td>Arden Heights</td>\n",
       "      <td>Staten Island</td>\n",
       "      <td>MULTIPOLYGON (((-74.17422 40.56257, -74.17349 ...</td>\n",
       "    </tr>\n",
       "  </tbody>\n",
       "</table>\n",
       "</div>"
      ],
      "text/plain": [
       "          shape_area objectid       shape_leng location_id  \\\n",
       "0    0.0007823067885        1   0.116357453189           1   \n",
       "1   0.00486634037837        2    0.43346966679           2   \n",
       "2  0.000314414156821        3  0.0843411059012           3   \n",
       "3  0.000111871946192        4  0.0435665270921           4   \n",
       "4  0.000497957489363        5  0.0921464898574           5   \n",
       "\n",
       "                      zone        borough  \\\n",
       "0           Newark Airport            EWR   \n",
       "1              Jamaica Bay         Queens   \n",
       "2  Allerton/Pelham Gardens          Bronx   \n",
       "3            Alphabet City      Manhattan   \n",
       "4            Arden Heights  Staten Island   \n",
       "\n",
       "                                            geometry  \n",
       "0  MULTIPOLYGON (((-74.18445 40.69500, -74.18449 ...  \n",
       "1  MULTIPOLYGON (((-73.82338 40.63899, -73.82277 ...  \n",
       "2  MULTIPOLYGON (((-73.84793 40.87134, -73.84725 ...  \n",
       "3  MULTIPOLYGON (((-73.97177 40.72582, -73.97179 ...  \n",
       "4  MULTIPOLYGON (((-74.17422 40.56257, -74.17349 ...  "
      ]
     },
     "execution_count": 74,
     "metadata": {},
     "output_type": "execute_result"
    }
   ],
   "source": [
    "taxi = gpd.read_file('https://data.cityofnewyork.us/api/geospatial/d3c5-ddgc?method=export&format=GeoJSON')\n",
    "taxi.head()"
   ]
  },
  {
   "cell_type": "code",
   "execution_count": 75,
   "metadata": {
    "tags": []
   },
   "outputs": [
    {
     "data": {
      "text/html": [
       "<div>\n",
       "<style scoped>\n",
       "    .dataframe tbody tr th:only-of-type {\n",
       "        vertical-align: middle;\n",
       "    }\n",
       "\n",
       "    .dataframe tbody tr th {\n",
       "        vertical-align: top;\n",
       "    }\n",
       "\n",
       "    .dataframe thead th {\n",
       "        text-align: right;\n",
       "    }\n",
       "</style>\n",
       "<table border=\"1\" class=\"dataframe\">\n",
       "  <thead>\n",
       "    <tr style=\"text-align: right;\">\n",
       "      <th></th>\n",
       "      <th>VendorID</th>\n",
       "      <th>lpep_pickup_datetime</th>\n",
       "      <th>lpep_dropoff_datetime</th>\n",
       "      <th>store_and_fwd_flag</th>\n",
       "      <th>RatecodeID</th>\n",
       "      <th>PULocationID</th>\n",
       "      <th>DOLocationID</th>\n",
       "      <th>passenger_count</th>\n",
       "      <th>trip_distance</th>\n",
       "      <th>fare_amount</th>\n",
       "      <th>...</th>\n",
       "      <th>trip_type</th>\n",
       "      <th>congestion_surcharge</th>\n",
       "      <th>Date</th>\n",
       "      <th>Month</th>\n",
       "      <th>Year</th>\n",
       "      <th>DOW</th>\n",
       "      <th>Hour</th>\n",
       "      <th>Minute</th>\n",
       "      <th>trip_duration</th>\n",
       "      <th>speed</th>\n",
       "    </tr>\n",
       "  </thead>\n",
       "  <tbody>\n",
       "    <tr>\n",
       "      <th>13760139</th>\n",
       "      <td>2</td>\n",
       "      <td>2019-10-01 00:02:03</td>\n",
       "      <td>2019-10-01 00:03:34</td>\n",
       "      <td>N</td>\n",
       "      <td>1.0</td>\n",
       "      <td>166</td>\n",
       "      <td>166</td>\n",
       "      <td>1.0</td>\n",
       "      <td>0.36</td>\n",
       "      <td>3.5</td>\n",
       "      <td>...</td>\n",
       "      <td>1.0</td>\n",
       "      <td>0.0</td>\n",
       "      <td>2019-10-01</td>\n",
       "      <td>10</td>\n",
       "      <td>2019</td>\n",
       "      <td>1</td>\n",
       "      <td>0</td>\n",
       "      <td>2</td>\n",
       "      <td>1.516667</td>\n",
       "      <td>14.241758</td>\n",
       "    </tr>\n",
       "    <tr>\n",
       "      <th>13760341</th>\n",
       "      <td>2</td>\n",
       "      <td>2019-10-01 00:02:07</td>\n",
       "      <td>2019-10-01 00:12:34</td>\n",
       "      <td>N</td>\n",
       "      <td>1.0</td>\n",
       "      <td>130</td>\n",
       "      <td>205</td>\n",
       "      <td>1.0</td>\n",
       "      <td>2.85</td>\n",
       "      <td>11.0</td>\n",
       "      <td>...</td>\n",
       "      <td>1.0</td>\n",
       "      <td>0.0</td>\n",
       "      <td>2019-10-01</td>\n",
       "      <td>10</td>\n",
       "      <td>2019</td>\n",
       "      <td>1</td>\n",
       "      <td>0</td>\n",
       "      <td>2</td>\n",
       "      <td>10.450000</td>\n",
       "      <td>16.363636</td>\n",
       "    </tr>\n",
       "    <tr>\n",
       "      <th>13760379</th>\n",
       "      <td>2</td>\n",
       "      <td>2019-10-01 00:00:05</td>\n",
       "      <td>2019-10-01 00:05:50</td>\n",
       "      <td>N</td>\n",
       "      <td>1.0</td>\n",
       "      <td>256</td>\n",
       "      <td>37</td>\n",
       "      <td>1.0</td>\n",
       "      <td>1.21</td>\n",
       "      <td>6.5</td>\n",
       "      <td>...</td>\n",
       "      <td>1.0</td>\n",
       "      <td>0.0</td>\n",
       "      <td>2019-10-01</td>\n",
       "      <td>10</td>\n",
       "      <td>2019</td>\n",
       "      <td>1</td>\n",
       "      <td>0</td>\n",
       "      <td>0</td>\n",
       "      <td>5.750000</td>\n",
       "      <td>12.626087</td>\n",
       "    </tr>\n",
       "    <tr>\n",
       "      <th>13819523</th>\n",
       "      <td>2</td>\n",
       "      <td>2019-10-01 00:26:02</td>\n",
       "      <td>2019-10-01 00:39:58</td>\n",
       "      <td>N</td>\n",
       "      <td>1.0</td>\n",
       "      <td>112</td>\n",
       "      <td>196</td>\n",
       "      <td>1.0</td>\n",
       "      <td>5.88</td>\n",
       "      <td>18.0</td>\n",
       "      <td>...</td>\n",
       "      <td>1.0</td>\n",
       "      <td>0.0</td>\n",
       "      <td>2019-10-01</td>\n",
       "      <td>10</td>\n",
       "      <td>2019</td>\n",
       "      <td>1</td>\n",
       "      <td>0</td>\n",
       "      <td>26</td>\n",
       "      <td>13.933333</td>\n",
       "      <td>25.320574</td>\n",
       "    </tr>\n",
       "    <tr>\n",
       "      <th>13819524</th>\n",
       "      <td>1</td>\n",
       "      <td>2019-10-01 00:18:11</td>\n",
       "      <td>2019-10-01 00:22:38</td>\n",
       "      <td>N</td>\n",
       "      <td>1.0</td>\n",
       "      <td>43</td>\n",
       "      <td>263</td>\n",
       "      <td>1.0</td>\n",
       "      <td>0.80</td>\n",
       "      <td>5.0</td>\n",
       "      <td>...</td>\n",
       "      <td>1.0</td>\n",
       "      <td>0.0</td>\n",
       "      <td>2019-10-01</td>\n",
       "      <td>10</td>\n",
       "      <td>2019</td>\n",
       "      <td>1</td>\n",
       "      <td>0</td>\n",
       "      <td>18</td>\n",
       "      <td>4.450000</td>\n",
       "      <td>10.786517</td>\n",
       "    </tr>\n",
       "  </tbody>\n",
       "</table>\n",
       "<p>5 rows × 28 columns</p>\n",
       "</div>"
      ],
      "text/plain": [
       "          VendorID lpep_pickup_datetime lpep_dropoff_datetime  \\\n",
       "13760139         2  2019-10-01 00:02:03   2019-10-01 00:03:34   \n",
       "13760341         2  2019-10-01 00:02:07   2019-10-01 00:12:34   \n",
       "13760379         2  2019-10-01 00:00:05   2019-10-01 00:05:50   \n",
       "13819523         2  2019-10-01 00:26:02   2019-10-01 00:39:58   \n",
       "13819524         1  2019-10-01 00:18:11   2019-10-01 00:22:38   \n",
       "\n",
       "         store_and_fwd_flag  RatecodeID  PULocationID  DOLocationID  \\\n",
       "13760139                  N         1.0           166           166   \n",
       "13760341                  N         1.0           130           205   \n",
       "13760379                  N         1.0           256            37   \n",
       "13819523                  N         1.0           112           196   \n",
       "13819524                  N         1.0            43           263   \n",
       "\n",
       "          passenger_count  trip_distance  fare_amount  ...  trip_type  \\\n",
       "13760139              1.0           0.36          3.5  ...        1.0   \n",
       "13760341              1.0           2.85         11.0  ...        1.0   \n",
       "13760379              1.0           1.21          6.5  ...        1.0   \n",
       "13819523              1.0           5.88         18.0  ...        1.0   \n",
       "13819524              1.0           0.80          5.0  ...        1.0   \n",
       "\n",
       "          congestion_surcharge       Date  Month  Year  DOW  Hour  Minute  \\\n",
       "13760139                   0.0 2019-10-01     10  2019    1     0       2   \n",
       "13760341                   0.0 2019-10-01     10  2019    1     0       2   \n",
       "13760379                   0.0 2019-10-01     10  2019    1     0       0   \n",
       "13819523                   0.0 2019-10-01     10  2019    1     0      26   \n",
       "13819524                   0.0 2019-10-01     10  2019    1     0      18   \n",
       "\n",
       "          trip_duration      speed  \n",
       "13760139       1.516667  14.241758  \n",
       "13760341      10.450000  16.363636  \n",
       "13760379       5.750000  12.626087  \n",
       "13819523      13.933333  25.320574  \n",
       "13819524       4.450000  10.786517  \n",
       "\n",
       "[5 rows x 28 columns]"
      ]
     },
     "execution_count": 75,
     "metadata": {},
     "output_type": "execute_result"
    }
   ],
   "source": [
    "dfTaxi_day.head()"
   ]
  },
  {
   "cell_type": "code",
   "execution_count": 76,
   "metadata": {
    "tags": []
   },
   "outputs": [],
   "source": [
    "dfTaxi_day['PULocationID'] = dfTaxi_day['PULocationID'].astype(int)\n",
    "taxi['location_id'] = taxi['location_id'].astype(int)"
   ]
  },
  {
   "cell_type": "code",
   "execution_count": 77,
   "metadata": {
    "tags": []
   },
   "outputs": [],
   "source": [
    "taxi = taxi.drop_duplicates(subset=['location_id'])"
   ]
  },
  {
   "cell_type": "code",
   "execution_count": 78,
   "metadata": {
    "tags": []
   },
   "outputs": [
    {
     "data": {
      "text/html": [
       "<div>\n",
       "<style scoped>\n",
       "    .dataframe tbody tr th:only-of-type {\n",
       "        vertical-align: middle;\n",
       "    }\n",
       "\n",
       "    .dataframe tbody tr th {\n",
       "        vertical-align: top;\n",
       "    }\n",
       "\n",
       "    .dataframe thead th {\n",
       "        text-align: right;\n",
       "    }\n",
       "</style>\n",
       "<table border=\"1\" class=\"dataframe\">\n",
       "  <thead>\n",
       "    <tr style=\"text-align: right;\">\n",
       "      <th></th>\n",
       "      <th>VendorID</th>\n",
       "      <th>lpep_pickup_datetime</th>\n",
       "      <th>lpep_dropoff_datetime</th>\n",
       "      <th>store_and_fwd_flag</th>\n",
       "      <th>RatecodeID</th>\n",
       "      <th>PULocationID</th>\n",
       "      <th>DOLocationID</th>\n",
       "      <th>passenger_count</th>\n",
       "      <th>trip_distance</th>\n",
       "      <th>fare_amount</th>\n",
       "      <th>...</th>\n",
       "      <th>Minute</th>\n",
       "      <th>trip_duration</th>\n",
       "      <th>speed</th>\n",
       "      <th>shape_area</th>\n",
       "      <th>objectid</th>\n",
       "      <th>shape_leng</th>\n",
       "      <th>location_id</th>\n",
       "      <th>zone</th>\n",
       "      <th>borough</th>\n",
       "      <th>geometry</th>\n",
       "    </tr>\n",
       "  </thead>\n",
       "  <tbody>\n",
       "    <tr>\n",
       "      <th>0</th>\n",
       "      <td>2</td>\n",
       "      <td>2019-10-01 00:02:03</td>\n",
       "      <td>2019-10-01 00:03:34</td>\n",
       "      <td>N</td>\n",
       "      <td>1.0</td>\n",
       "      <td>166</td>\n",
       "      <td>166</td>\n",
       "      <td>1.0</td>\n",
       "      <td>0.36</td>\n",
       "      <td>3.5</td>\n",
       "      <td>...</td>\n",
       "      <td>2</td>\n",
       "      <td>1.516667</td>\n",
       "      <td>14.241758</td>\n",
       "      <td>0.000255276270405</td>\n",
       "      <td>166</td>\n",
       "      <td>0.0688237542871</td>\n",
       "      <td>166.0</td>\n",
       "      <td>Morningside Heights</td>\n",
       "      <td>Manhattan</td>\n",
       "      <td>MULTIPOLYGON (((-73.95708 40.81430, -73.95627 ...</td>\n",
       "    </tr>\n",
       "    <tr>\n",
       "      <th>1</th>\n",
       "      <td>2</td>\n",
       "      <td>2019-10-01 00:02:07</td>\n",
       "      <td>2019-10-01 00:12:34</td>\n",
       "      <td>N</td>\n",
       "      <td>1.0</td>\n",
       "      <td>130</td>\n",
       "      <td>205</td>\n",
       "      <td>1.0</td>\n",
       "      <td>2.85</td>\n",
       "      <td>11.0</td>\n",
       "      <td>...</td>\n",
       "      <td>2</td>\n",
       "      <td>10.450000</td>\n",
       "      <td>16.363636</td>\n",
       "      <td>0.000468322514327</td>\n",
       "      <td>130</td>\n",
       "      <td>0.142028320665</td>\n",
       "      <td>130.0</td>\n",
       "      <td>Jamaica</td>\n",
       "      <td>Queens</td>\n",
       "      <td>MULTIPOLYGON (((-73.76963 40.71179, -73.77007 ...</td>\n",
       "    </tr>\n",
       "    <tr>\n",
       "      <th>2</th>\n",
       "      <td>2</td>\n",
       "      <td>2019-10-01 00:00:05</td>\n",
       "      <td>2019-10-01 00:05:50</td>\n",
       "      <td>N</td>\n",
       "      <td>1.0</td>\n",
       "      <td>256</td>\n",
       "      <td>37</td>\n",
       "      <td>1.0</td>\n",
       "      <td>1.21</td>\n",
       "      <td>6.5</td>\n",
       "      <td>...</td>\n",
       "      <td>0</td>\n",
       "      <td>5.750000</td>\n",
       "      <td>12.626087</td>\n",
       "      <td>0.000168611097013</td>\n",
       "      <td>256</td>\n",
       "      <td>0.0679149669603</td>\n",
       "      <td>256.0</td>\n",
       "      <td>Williamsburg (South Side)</td>\n",
       "      <td>Brooklyn</td>\n",
       "      <td>MULTIPOLYGON (((-73.95834 40.71331, -73.95681 ...</td>\n",
       "    </tr>\n",
       "    <tr>\n",
       "      <th>3</th>\n",
       "      <td>2</td>\n",
       "      <td>2019-10-01 00:26:02</td>\n",
       "      <td>2019-10-01 00:39:58</td>\n",
       "      <td>N</td>\n",
       "      <td>1.0</td>\n",
       "      <td>112</td>\n",
       "      <td>196</td>\n",
       "      <td>1.0</td>\n",
       "      <td>5.88</td>\n",
       "      <td>18.0</td>\n",
       "      <td>...</td>\n",
       "      <td>26</td>\n",
       "      <td>13.933333</td>\n",
       "      <td>25.320574</td>\n",
       "      <td>0.000462068671429</td>\n",
       "      <td>112</td>\n",
       "      <td>0.107267875765</td>\n",
       "      <td>112.0</td>\n",
       "      <td>Greenpoint</td>\n",
       "      <td>Brooklyn</td>\n",
       "      <td>MULTIPOLYGON (((-73.95440 40.73911, -73.95428 ...</td>\n",
       "    </tr>\n",
       "    <tr>\n",
       "      <th>4</th>\n",
       "      <td>1</td>\n",
       "      <td>2019-10-01 00:18:11</td>\n",
       "      <td>2019-10-01 00:22:38</td>\n",
       "      <td>N</td>\n",
       "      <td>1.0</td>\n",
       "      <td>43</td>\n",
       "      <td>263</td>\n",
       "      <td>1.0</td>\n",
       "      <td>0.80</td>\n",
       "      <td>5.0</td>\n",
       "      <td>...</td>\n",
       "      <td>18</td>\n",
       "      <td>4.450000</td>\n",
       "      <td>10.786517</td>\n",
       "      <td>0.000379662912054</td>\n",
       "      <td>43</td>\n",
       "      <td>0.0997386183576</td>\n",
       "      <td>43.0</td>\n",
       "      <td>Central Park</td>\n",
       "      <td>Manhattan</td>\n",
       "      <td>MULTIPOLYGON (((-73.97255 40.76490, -73.97301 ...</td>\n",
       "    </tr>\n",
       "  </tbody>\n",
       "</table>\n",
       "<p>5 rows × 35 columns</p>\n",
       "</div>"
      ],
      "text/plain": [
       "   VendorID lpep_pickup_datetime lpep_dropoff_datetime store_and_fwd_flag  \\\n",
       "0         2  2019-10-01 00:02:03   2019-10-01 00:03:34                  N   \n",
       "1         2  2019-10-01 00:02:07   2019-10-01 00:12:34                  N   \n",
       "2         2  2019-10-01 00:00:05   2019-10-01 00:05:50                  N   \n",
       "3         2  2019-10-01 00:26:02   2019-10-01 00:39:58                  N   \n",
       "4         1  2019-10-01 00:18:11   2019-10-01 00:22:38                  N   \n",
       "\n",
       "   RatecodeID  PULocationID  DOLocationID  passenger_count  trip_distance  \\\n",
       "0         1.0           166           166              1.0           0.36   \n",
       "1         1.0           130           205              1.0           2.85   \n",
       "2         1.0           256            37              1.0           1.21   \n",
       "3         1.0           112           196              1.0           5.88   \n",
       "4         1.0            43           263              1.0           0.80   \n",
       "\n",
       "   fare_amount  ...  Minute  trip_duration      speed         shape_area  \\\n",
       "0          3.5  ...       2       1.516667  14.241758  0.000255276270405   \n",
       "1         11.0  ...       2      10.450000  16.363636  0.000468322514327   \n",
       "2          6.5  ...       0       5.750000  12.626087  0.000168611097013   \n",
       "3         18.0  ...      26      13.933333  25.320574  0.000462068671429   \n",
       "4          5.0  ...      18       4.450000  10.786517  0.000379662912054   \n",
       "\n",
       "   objectid       shape_leng  location_id                       zone  \\\n",
       "0       166  0.0688237542871        166.0        Morningside Heights   \n",
       "1       130   0.142028320665        130.0                    Jamaica   \n",
       "2       256  0.0679149669603        256.0  Williamsburg (South Side)   \n",
       "3       112   0.107267875765        112.0                 Greenpoint   \n",
       "4        43  0.0997386183576         43.0               Central Park   \n",
       "\n",
       "     borough                                           geometry  \n",
       "0  Manhattan  MULTIPOLYGON (((-73.95708 40.81430, -73.95627 ...  \n",
       "1     Queens  MULTIPOLYGON (((-73.76963 40.71179, -73.77007 ...  \n",
       "2   Brooklyn  MULTIPOLYGON (((-73.95834 40.71331, -73.95681 ...  \n",
       "3   Brooklyn  MULTIPOLYGON (((-73.95440 40.73911, -73.95428 ...  \n",
       "4  Manhattan  MULTIPOLYGON (((-73.97255 40.76490, -73.97301 ...  \n",
       "\n",
       "[5 rows x 35 columns]"
      ]
     },
     "execution_count": 78,
     "metadata": {},
     "output_type": "execute_result"
    }
   ],
   "source": [
    "TaxiViz =dfTaxi_day.merge(taxi, left_on='PULocationID', right_on='location_id', how='left')\n",
    "TaxiViz.head()"
   ]
  },
  {
   "cell_type": "code",
   "execution_count": 79,
   "metadata": {
    "tags": []
   },
   "outputs": [
    {
     "data": {
      "text/html": [
       "<div>\n",
       "<style scoped>\n",
       "    .dataframe tbody tr th:only-of-type {\n",
       "        vertical-align: middle;\n",
       "    }\n",
       "\n",
       "    .dataframe tbody tr th {\n",
       "        vertical-align: top;\n",
       "    }\n",
       "\n",
       "    .dataframe thead th {\n",
       "        text-align: right;\n",
       "    }\n",
       "</style>\n",
       "<table border=\"1\" class=\"dataframe\">\n",
       "  <thead>\n",
       "    <tr style=\"text-align: right;\">\n",
       "      <th></th>\n",
       "      <th>borough</th>\n",
       "      <th>trip_duration</th>\n",
       "      <th>trip_distance</th>\n",
       "      <th>ave_speed</th>\n",
       "    </tr>\n",
       "  </thead>\n",
       "  <tbody>\n",
       "    <tr>\n",
       "      <th>0</th>\n",
       "      <td>Bronx</td>\n",
       "      <td>21668.050000</td>\n",
       "      <td>6101.52</td>\n",
       "      <td>16.895438</td>\n",
       "    </tr>\n",
       "    <tr>\n",
       "      <th>1</th>\n",
       "      <td>Brooklyn</td>\n",
       "      <td>68969.366667</td>\n",
       "      <td>15933.62</td>\n",
       "      <td>13.861476</td>\n",
       "    </tr>\n",
       "    <tr>\n",
       "      <th>2</th>\n",
       "      <td>Manhattan</td>\n",
       "      <td>67148.050000</td>\n",
       "      <td>14408.71</td>\n",
       "      <td>12.874873</td>\n",
       "    </tr>\n",
       "    <tr>\n",
       "      <th>3</th>\n",
       "      <td>Queens</td>\n",
       "      <td>51401.983333</td>\n",
       "      <td>12824.63</td>\n",
       "      <td>14.969808</td>\n",
       "    </tr>\n",
       "    <tr>\n",
       "      <th>4</th>\n",
       "      <td>Staten Island</td>\n",
       "      <td>145.616667</td>\n",
       "      <td>59.62</td>\n",
       "      <td>24.565869</td>\n",
       "    </tr>\n",
       "  </tbody>\n",
       "</table>\n",
       "</div>"
      ],
      "text/plain": [
       "         borough  trip_duration  trip_distance  ave_speed\n",
       "0          Bronx   21668.050000        6101.52  16.895438\n",
       "1       Brooklyn   68969.366667       15933.62  13.861476\n",
       "2      Manhattan   67148.050000       14408.71  12.874873\n",
       "3         Queens   51401.983333       12824.63  14.969808\n",
       "4  Staten Island     145.616667          59.62  24.565869"
      ]
     },
     "execution_count": 79,
     "metadata": {},
     "output_type": "execute_result"
    }
   ],
   "source": [
    "TaxiViz_mean_speed = TaxiViz.groupby(['borough']).\\\n",
    "            agg({'trip_duration':'sum','trip_distance':'sum'})\n",
    "TaxiViz_mean_speed1=TaxiViz_mean_speed.reset_index()\n",
    "TaxiViz_mean_speed1['ave_speed']=TaxiViz_mean_speed1['trip_distance']/TaxiViz_mean_speed1['trip_duration']*60\n",
    "TaxiViz_mean_speed1"
   ]
  },
  {
   "cell_type": "code",
   "execution_count": 80,
   "metadata": {
    "tags": []
   },
   "outputs": [],
   "source": [
    "Brooklyn=TaxiViz[(TaxiViz['borough'] == 'Brooklyn')]\n",
    "Queens=TaxiViz[(TaxiViz['borough'] == 'Queens')]\n",
    "Bronx=TaxiViz[(TaxiViz['borough'] == 'Bronx')]"
   ]
  },
  {
   "cell_type": "code",
   "execution_count": 81,
   "metadata": {
    "tags": []
   },
   "outputs": [],
   "source": [
    "t_stat, p_value_BN_Q=stats.ttest_ind(Brooklyn['speed'],Queens['speed'])\n",
    "t_stat, p_value_BN_BX=stats.ttest_ind(Brooklyn['speed'],Bronx['speed'])\n",
    "t_stat, p_value_Q_BX=stats.ttest_ind(Queens['speed'],Bronx['speed'])\n",
    "p_value_BN_BN=p_value_BX_BX=p_value_Q_Q=1"
   ]
  },
  {
   "cell_type": "code",
   "execution_count": 82,
   "metadata": {
    "tags": []
   },
   "outputs": [
    {
     "data": {
      "text/plain": [
       "TtestResult(statistic=-7.966592279969484, pvalue=1.879581961355796e-15, df=7282.0)"
      ]
     },
     "execution_count": 82,
     "metadata": {},
     "output_type": "execute_result"
    }
   ],
   "source": [
    "stats.ttest_ind(Brooklyn['speed'],Queens['speed'])"
   ]
  },
  {
   "cell_type": "code",
   "execution_count": 83,
   "metadata": {
    "tags": []
   },
   "outputs": [],
   "source": [
    "data1 = [[p_value_BN_BN,p_value_BN_Q,p_value_BN_BX],\n",
    "        [p_value_BN_Q, p_value_Q_Q,p_value_Q_BX],\n",
    "        [p_value_BN_BX,p_value_Q_BX, p_value_BX_BX]]"
   ]
  },
  {
   "cell_type": "code",
   "execution_count": 84,
   "metadata": {
    "tags": []
   },
   "outputs": [],
   "source": [
    "float_data = [[float(item) for item in sublist] for sublist in data1]"
   ]
  },
  {
   "cell_type": "code",
   "execution_count": 85,
   "metadata": {
    "tags": []
   },
   "outputs": [
    {
     "data": {
      "text/html": [
       "<div>\n",
       "<style scoped>\n",
       "    .dataframe tbody tr th:only-of-type {\n",
       "        vertical-align: middle;\n",
       "    }\n",
       "\n",
       "    .dataframe tbody tr th {\n",
       "        vertical-align: top;\n",
       "    }\n",
       "\n",
       "    .dataframe thead th {\n",
       "        text-align: right;\n",
       "    }\n",
       "</style>\n",
       "<table border=\"1\" class=\"dataframe\">\n",
       "  <thead>\n",
       "    <tr style=\"text-align: right;\">\n",
       "      <th></th>\n",
       "      <th>BN</th>\n",
       "      <th>Q</th>\n",
       "      <th>BX</th>\n",
       "    </tr>\n",
       "  </thead>\n",
       "  <tbody>\n",
       "    <tr>\n",
       "      <th>BN</th>\n",
       "      <td>1.000000e+00</td>\n",
       "      <td>1.879582e-15</td>\n",
       "      <td>3.834652e-36</td>\n",
       "    </tr>\n",
       "    <tr>\n",
       "      <th>Q</th>\n",
       "      <td>1.879582e-15</td>\n",
       "      <td>1.000000e+00</td>\n",
       "      <td>5.891792e-12</td>\n",
       "    </tr>\n",
       "    <tr>\n",
       "      <th>BX</th>\n",
       "      <td>3.834652e-36</td>\n",
       "      <td>5.891792e-12</td>\n",
       "      <td>1.000000e+00</td>\n",
       "    </tr>\n",
       "  </tbody>\n",
       "</table>\n",
       "</div>"
      ],
      "text/plain": [
       "              BN             Q            BX\n",
       "BN  1.000000e+00  1.879582e-15  3.834652e-36\n",
       "Q   1.879582e-15  1.000000e+00  5.891792e-12\n",
       "BX  3.834652e-36  5.891792e-12  1.000000e+00"
      ]
     },
     "execution_count": 85,
     "metadata": {},
     "output_type": "execute_result"
    }
   ],
   "source": [
    "columns = [\"BN\", \"Q\", \"BX\"]\n",
    "index = [\"BN\", \"Q\", \"BX\"]\n",
    "Taxi_t= pd.DataFrame(data1,columns=columns,index=index)\n",
    "Taxi_t"
   ]
  },
  {
   "cell_type": "code",
   "execution_count": 86,
   "metadata": {
    "tags": []
   },
   "outputs": [
    {
     "data": {
      "text/html": [
       "<div>\n",
       "<style scoped>\n",
       "    .dataframe tbody tr th:only-of-type {\n",
       "        vertical-align: middle;\n",
       "    }\n",
       "\n",
       "    .dataframe tbody tr th {\n",
       "        vertical-align: top;\n",
       "    }\n",
       "\n",
       "    .dataframe thead th {\n",
       "        text-align: right;\n",
       "    }\n",
       "</style>\n",
       "<table border=\"1\" class=\"dataframe\">\n",
       "  <thead>\n",
       "    <tr style=\"text-align: right;\">\n",
       "      <th></th>\n",
       "      <th>BN</th>\n",
       "      <th>Q</th>\n",
       "      <th>BX</th>\n",
       "    </tr>\n",
       "  </thead>\n",
       "  <tbody>\n",
       "    <tr>\n",
       "      <th>BN</th>\n",
       "      <td>-</td>\n",
       "      <td>reject</td>\n",
       "      <td>reject</td>\n",
       "    </tr>\n",
       "    <tr>\n",
       "      <th>Q</th>\n",
       "      <td>reject</td>\n",
       "      <td>-</td>\n",
       "      <td>reject</td>\n",
       "    </tr>\n",
       "    <tr>\n",
       "      <th>BX</th>\n",
       "      <td>reject</td>\n",
       "      <td>reject</td>\n",
       "      <td>-</td>\n",
       "    </tr>\n",
       "  </tbody>\n",
       "</table>\n",
       "</div>"
      ],
      "text/plain": [
       "        BN       Q      BX\n",
       "BN       -  reject  reject\n",
       "Q   reject       -  reject\n",
       "BX  reject  reject       -"
      ]
     },
     "execution_count": 86,
     "metadata": {},
     "output_type": "execute_result"
    }
   ],
   "source": [
    "def replace_value(value):\n",
    "    if value == 1:\n",
    "        return '-'\n",
    "    else:\n",
    "        if value < 0.05:\n",
    "            return 'reject'\n",
    "        else:\n",
    "            return 'keep'\n",
    "\n",
    "Taxi_t = Taxi_t.applymap(replace_value)\n",
    "Taxi_t"
   ]
  },
  {
   "cell_type": "code",
   "execution_count": 87,
   "metadata": {
    "tags": []
   },
   "outputs": [],
   "source": [
    "ks_statistic,p_value_BN_Q_ks = stats.ks_2samp(Brooklyn['speed'],Queens['speed'])\n",
    "ks_statistic,p_value_BN_BX_ks = stats.ks_2samp(Brooklyn['speed'],Bronx['speed'])\n",
    "ks_statistic,p_value_Q_BX_ks= stats.ks_2samp(Queens['speed'],Bronx['speed'])\n",
    "p_value_BN_BN_ks=p_value_BX_BX_ks=p_value_Q_Q_ks=1"
   ]
  },
  {
   "cell_type": "code",
   "execution_count": 88,
   "metadata": {
    "tags": []
   },
   "outputs": [
    {
     "data": {
      "text/html": [
       "<div>\n",
       "<style scoped>\n",
       "    .dataframe tbody tr th:only-of-type {\n",
       "        vertical-align: middle;\n",
       "    }\n",
       "\n",
       "    .dataframe tbody tr th {\n",
       "        vertical-align: top;\n",
       "    }\n",
       "\n",
       "    .dataframe thead th {\n",
       "        text-align: right;\n",
       "    }\n",
       "</style>\n",
       "<table border=\"1\" class=\"dataframe\">\n",
       "  <thead>\n",
       "    <tr style=\"text-align: right;\">\n",
       "      <th></th>\n",
       "      <th>BN</th>\n",
       "      <th>Q</th>\n",
       "      <th>BX</th>\n",
       "    </tr>\n",
       "  </thead>\n",
       "  <tbody>\n",
       "    <tr>\n",
       "      <th>BN</th>\n",
       "      <td>1.000000e+00</td>\n",
       "      <td>2.524630e-20</td>\n",
       "      <td>1.489717e-37</td>\n",
       "    </tr>\n",
       "    <tr>\n",
       "      <th>Q</th>\n",
       "      <td>2.524630e-20</td>\n",
       "      <td>1.000000e+00</td>\n",
       "      <td>3.536545e-13</td>\n",
       "    </tr>\n",
       "    <tr>\n",
       "      <th>BX</th>\n",
       "      <td>1.489717e-37</td>\n",
       "      <td>3.536545e-13</td>\n",
       "      <td>1.000000e+00</td>\n",
       "    </tr>\n",
       "  </tbody>\n",
       "</table>\n",
       "</div>"
      ],
      "text/plain": [
       "              BN             Q            BX\n",
       "BN  1.000000e+00  2.524630e-20  1.489717e-37\n",
       "Q   2.524630e-20  1.000000e+00  3.536545e-13\n",
       "BX  1.489717e-37  3.536545e-13  1.000000e+00"
      ]
     },
     "execution_count": 88,
     "metadata": {},
     "output_type": "execute_result"
    }
   ],
   "source": [
    "data2 = [[p_value_BN_BN_ks, p_value_BN_Q_ks, p_value_BN_BX_ks],\n",
    "        [p_value_BN_Q_ks, p_value_Q_Q_ks,p_value_Q_BX_ks],\n",
    "        [p_value_BN_BX_ks,p_value_Q_BX_ks, p_value_BX_BX_ks]]\n",
    "float_data = [[float(item) for item in sublist] for sublist in data2]\n",
    "columns = [\"BN\", \"Q\", \"BX\"]\n",
    "index = [\"BN\", \"Q\", \"BX\"]\n",
    "Taxi_ks= pd.DataFrame(data2,columns=columns,index=index)\n",
    "Taxi_ks"
   ]
  },
  {
   "cell_type": "code",
   "execution_count": 89,
   "metadata": {
    "tags": []
   },
   "outputs": [
    {
     "data": {
      "text/html": [
       "<div>\n",
       "<style scoped>\n",
       "    .dataframe tbody tr th:only-of-type {\n",
       "        vertical-align: middle;\n",
       "    }\n",
       "\n",
       "    .dataframe tbody tr th {\n",
       "        vertical-align: top;\n",
       "    }\n",
       "\n",
       "    .dataframe thead th {\n",
       "        text-align: right;\n",
       "    }\n",
       "</style>\n",
       "<table border=\"1\" class=\"dataframe\">\n",
       "  <thead>\n",
       "    <tr style=\"text-align: right;\">\n",
       "      <th></th>\n",
       "      <th>BN</th>\n",
       "      <th>Q</th>\n",
       "      <th>BX</th>\n",
       "    </tr>\n",
       "  </thead>\n",
       "  <tbody>\n",
       "    <tr>\n",
       "      <th>BN</th>\n",
       "      <td>-</td>\n",
       "      <td>reject</td>\n",
       "      <td>reject</td>\n",
       "    </tr>\n",
       "    <tr>\n",
       "      <th>Q</th>\n",
       "      <td>reject</td>\n",
       "      <td>-</td>\n",
       "      <td>reject</td>\n",
       "    </tr>\n",
       "    <tr>\n",
       "      <th>BX</th>\n",
       "      <td>reject</td>\n",
       "      <td>reject</td>\n",
       "      <td>-</td>\n",
       "    </tr>\n",
       "  </tbody>\n",
       "</table>\n",
       "</div>"
      ],
      "text/plain": [
       "        BN       Q      BX\n",
       "BN       -  reject  reject\n",
       "Q   reject       -  reject\n",
       "BX  reject  reject       -"
      ]
     },
     "execution_count": 89,
     "metadata": {},
     "output_type": "execute_result"
    }
   ],
   "source": [
    "def replace_value(value):\n",
    "    if value == 1:\n",
    "        return '-'\n",
    "    else:\n",
    "        if value < 0.05:\n",
    "            return 'reject'\n",
    "        else:\n",
    "            return 'keep'\n",
    "\n",
    "Taxi_ks = Taxi_ks.applymap(replace_value)\n",
    "Taxi_ks"
   ]
  },
  {
   "cell_type": "markdown",
   "metadata": {},
   "source": [
    "# Task 4. Ridership drop during pandemics\n",
    "No doubt that 2020 saw a large drop in ridership but how can we assess it? Keep in mind that we don't have the full year, the drop just started in March and there is also a general decline in taxi ridership, so we need a way to distinguish pandemics-related drop from the general trend. In order to account for it, normalize 2020 daily ridership data by the same day's 30-days rolling average (15 days before/after to smoothen out the effect of weekly variations within the baseline) in 2019, and compare the daily ratios of ridership after the shelter in place order (Mar 20th till June, 30th, 2020) and before (Jan, 16-Mar, 20th, 2020). Report p-values of ks-test and t-test. Can we reject the null hypothesis that daily ridership ratio average/distribution after March, 20, 2020 is the same as before? For comparison and to provide a baseline for evaluating results of the hypothesis testing perform the same analysis for the same periods of 2019. Can we reject the null hypothesis that daily ridership ratio average/distribution after March, 20, 2019 is the same as before?"
   ]
  },
  {
   "cell_type": "code",
   "execution_count": 90,
   "metadata": {},
   "outputs": [],
   "source": [
    "#  Compute the rolling average of 2019 and the daily ratios of ridership of 2020"
   ]
  },
  {
   "cell_type": "code",
   "execution_count": 91,
   "metadata": {},
   "outputs": [
    {
     "data": {
      "text/html": [
       "<div>\n",
       "<style scoped>\n",
       "    .dataframe tbody tr th:only-of-type {\n",
       "        vertical-align: middle;\n",
       "    }\n",
       "\n",
       "    .dataframe tbody tr th {\n",
       "        vertical-align: top;\n",
       "    }\n",
       "\n",
       "    .dataframe thead th {\n",
       "        text-align: right;\n",
       "    }\n",
       "</style>\n",
       "<table border=\"1\" class=\"dataframe\">\n",
       "  <thead>\n",
       "    <tr style=\"text-align: right;\">\n",
       "      <th></th>\n",
       "      <th>Year</th>\n",
       "      <th>Month</th>\n",
       "      <th>DOW</th>\n",
       "      <th>Date</th>\n",
       "      <th>trip_count</th>\n",
       "      <th>trip_duration</th>\n",
       "      <th>trip_distance</th>\n",
       "      <th>speed</th>\n",
       "    </tr>\n",
       "  </thead>\n",
       "  <tbody>\n",
       "    <tr>\n",
       "      <th>0</th>\n",
       "      <td>2018</td>\n",
       "      <td>1</td>\n",
       "      <td>0</td>\n",
       "      <td>2018-01-01</td>\n",
       "      <td>22384</td>\n",
       "      <td>263853.966667</td>\n",
       "      <td>67911.34</td>\n",
       "      <td>15.442938</td>\n",
       "    </tr>\n",
       "    <tr>\n",
       "      <th>5</th>\n",
       "      <td>2018</td>\n",
       "      <td>1</td>\n",
       "      <td>1</td>\n",
       "      <td>2018-01-02</td>\n",
       "      <td>22583</td>\n",
       "      <td>274362.416667</td>\n",
       "      <td>59493.64</td>\n",
       "      <td>13.010595</td>\n",
       "    </tr>\n",
       "    <tr>\n",
       "      <th>10</th>\n",
       "      <td>2018</td>\n",
       "      <td>1</td>\n",
       "      <td>2</td>\n",
       "      <td>2018-01-03</td>\n",
       "      <td>25673</td>\n",
       "      <td>341670.100000</td>\n",
       "      <td>69394.22</td>\n",
       "      <td>12.186180</td>\n",
       "    </tr>\n",
       "    <tr>\n",
       "      <th>15</th>\n",
       "      <td>2018</td>\n",
       "      <td>1</td>\n",
       "      <td>3</td>\n",
       "      <td>2018-01-04</td>\n",
       "      <td>6297</td>\n",
       "      <td>80896.516667</td>\n",
       "      <td>16403.10</td>\n",
       "      <td>12.165987</td>\n",
       "    </tr>\n",
       "    <tr>\n",
       "      <th>19</th>\n",
       "      <td>2018</td>\n",
       "      <td>1</td>\n",
       "      <td>4</td>\n",
       "      <td>2018-01-05</td>\n",
       "      <td>26727</td>\n",
       "      <td>341303.233333</td>\n",
       "      <td>64290.25</td>\n",
       "      <td>11.302017</td>\n",
       "    </tr>\n",
       "  </tbody>\n",
       "</table>\n",
       "</div>"
      ],
      "text/plain": [
       "    Year  Month  DOW       Date  trip_count  trip_duration  trip_distance  \\\n",
       "0   2018      1    0 2018-01-01       22384  263853.966667       67911.34   \n",
       "5   2018      1    1 2018-01-02       22583  274362.416667       59493.64   \n",
       "10  2018      1    2 2018-01-03       25673  341670.100000       69394.22   \n",
       "15  2018      1    3 2018-01-04        6297   80896.516667       16403.10   \n",
       "19  2018      1    4 2018-01-05       26727  341303.233333       64290.25   \n",
       "\n",
       "        speed  \n",
       "0   15.442938  \n",
       "5   13.010595  \n",
       "10  12.186180  \n",
       "15  12.165987  \n",
       "19  11.302017  "
      ]
     },
     "execution_count": 91,
     "metadata": {},
     "output_type": "execute_result"
    }
   ],
   "source": [
    "dfTaxiDaily.head()"
   ]
  },
  {
   "cell_type": "code",
   "execution_count": 92,
   "metadata": {
    "tags": []
   },
   "outputs": [
    {
     "data": {
      "text/html": [
       "<div>\n",
       "<style scoped>\n",
       "    .dataframe tbody tr th:only-of-type {\n",
       "        vertical-align: middle;\n",
       "    }\n",
       "\n",
       "    .dataframe tbody tr th {\n",
       "        vertical-align: top;\n",
       "    }\n",
       "\n",
       "    .dataframe thead th {\n",
       "        text-align: right;\n",
       "    }\n",
       "</style>\n",
       "<table border=\"1\" class=\"dataframe\">\n",
       "  <thead>\n",
       "    <tr style=\"text-align: right;\">\n",
       "      <th></th>\n",
       "      <th>Year</th>\n",
       "      <th>Month</th>\n",
       "      <th>DOW</th>\n",
       "      <th>Date</th>\n",
       "      <th>trip_count</th>\n",
       "      <th>trip_duration</th>\n",
       "      <th>trip_distance</th>\n",
       "      <th>speed</th>\n",
       "    </tr>\n",
       "  </thead>\n",
       "  <tbody>\n",
       "    <tr>\n",
       "      <th>369</th>\n",
       "      <td>2019</td>\n",
       "      <td>1</td>\n",
       "      <td>1</td>\n",
       "      <td>2019-01-01</td>\n",
       "      <td>14829</td>\n",
       "      <td>204879.200000</td>\n",
       "      <td>58749.46</td>\n",
       "      <td>17.205102</td>\n",
       "    </tr>\n",
       "    <tr>\n",
       "      <th>374</th>\n",
       "      <td>2019</td>\n",
       "      <td>1</td>\n",
       "      <td>2</td>\n",
       "      <td>2019-01-02</td>\n",
       "      <td>19338</td>\n",
       "      <td>313301.916667</td>\n",
       "      <td>78828.02</td>\n",
       "      <td>15.096241</td>\n",
       "    </tr>\n",
       "    <tr>\n",
       "      <th>379</th>\n",
       "      <td>2019</td>\n",
       "      <td>1</td>\n",
       "      <td>3</td>\n",
       "      <td>2019-01-03</td>\n",
       "      <td>21205</td>\n",
       "      <td>354237.833333</td>\n",
       "      <td>85034.73</td>\n",
       "      <td>14.402990</td>\n",
       "    </tr>\n",
       "    <tr>\n",
       "      <th>384</th>\n",
       "      <td>2019</td>\n",
       "      <td>1</td>\n",
       "      <td>4</td>\n",
       "      <td>2019-01-04</td>\n",
       "      <td>22448</td>\n",
       "      <td>365312.450000</td>\n",
       "      <td>87958.83</td>\n",
       "      <td>14.446619</td>\n",
       "    </tr>\n",
       "    <tr>\n",
       "      <th>388</th>\n",
       "      <td>2019</td>\n",
       "      <td>1</td>\n",
       "      <td>5</td>\n",
       "      <td>2019-01-05</td>\n",
       "      <td>20196</td>\n",
       "      <td>281748.833333</td>\n",
       "      <td>71442.58</td>\n",
       "      <td>15.214100</td>\n",
       "    </tr>\n",
       "  </tbody>\n",
       "</table>\n",
       "</div>"
      ],
      "text/plain": [
       "     Year  Month  DOW       Date  trip_count  trip_duration  trip_distance  \\\n",
       "369  2019      1    1 2019-01-01       14829  204879.200000       58749.46   \n",
       "374  2019      1    2 2019-01-02       19338  313301.916667       78828.02   \n",
       "379  2019      1    3 2019-01-03       21205  354237.833333       85034.73   \n",
       "384  2019      1    4 2019-01-04       22448  365312.450000       87958.83   \n",
       "388  2019      1    5 2019-01-05       20196  281748.833333       71442.58   \n",
       "\n",
       "         speed  \n",
       "369  17.205102  \n",
       "374  15.096241  \n",
       "379  14.402990  \n",
       "384  14.446619  \n",
       "388  15.214100  "
      ]
     },
     "execution_count": 92,
     "metadata": {},
     "output_type": "execute_result"
    }
   ],
   "source": [
    "dfTaxiDaily_2019=dfTaxiDaily[dfTaxiDaily['Year'] == 2019]\n",
    "dfTaxiDaily_2019.head()"
   ]
  },
  {
   "cell_type": "code",
   "execution_count": 93,
   "metadata": {},
   "outputs": [],
   "source": [
    "dfTaxiDaily_2019['rolling_average'] = dfTaxiDaily_2019['trip_count'].rolling(window=31, min_periods=1,center=True).mean()"
   ]
  },
  {
   "cell_type": "code",
   "execution_count": 94,
   "metadata": {
    "tags": []
   },
   "outputs": [
    {
     "data": {
      "text/html": [
       "<div>\n",
       "<style scoped>\n",
       "    .dataframe tbody tr th:only-of-type {\n",
       "        vertical-align: middle;\n",
       "    }\n",
       "\n",
       "    .dataframe tbody tr th {\n",
       "        vertical-align: top;\n",
       "    }\n",
       "\n",
       "    .dataframe thead th {\n",
       "        text-align: right;\n",
       "    }\n",
       "</style>\n",
       "<table border=\"1\" class=\"dataframe\">\n",
       "  <thead>\n",
       "    <tr style=\"text-align: right;\">\n",
       "      <th></th>\n",
       "      <th>Year</th>\n",
       "      <th>Month</th>\n",
       "      <th>DOW</th>\n",
       "      <th>Date</th>\n",
       "      <th>trip_count</th>\n",
       "      <th>trip_duration</th>\n",
       "      <th>trip_distance</th>\n",
       "      <th>speed</th>\n",
       "      <th>rolling_average</th>\n",
       "      <th>MonthDay</th>\n",
       "    </tr>\n",
       "  </thead>\n",
       "  <tbody>\n",
       "    <tr>\n",
       "      <th>369</th>\n",
       "      <td>2019</td>\n",
       "      <td>1</td>\n",
       "      <td>1</td>\n",
       "      <td>2019-01-01</td>\n",
       "      <td>14829</td>\n",
       "      <td>204879.200000</td>\n",
       "      <td>58749.46</td>\n",
       "      <td>17.205102</td>\n",
       "      <td>20787.312500</td>\n",
       "      <td>01-01</td>\n",
       "    </tr>\n",
       "    <tr>\n",
       "      <th>374</th>\n",
       "      <td>2019</td>\n",
       "      <td>1</td>\n",
       "      <td>2</td>\n",
       "      <td>2019-01-02</td>\n",
       "      <td>19338</td>\n",
       "      <td>313301.916667</td>\n",
       "      <td>78828.02</td>\n",
       "      <td>15.096241</td>\n",
       "      <td>20966.941176</td>\n",
       "      <td>01-02</td>\n",
       "    </tr>\n",
       "    <tr>\n",
       "      <th>379</th>\n",
       "      <td>2019</td>\n",
       "      <td>1</td>\n",
       "      <td>3</td>\n",
       "      <td>2019-01-03</td>\n",
       "      <td>21205</td>\n",
       "      <td>354237.833333</td>\n",
       "      <td>85034.73</td>\n",
       "      <td>14.402990</td>\n",
       "      <td>21092.388889</td>\n",
       "      <td>01-03</td>\n",
       "    </tr>\n",
       "    <tr>\n",
       "      <th>384</th>\n",
       "      <td>2019</td>\n",
       "      <td>1</td>\n",
       "      <td>4</td>\n",
       "      <td>2019-01-04</td>\n",
       "      <td>22448</td>\n",
       "      <td>365312.450000</td>\n",
       "      <td>87958.83</td>\n",
       "      <td>14.446619</td>\n",
       "      <td>21065.000000</td>\n",
       "      <td>01-04</td>\n",
       "    </tr>\n",
       "    <tr>\n",
       "      <th>388</th>\n",
       "      <td>2019</td>\n",
       "      <td>1</td>\n",
       "      <td>5</td>\n",
       "      <td>2019-01-05</td>\n",
       "      <td>20196</td>\n",
       "      <td>281748.833333</td>\n",
       "      <td>71442.58</td>\n",
       "      <td>15.214100</td>\n",
       "      <td>20788.350000</td>\n",
       "      <td>01-05</td>\n",
       "    </tr>\n",
       "  </tbody>\n",
       "</table>\n",
       "</div>"
      ],
      "text/plain": [
       "     Year  Month  DOW       Date  trip_count  trip_duration  trip_distance  \\\n",
       "369  2019      1    1 2019-01-01       14829  204879.200000       58749.46   \n",
       "374  2019      1    2 2019-01-02       19338  313301.916667       78828.02   \n",
       "379  2019      1    3 2019-01-03       21205  354237.833333       85034.73   \n",
       "384  2019      1    4 2019-01-04       22448  365312.450000       87958.83   \n",
       "388  2019      1    5 2019-01-05       20196  281748.833333       71442.58   \n",
       "\n",
       "         speed  rolling_average MonthDay  \n",
       "369  17.205102     20787.312500    01-01  \n",
       "374  15.096241     20966.941176    01-02  \n",
       "379  14.402990     21092.388889    01-03  \n",
       "384  14.446619     21065.000000    01-04  \n",
       "388  15.214100     20788.350000    01-05  "
      ]
     },
     "execution_count": 94,
     "metadata": {},
     "output_type": "execute_result"
    }
   ],
   "source": [
    "dfTaxiDaily_2019['Date'] = pd.to_datetime(dfTaxiDaily_2019['Date'])\n",
    "dfTaxiDaily_2019['Year'] = dfTaxiDaily_2019['Date'].dt.year\n",
    "dfTaxiDaily_2019['MonthDay'] = dfTaxiDaily_2019['Date'].dt.strftime('%m-%d')\n",
    "dfTaxiDaily_2019.head()"
   ]
  },
  {
   "cell_type": "code",
   "execution_count": 95,
   "metadata": {
    "tags": []
   },
   "outputs": [
    {
     "data": {
      "text/html": [
       "<div>\n",
       "<style scoped>\n",
       "    .dataframe tbody tr th:only-of-type {\n",
       "        vertical-align: middle;\n",
       "    }\n",
       "\n",
       "    .dataframe tbody tr th {\n",
       "        vertical-align: top;\n",
       "    }\n",
       "\n",
       "    .dataframe thead th {\n",
       "        text-align: right;\n",
       "    }\n",
       "</style>\n",
       "<table border=\"1\" class=\"dataframe\">\n",
       "  <thead>\n",
       "    <tr style=\"text-align: right;\">\n",
       "      <th></th>\n",
       "      <th>Year</th>\n",
       "      <th>Month</th>\n",
       "      <th>DOW</th>\n",
       "      <th>Date</th>\n",
       "      <th>trip_count</th>\n",
       "      <th>trip_duration</th>\n",
       "      <th>trip_distance</th>\n",
       "      <th>speed</th>\n",
       "      <th>MonthDay</th>\n",
       "    </tr>\n",
       "  </thead>\n",
       "  <tbody>\n",
       "    <tr>\n",
       "      <th>738</th>\n",
       "      <td>2020</td>\n",
       "      <td>1</td>\n",
       "      <td>2</td>\n",
       "      <td>2020-01-01</td>\n",
       "      <td>10410</td>\n",
       "      <td>146795.583333</td>\n",
       "      <td>42825.83</td>\n",
       "      <td>17.504272</td>\n",
       "      <td>01-01</td>\n",
       "    </tr>\n",
       "    <tr>\n",
       "      <th>743</th>\n",
       "      <td>2020</td>\n",
       "      <td>1</td>\n",
       "      <td>3</td>\n",
       "      <td>2020-01-02</td>\n",
       "      <td>14440</td>\n",
       "      <td>241500.683333</td>\n",
       "      <td>61940.19</td>\n",
       "      <td>15.388824</td>\n",
       "      <td>01-02</td>\n",
       "    </tr>\n",
       "    <tr>\n",
       "      <th>748</th>\n",
       "      <td>2020</td>\n",
       "      <td>1</td>\n",
       "      <td>4</td>\n",
       "      <td>2020-01-03</td>\n",
       "      <td>15463</td>\n",
       "      <td>252003.183333</td>\n",
       "      <td>62165.15</td>\n",
       "      <td>14.801039</td>\n",
       "      <td>01-03</td>\n",
       "    </tr>\n",
       "    <tr>\n",
       "      <th>753</th>\n",
       "      <td>2020</td>\n",
       "      <td>1</td>\n",
       "      <td>5</td>\n",
       "      <td>2020-01-04</td>\n",
       "      <td>13797</td>\n",
       "      <td>205190.250000</td>\n",
       "      <td>54313.63</td>\n",
       "      <td>15.881933</td>\n",
       "      <td>01-04</td>\n",
       "    </tr>\n",
       "    <tr>\n",
       "      <th>757</th>\n",
       "      <td>2020</td>\n",
       "      <td>1</td>\n",
       "      <td>6</td>\n",
       "      <td>2020-01-05</td>\n",
       "      <td>12255</td>\n",
       "      <td>176122.633333</td>\n",
       "      <td>49472.43</td>\n",
       "      <td>16.853858</td>\n",
       "      <td>01-05</td>\n",
       "    </tr>\n",
       "  </tbody>\n",
       "</table>\n",
       "</div>"
      ],
      "text/plain": [
       "     Year  Month  DOW       Date  trip_count  trip_duration  trip_distance  \\\n",
       "738  2020      1    2 2020-01-01       10410  146795.583333       42825.83   \n",
       "743  2020      1    3 2020-01-02       14440  241500.683333       61940.19   \n",
       "748  2020      1    4 2020-01-03       15463  252003.183333       62165.15   \n",
       "753  2020      1    5 2020-01-04       13797  205190.250000       54313.63   \n",
       "757  2020      1    6 2020-01-05       12255  176122.633333       49472.43   \n",
       "\n",
       "         speed MonthDay  \n",
       "738  17.504272    01-01  \n",
       "743  15.388824    01-02  \n",
       "748  14.801039    01-03  \n",
       "753  15.881933    01-04  \n",
       "757  16.853858    01-05  "
      ]
     },
     "execution_count": 95,
     "metadata": {},
     "output_type": "execute_result"
    }
   ],
   "source": [
    "dfTaxiDaily_2020=dfTaxiDaily[dfTaxiDaily['Year'] == 2020]\n",
    "dfTaxiDaily_2020['Date'] = pd.to_datetime(dfTaxiDaily_2020['Date'])\n",
    "dfTaxiDaily_2020['Year'] = dfTaxiDaily_2020['Date'].dt.year\n",
    "dfTaxiDaily_2020['MonthDay'] = dfTaxiDaily_2020['Date'].dt.strftime('%m-%d')\n",
    "dfTaxiDaily_2020.head()"
   ]
  },
  {
   "cell_type": "code",
   "execution_count": 96,
   "metadata": {
    "tags": []
   },
   "outputs": [
    {
     "data": {
      "text/html": [
       "<div>\n",
       "<style scoped>\n",
       "    .dataframe tbody tr th:only-of-type {\n",
       "        vertical-align: middle;\n",
       "    }\n",
       "\n",
       "    .dataframe tbody tr th {\n",
       "        vertical-align: top;\n",
       "    }\n",
       "\n",
       "    .dataframe thead th {\n",
       "        text-align: right;\n",
       "    }\n",
       "</style>\n",
       "<table border=\"1\" class=\"dataframe\">\n",
       "  <thead>\n",
       "    <tr style=\"text-align: right;\">\n",
       "      <th></th>\n",
       "      <th>Year_x</th>\n",
       "      <th>Month_x</th>\n",
       "      <th>DOW_x</th>\n",
       "      <th>Date_x</th>\n",
       "      <th>trip_count_x</th>\n",
       "      <th>trip_duration_x</th>\n",
       "      <th>trip_distance_x</th>\n",
       "      <th>speed_x</th>\n",
       "      <th>MonthDay</th>\n",
       "      <th>Year_y</th>\n",
       "      <th>Month_y</th>\n",
       "      <th>DOW_y</th>\n",
       "      <th>Date_y</th>\n",
       "      <th>trip_count_y</th>\n",
       "      <th>trip_duration_y</th>\n",
       "      <th>trip_distance_y</th>\n",
       "      <th>speed_y</th>\n",
       "      <th>rolling_average</th>\n",
       "    </tr>\n",
       "  </thead>\n",
       "  <tbody>\n",
       "    <tr>\n",
       "      <th>0</th>\n",
       "      <td>2020</td>\n",
       "      <td>1</td>\n",
       "      <td>2</td>\n",
       "      <td>2020-01-01</td>\n",
       "      <td>10410</td>\n",
       "      <td>146795.583333</td>\n",
       "      <td>42825.83</td>\n",
       "      <td>17.504272</td>\n",
       "      <td>01-01</td>\n",
       "      <td>2019</td>\n",
       "      <td>1</td>\n",
       "      <td>1</td>\n",
       "      <td>2019-01-01</td>\n",
       "      <td>14829</td>\n",
       "      <td>204879.200000</td>\n",
       "      <td>58749.46</td>\n",
       "      <td>17.205102</td>\n",
       "      <td>20787.312500</td>\n",
       "    </tr>\n",
       "    <tr>\n",
       "      <th>1</th>\n",
       "      <td>2020</td>\n",
       "      <td>1</td>\n",
       "      <td>3</td>\n",
       "      <td>2020-01-02</td>\n",
       "      <td>14440</td>\n",
       "      <td>241500.683333</td>\n",
       "      <td>61940.19</td>\n",
       "      <td>15.388824</td>\n",
       "      <td>01-02</td>\n",
       "      <td>2019</td>\n",
       "      <td>1</td>\n",
       "      <td>2</td>\n",
       "      <td>2019-01-02</td>\n",
       "      <td>19338</td>\n",
       "      <td>313301.916667</td>\n",
       "      <td>78828.02</td>\n",
       "      <td>15.096241</td>\n",
       "      <td>20966.941176</td>\n",
       "    </tr>\n",
       "    <tr>\n",
       "      <th>2</th>\n",
       "      <td>2020</td>\n",
       "      <td>1</td>\n",
       "      <td>4</td>\n",
       "      <td>2020-01-03</td>\n",
       "      <td>15463</td>\n",
       "      <td>252003.183333</td>\n",
       "      <td>62165.15</td>\n",
       "      <td>14.801039</td>\n",
       "      <td>01-03</td>\n",
       "      <td>2019</td>\n",
       "      <td>1</td>\n",
       "      <td>3</td>\n",
       "      <td>2019-01-03</td>\n",
       "      <td>21205</td>\n",
       "      <td>354237.833333</td>\n",
       "      <td>85034.73</td>\n",
       "      <td>14.402990</td>\n",
       "      <td>21092.388889</td>\n",
       "    </tr>\n",
       "    <tr>\n",
       "      <th>3</th>\n",
       "      <td>2020</td>\n",
       "      <td>1</td>\n",
       "      <td>5</td>\n",
       "      <td>2020-01-04</td>\n",
       "      <td>13797</td>\n",
       "      <td>205190.250000</td>\n",
       "      <td>54313.63</td>\n",
       "      <td>15.881933</td>\n",
       "      <td>01-04</td>\n",
       "      <td>2019</td>\n",
       "      <td>1</td>\n",
       "      <td>4</td>\n",
       "      <td>2019-01-04</td>\n",
       "      <td>22448</td>\n",
       "      <td>365312.450000</td>\n",
       "      <td>87958.83</td>\n",
       "      <td>14.446619</td>\n",
       "      <td>21065.000000</td>\n",
       "    </tr>\n",
       "    <tr>\n",
       "      <th>4</th>\n",
       "      <td>2020</td>\n",
       "      <td>1</td>\n",
       "      <td>6</td>\n",
       "      <td>2020-01-05</td>\n",
       "      <td>12255</td>\n",
       "      <td>176122.633333</td>\n",
       "      <td>49472.43</td>\n",
       "      <td>16.853858</td>\n",
       "      <td>01-05</td>\n",
       "      <td>2019</td>\n",
       "      <td>1</td>\n",
       "      <td>5</td>\n",
       "      <td>2019-01-05</td>\n",
       "      <td>20196</td>\n",
       "      <td>281748.833333</td>\n",
       "      <td>71442.58</td>\n",
       "      <td>15.214100</td>\n",
       "      <td>20788.350000</td>\n",
       "    </tr>\n",
       "  </tbody>\n",
       "</table>\n",
       "</div>"
      ],
      "text/plain": [
       "   Year_x  Month_x  DOW_x     Date_x  trip_count_x  trip_duration_x  \\\n",
       "0    2020        1      2 2020-01-01         10410    146795.583333   \n",
       "1    2020        1      3 2020-01-02         14440    241500.683333   \n",
       "2    2020        1      4 2020-01-03         15463    252003.183333   \n",
       "3    2020        1      5 2020-01-04         13797    205190.250000   \n",
       "4    2020        1      6 2020-01-05         12255    176122.633333   \n",
       "\n",
       "   trip_distance_x    speed_x MonthDay  Year_y  Month_y  DOW_y     Date_y  \\\n",
       "0         42825.83  17.504272    01-01    2019        1      1 2019-01-01   \n",
       "1         61940.19  15.388824    01-02    2019        1      2 2019-01-02   \n",
       "2         62165.15  14.801039    01-03    2019        1      3 2019-01-03   \n",
       "3         54313.63  15.881933    01-04    2019        1      4 2019-01-04   \n",
       "4         49472.43  16.853858    01-05    2019        1      5 2019-01-05   \n",
       "\n",
       "   trip_count_y  trip_duration_y  trip_distance_y    speed_y  rolling_average  \n",
       "0         14829    204879.200000         58749.46  17.205102     20787.312500  \n",
       "1         19338    313301.916667         78828.02  15.096241     20966.941176  \n",
       "2         21205    354237.833333         85034.73  14.402990     21092.388889  \n",
       "3         22448    365312.450000         87958.83  14.446619     21065.000000  \n",
       "4         20196    281748.833333         71442.58  15.214100     20788.350000  "
      ]
     },
     "execution_count": 96,
     "metadata": {},
     "output_type": "execute_result"
    }
   ],
   "source": [
    "dfTaxiDaily1 = dfTaxiDaily_2020.merge(dfTaxiDaily_2019, on='MonthDay', how='inner')\n",
    "dfTaxiDaily1.head()"
   ]
  },
  {
   "cell_type": "code",
   "execution_count": 97,
   "metadata": {
    "tags": []
   },
   "outputs": [
    {
     "data": {
      "text/html": [
       "<div>\n",
       "<style scoped>\n",
       "    .dataframe tbody tr th:only-of-type {\n",
       "        vertical-align: middle;\n",
       "    }\n",
       "\n",
       "    .dataframe tbody tr th {\n",
       "        vertical-align: top;\n",
       "    }\n",
       "\n",
       "    .dataframe thead th {\n",
       "        text-align: right;\n",
       "    }\n",
       "</style>\n",
       "<table border=\"1\" class=\"dataframe\">\n",
       "  <thead>\n",
       "    <tr style=\"text-align: right;\">\n",
       "      <th></th>\n",
       "      <th>Year_x</th>\n",
       "      <th>Month_x</th>\n",
       "      <th>DOW_x</th>\n",
       "      <th>Date_x</th>\n",
       "      <th>trip_count_x</th>\n",
       "      <th>trip_duration_x</th>\n",
       "      <th>trip_distance_x</th>\n",
       "      <th>speed_x</th>\n",
       "      <th>MonthDay</th>\n",
       "      <th>Year_y</th>\n",
       "      <th>Month_y</th>\n",
       "      <th>DOW_y</th>\n",
       "      <th>Date_y</th>\n",
       "      <th>trip_count_y</th>\n",
       "      <th>trip_duration_y</th>\n",
       "      <th>trip_distance_y</th>\n",
       "      <th>speed_y</th>\n",
       "      <th>rolling_average</th>\n",
       "      <th>daily_ratios_of_ridership</th>\n",
       "    </tr>\n",
       "  </thead>\n",
       "  <tbody>\n",
       "    <tr>\n",
       "      <th>0</th>\n",
       "      <td>2020</td>\n",
       "      <td>1</td>\n",
       "      <td>2</td>\n",
       "      <td>2020-01-01</td>\n",
       "      <td>10410</td>\n",
       "      <td>146795.583333</td>\n",
       "      <td>42825.83</td>\n",
       "      <td>17.504272</td>\n",
       "      <td>01-01</td>\n",
       "      <td>2019</td>\n",
       "      <td>1</td>\n",
       "      <td>1</td>\n",
       "      <td>2019-01-01</td>\n",
       "      <td>14829</td>\n",
       "      <td>204879.200000</td>\n",
       "      <td>58749.46</td>\n",
       "      <td>17.205102</td>\n",
       "      <td>20787.312500</td>\n",
       "      <td>0.500786</td>\n",
       "    </tr>\n",
       "    <tr>\n",
       "      <th>1</th>\n",
       "      <td>2020</td>\n",
       "      <td>1</td>\n",
       "      <td>3</td>\n",
       "      <td>2020-01-02</td>\n",
       "      <td>14440</td>\n",
       "      <td>241500.683333</td>\n",
       "      <td>61940.19</td>\n",
       "      <td>15.388824</td>\n",
       "      <td>01-02</td>\n",
       "      <td>2019</td>\n",
       "      <td>1</td>\n",
       "      <td>2</td>\n",
       "      <td>2019-01-02</td>\n",
       "      <td>19338</td>\n",
       "      <td>313301.916667</td>\n",
       "      <td>78828.02</td>\n",
       "      <td>15.096241</td>\n",
       "      <td>20966.941176</td>\n",
       "      <td>0.688703</td>\n",
       "    </tr>\n",
       "    <tr>\n",
       "      <th>2</th>\n",
       "      <td>2020</td>\n",
       "      <td>1</td>\n",
       "      <td>4</td>\n",
       "      <td>2020-01-03</td>\n",
       "      <td>15463</td>\n",
       "      <td>252003.183333</td>\n",
       "      <td>62165.15</td>\n",
       "      <td>14.801039</td>\n",
       "      <td>01-03</td>\n",
       "      <td>2019</td>\n",
       "      <td>1</td>\n",
       "      <td>3</td>\n",
       "      <td>2019-01-03</td>\n",
       "      <td>21205</td>\n",
       "      <td>354237.833333</td>\n",
       "      <td>85034.73</td>\n",
       "      <td>14.402990</td>\n",
       "      <td>21092.388889</td>\n",
       "      <td>0.733108</td>\n",
       "    </tr>\n",
       "    <tr>\n",
       "      <th>3</th>\n",
       "      <td>2020</td>\n",
       "      <td>1</td>\n",
       "      <td>5</td>\n",
       "      <td>2020-01-04</td>\n",
       "      <td>13797</td>\n",
       "      <td>205190.250000</td>\n",
       "      <td>54313.63</td>\n",
       "      <td>15.881933</td>\n",
       "      <td>01-04</td>\n",
       "      <td>2019</td>\n",
       "      <td>1</td>\n",
       "      <td>4</td>\n",
       "      <td>2019-01-04</td>\n",
       "      <td>22448</td>\n",
       "      <td>365312.450000</td>\n",
       "      <td>87958.83</td>\n",
       "      <td>14.446619</td>\n",
       "      <td>21065.000000</td>\n",
       "      <td>0.654973</td>\n",
       "    </tr>\n",
       "    <tr>\n",
       "      <th>4</th>\n",
       "      <td>2020</td>\n",
       "      <td>1</td>\n",
       "      <td>6</td>\n",
       "      <td>2020-01-05</td>\n",
       "      <td>12255</td>\n",
       "      <td>176122.633333</td>\n",
       "      <td>49472.43</td>\n",
       "      <td>16.853858</td>\n",
       "      <td>01-05</td>\n",
       "      <td>2019</td>\n",
       "      <td>1</td>\n",
       "      <td>5</td>\n",
       "      <td>2019-01-05</td>\n",
       "      <td>20196</td>\n",
       "      <td>281748.833333</td>\n",
       "      <td>71442.58</td>\n",
       "      <td>15.214100</td>\n",
       "      <td>20788.350000</td>\n",
       "      <td>0.589513</td>\n",
       "    </tr>\n",
       "  </tbody>\n",
       "</table>\n",
       "</div>"
      ],
      "text/plain": [
       "   Year_x  Month_x  DOW_x     Date_x  trip_count_x  trip_duration_x  \\\n",
       "0    2020        1      2 2020-01-01         10410    146795.583333   \n",
       "1    2020        1      3 2020-01-02         14440    241500.683333   \n",
       "2    2020        1      4 2020-01-03         15463    252003.183333   \n",
       "3    2020        1      5 2020-01-04         13797    205190.250000   \n",
       "4    2020        1      6 2020-01-05         12255    176122.633333   \n",
       "\n",
       "   trip_distance_x    speed_x MonthDay  Year_y  Month_y  DOW_y     Date_y  \\\n",
       "0         42825.83  17.504272    01-01    2019        1      1 2019-01-01   \n",
       "1         61940.19  15.388824    01-02    2019        1      2 2019-01-02   \n",
       "2         62165.15  14.801039    01-03    2019        1      3 2019-01-03   \n",
       "3         54313.63  15.881933    01-04    2019        1      4 2019-01-04   \n",
       "4         49472.43  16.853858    01-05    2019        1      5 2019-01-05   \n",
       "\n",
       "   trip_count_y  trip_duration_y  trip_distance_y    speed_y  rolling_average  \\\n",
       "0         14829    204879.200000         58749.46  17.205102     20787.312500   \n",
       "1         19338    313301.916667         78828.02  15.096241     20966.941176   \n",
       "2         21205    354237.833333         85034.73  14.402990     21092.388889   \n",
       "3         22448    365312.450000         87958.83  14.446619     21065.000000   \n",
       "4         20196    281748.833333         71442.58  15.214100     20788.350000   \n",
       "\n",
       "   daily_ratios_of_ridership  \n",
       "0                   0.500786  \n",
       "1                   0.688703  \n",
       "2                   0.733108  \n",
       "3                   0.654973  \n",
       "4                   0.589513  "
      ]
     },
     "execution_count": 97,
     "metadata": {},
     "output_type": "execute_result"
    }
   ],
   "source": [
    "dfTaxiDaily1['daily_ratios_of_ridership'] = dfTaxiDaily1['trip_count_x'] / dfTaxiDaily1['rolling_average']\n",
    "dfTaxiDaily1.head()"
   ]
  },
  {
   "cell_type": "code",
   "execution_count": 98,
   "metadata": {
    "tags": []
   },
   "outputs": [],
   "source": [
    "# compare the daily ratios of ridership after the shelter in place order (Mar 20th till June, 30th, 2020) and before (Jan, 16-Mar, 20th, 2020)\n",
    "before_shelter=dfTaxiDaily1[(dfTaxiDaily1['Date_x'] >= '2020-01-16') & (dfTaxiDaily1['Date_x'] <='2020-03-20')]\n",
    "after_shelter=dfTaxiDaily1[(dfTaxiDaily1['Date_x'] >= '2020-03-20') & (dfTaxiDaily1['Date_x'] <='2020-06-30')]"
   ]
  },
  {
   "cell_type": "code",
   "execution_count": 99,
   "metadata": {
    "tags": []
   },
   "outputs": [
    {
     "data": {
      "text/plain": [
       "TtestResult(statistic=34.606962581273606, pvalue=1.5001783818790912e-77, df=165.0)"
      ]
     },
     "execution_count": 99,
     "metadata": {},
     "output_type": "execute_result"
    }
   ],
   "source": [
    "stats.ttest_ind(before_shelter['daily_ratios_of_ridership'],after_shelter['daily_ratios_of_ridership'])"
   ]
  },
  {
   "cell_type": "code",
   "execution_count": 100,
   "metadata": {
    "tags": []
   },
   "outputs": [
    {
     "data": {
      "text/plain": [
       "KstestResult(statistic=0.9902912621359223, pvalue=1.08638957008256e-45, statistic_location=0.15885364801168428, statistic_sign=-1)"
      ]
     },
     "execution_count": 100,
     "metadata": {},
     "output_type": "execute_result"
    }
   ],
   "source": [
    "stats.ks_2samp(before_shelter['daily_ratios_of_ridership'],after_shelter['daily_ratios_of_ridership'])"
   ]
  },
  {
   "cell_type": "code",
   "execution_count": 101,
   "metadata": {
    "tags": []
   },
   "outputs": [],
   "source": [
    "# We reject the null hypothesis that daily ridership ratio average/distribution after March, 20, 2020 is the same as before."
   ]
  },
  {
   "cell_type": "code",
   "execution_count": 102,
   "metadata": {
    "tags": []
   },
   "outputs": [],
   "source": [
    "#  Compute the rolling average of 2018 and the daily ratios of ridership of 2019\n",
    "dfTaxiDaily_2018=dfTaxiDaily[dfTaxiDaily['Year'] == 2018]\n",
    "dfTaxiDaily_2018['rolling_average_2018'] = dfTaxiDaily_2018['trip_count'].rolling(window=31, min_periods=1,center=True).mean()"
   ]
  },
  {
   "cell_type": "code",
   "execution_count": 103,
   "metadata": {
    "tags": []
   },
   "outputs": [],
   "source": [
    "dfTaxiDaily_2018['Date'] = pd.to_datetime(dfTaxiDaily_2018['Date'])\n",
    "dfTaxiDaily_2018['Year'] = dfTaxiDaily_2018['Date'].dt.year\n",
    "dfTaxiDaily_2018['MonthDay'] = dfTaxiDaily_2018['Date'].dt.strftime('%m-%d')"
   ]
  },
  {
   "cell_type": "code",
   "execution_count": 104,
   "metadata": {
    "tags": []
   },
   "outputs": [
    {
     "data": {
      "text/html": [
       "<div>\n",
       "<style scoped>\n",
       "    .dataframe tbody tr th:only-of-type {\n",
       "        vertical-align: middle;\n",
       "    }\n",
       "\n",
       "    .dataframe tbody tr th {\n",
       "        vertical-align: top;\n",
       "    }\n",
       "\n",
       "    .dataframe thead th {\n",
       "        text-align: right;\n",
       "    }\n",
       "</style>\n",
       "<table border=\"1\" class=\"dataframe\">\n",
       "  <thead>\n",
       "    <tr style=\"text-align: right;\">\n",
       "      <th></th>\n",
       "      <th>Year_x</th>\n",
       "      <th>Month_x</th>\n",
       "      <th>DOW_x</th>\n",
       "      <th>Date_x</th>\n",
       "      <th>trip_count_x</th>\n",
       "      <th>trip_duration_x</th>\n",
       "      <th>trip_distance_x</th>\n",
       "      <th>speed_x</th>\n",
       "      <th>rolling_average</th>\n",
       "      <th>MonthDay</th>\n",
       "      <th>Year_y</th>\n",
       "      <th>Month_y</th>\n",
       "      <th>DOW_y</th>\n",
       "      <th>Date_y</th>\n",
       "      <th>trip_count_y</th>\n",
       "      <th>trip_duration_y</th>\n",
       "      <th>trip_distance_y</th>\n",
       "      <th>speed_y</th>\n",
       "      <th>rolling_average_2018</th>\n",
       "    </tr>\n",
       "  </thead>\n",
       "  <tbody>\n",
       "    <tr>\n",
       "      <th>0</th>\n",
       "      <td>2019</td>\n",
       "      <td>1</td>\n",
       "      <td>1</td>\n",
       "      <td>2019-01-01</td>\n",
       "      <td>14829</td>\n",
       "      <td>204879.200000</td>\n",
       "      <td>58749.46</td>\n",
       "      <td>17.205102</td>\n",
       "      <td>20787.312500</td>\n",
       "      <td>01-01</td>\n",
       "      <td>2018</td>\n",
       "      <td>1</td>\n",
       "      <td>0</td>\n",
       "      <td>2018-01-01</td>\n",
       "      <td>22384</td>\n",
       "      <td>263853.966667</td>\n",
       "      <td>67911.34</td>\n",
       "      <td>15.442938</td>\n",
       "      <td>23813.937500</td>\n",
       "    </tr>\n",
       "    <tr>\n",
       "      <th>1</th>\n",
       "      <td>2019</td>\n",
       "      <td>1</td>\n",
       "      <td>2</td>\n",
       "      <td>2019-01-02</td>\n",
       "      <td>19338</td>\n",
       "      <td>313301.916667</td>\n",
       "      <td>78828.02</td>\n",
       "      <td>15.096241</td>\n",
       "      <td>20966.941176</td>\n",
       "      <td>01-02</td>\n",
       "      <td>2018</td>\n",
       "      <td>1</td>\n",
       "      <td>1</td>\n",
       "      <td>2018-01-02</td>\n",
       "      <td>22583</td>\n",
       "      <td>274362.416667</td>\n",
       "      <td>59493.64</td>\n",
       "      <td>13.010595</td>\n",
       "      <td>23856.411765</td>\n",
       "    </tr>\n",
       "    <tr>\n",
       "      <th>2</th>\n",
       "      <td>2019</td>\n",
       "      <td>1</td>\n",
       "      <td>3</td>\n",
       "      <td>2019-01-03</td>\n",
       "      <td>21205</td>\n",
       "      <td>354237.833333</td>\n",
       "      <td>85034.73</td>\n",
       "      <td>14.402990</td>\n",
       "      <td>21092.388889</td>\n",
       "      <td>01-03</td>\n",
       "      <td>2018</td>\n",
       "      <td>1</td>\n",
       "      <td>2</td>\n",
       "      <td>2018-01-03</td>\n",
       "      <td>25673</td>\n",
       "      <td>341670.100000</td>\n",
       "      <td>69394.22</td>\n",
       "      <td>12.186180</td>\n",
       "      <td>24018.111111</td>\n",
       "    </tr>\n",
       "    <tr>\n",
       "      <th>3</th>\n",
       "      <td>2019</td>\n",
       "      <td>1</td>\n",
       "      <td>4</td>\n",
       "      <td>2019-01-04</td>\n",
       "      <td>22448</td>\n",
       "      <td>365312.450000</td>\n",
       "      <td>87958.83</td>\n",
       "      <td>14.446619</td>\n",
       "      <td>21065.000000</td>\n",
       "      <td>01-04</td>\n",
       "      <td>2018</td>\n",
       "      <td>1</td>\n",
       "      <td>3</td>\n",
       "      <td>2018-01-04</td>\n",
       "      <td>6297</td>\n",
       "      <td>80896.516667</td>\n",
       "      <td>16403.10</td>\n",
       "      <td>12.165987</td>\n",
       "      <td>24304.684211</td>\n",
       "    </tr>\n",
       "    <tr>\n",
       "      <th>4</th>\n",
       "      <td>2019</td>\n",
       "      <td>1</td>\n",
       "      <td>5</td>\n",
       "      <td>2019-01-05</td>\n",
       "      <td>20196</td>\n",
       "      <td>281748.833333</td>\n",
       "      <td>71442.58</td>\n",
       "      <td>15.214100</td>\n",
       "      <td>20788.350000</td>\n",
       "      <td>01-05</td>\n",
       "      <td>2018</td>\n",
       "      <td>1</td>\n",
       "      <td>4</td>\n",
       "      <td>2018-01-05</td>\n",
       "      <td>26727</td>\n",
       "      <td>341303.233333</td>\n",
       "      <td>64290.25</td>\n",
       "      <td>11.302017</td>\n",
       "      <td>24566.300000</td>\n",
       "    </tr>\n",
       "  </tbody>\n",
       "</table>\n",
       "</div>"
      ],
      "text/plain": [
       "   Year_x  Month_x  DOW_x     Date_x  trip_count_x  trip_duration_x  \\\n",
       "0    2019        1      1 2019-01-01         14829    204879.200000   \n",
       "1    2019        1      2 2019-01-02         19338    313301.916667   \n",
       "2    2019        1      3 2019-01-03         21205    354237.833333   \n",
       "3    2019        1      4 2019-01-04         22448    365312.450000   \n",
       "4    2019        1      5 2019-01-05         20196    281748.833333   \n",
       "\n",
       "   trip_distance_x    speed_x  rolling_average MonthDay  Year_y  Month_y  \\\n",
       "0         58749.46  17.205102     20787.312500    01-01    2018        1   \n",
       "1         78828.02  15.096241     20966.941176    01-02    2018        1   \n",
       "2         85034.73  14.402990     21092.388889    01-03    2018        1   \n",
       "3         87958.83  14.446619     21065.000000    01-04    2018        1   \n",
       "4         71442.58  15.214100     20788.350000    01-05    2018        1   \n",
       "\n",
       "   DOW_y     Date_y  trip_count_y  trip_duration_y  trip_distance_y  \\\n",
       "0      0 2018-01-01         22384    263853.966667         67911.34   \n",
       "1      1 2018-01-02         22583    274362.416667         59493.64   \n",
       "2      2 2018-01-03         25673    341670.100000         69394.22   \n",
       "3      3 2018-01-04          6297     80896.516667         16403.10   \n",
       "4      4 2018-01-05         26727    341303.233333         64290.25   \n",
       "\n",
       "     speed_y  rolling_average_2018  \n",
       "0  15.442938          23813.937500  \n",
       "1  13.010595          23856.411765  \n",
       "2  12.186180          24018.111111  \n",
       "3  12.165987          24304.684211  \n",
       "4  11.302017          24566.300000  "
      ]
     },
     "execution_count": 104,
     "metadata": {},
     "output_type": "execute_result"
    }
   ],
   "source": [
    "dfTaxiDaily2 = dfTaxiDaily_2019.merge(dfTaxiDaily_2018, on='MonthDay', how='inner')\n",
    "dfTaxiDaily2.head()"
   ]
  },
  {
   "cell_type": "code",
   "execution_count": 105,
   "metadata": {
    "tags": []
   },
   "outputs": [],
   "source": [
    "dfTaxiDaily2['daily_ratios_of_ridership1'] = dfTaxiDaily2['trip_count_x'] / dfTaxiDaily2['rolling_average_2018']"
   ]
  },
  {
   "cell_type": "code",
   "execution_count": 106,
   "metadata": {
    "tags": []
   },
   "outputs": [],
   "source": [
    "# compare the daily ratios of ridership after the shelter in place order (Mar 20th till June, 30th, 2019) and before (Jan, 16-Mar, 20th, 2019)\n",
    "before_shelter1=dfTaxiDaily2[(dfTaxiDaily2['Date_x'] >= '2019-01-16') & (dfTaxiDaily2['Date_x'] <='2019-03-20')]\n",
    "after_shelter1=dfTaxiDaily2[(dfTaxiDaily2['Date_x'] >= '2019-03-20') & (dfTaxiDaily2['Date_x'] <='2019-06-30')]"
   ]
  },
  {
   "cell_type": "code",
   "execution_count": 107,
   "metadata": {
    "tags": []
   },
   "outputs": [
    {
     "data": {
      "text/plain": [
       "TtestResult(statistic=7.096647054162945, pvalue=3.596164022586152e-11, df=165.0)"
      ]
     },
     "execution_count": 107,
     "metadata": {},
     "output_type": "execute_result"
    }
   ],
   "source": [
    "stats.ttest_ind(before_shelter1['daily_ratios_of_ridership1'],after_shelter1['daily_ratios_of_ridership1'])"
   ]
  },
  {
   "cell_type": "code",
   "execution_count": 108,
   "metadata": {
    "tags": []
   },
   "outputs": [
    {
     "data": {
      "text/plain": [
       "KstestResult(statistic=0.5904126213592233, pvalue=2.382019989381014e-13, statistic_location=0.786798336541479, statistic_sign=-1)"
      ]
     },
     "execution_count": 108,
     "metadata": {},
     "output_type": "execute_result"
    }
   ],
   "source": [
    "stats.ks_2samp(before_shelter1['daily_ratios_of_ridership1'],after_shelter1['daily_ratios_of_ridership1'])"
   ]
  },
  {
   "cell_type": "code",
   "execution_count": 109,
   "metadata": {
    "tags": []
   },
   "outputs": [],
   "source": [
    "# We can reject the null hypothesis that daily ridership ratio average/distribution after March, 20, 2020 is the same as before."
   ]
  }
 ],
 "metadata": {
  "kernelspec": {
   "display_name": "Python 3 (ipykernel)",
   "language": "python",
   "name": "python3"
  },
  "language_info": {
   "codemirror_mode": {
    "name": "ipython",
    "version": 3
   },
   "file_extension": ".py",
   "mimetype": "text/x-python",
   "name": "python",
   "nbconvert_exporter": "python",
   "pygments_lexer": "ipython3",
   "version": "3.11.5"
  },
  "toc": {
   "base_numbering": 1,
   "nav_menu": {},
   "number_sections": true,
   "sideBar": true,
   "skip_h1_title": false,
   "title_cell": "Table of Contents",
   "title_sidebar": "Contents",
   "toc_cell": false,
   "toc_position": {},
   "toc_section_display": true,
   "toc_window_display": false
  }
 },
 "nbformat": 4,
 "nbformat_minor": 4
}
