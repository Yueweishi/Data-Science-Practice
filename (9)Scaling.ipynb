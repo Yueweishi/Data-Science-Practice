{
 "cells": [
  {
   "cell_type": "markdown",
   "metadata": {},
   "source": [
    "# Hypothesis testing and urban scaling laws"
   ]
  },
  {
   "cell_type": "markdown",
   "metadata": {},
   "source": [
    "## Probabilistic approach to the linear regression\n",
    "\n",
    "When fitting a linear model one should admit that the model's accuracy is not absolute: \n",
    "$$\n",
    "y=w_1 x + w_0 +\\varepsilon,\\hspace{5ex} (1)\n",
    "$$\n",
    "where $\\varepsilon$ is the model's error (often called noise or residual) or \n",
    "$$\n",
    "y=w^T x +\\varepsilon,\\hspace{5ex} (2)\n",
    "$$\n",
    "for the multivariate case with $x$ being an $n$-dimensional vector.\n",
    "\n",
    "Uncertainty of the model (1) prediction can be expressed by considering $\\varepsilon$ as a random variable representing deviations of the actual values of $y$ from the estimates provided by the precise linear model. A basic assumption is to have $\\varepsilon\\sim{\\cal N}(0,\\sigma^2)$ (mean is zero as otherwise the intercept term $w_0$ could be corrected accordingly). \n",
    "\n",
    "Often observations $y_i,x_i$ are spread in time ($i$ - could be time of the observation). \n",
    "Classical regression assumptions (Gauss-Markov): $\\sigma$ is the same for all observations (does not depend on time) and errors $\\varepsilon_i$ following ${\\cal N}(0,\\sigma^2)$ are mutually uncorrelated, i.e. $cov(\\epsilon_i,\\epsilon_j)=0$ for $i\\neq j$. \n",
    "\n",
    "An alternative way of representing this linear model is by considering $y$ as a random variable and expressing it's conditional probability density function with respect to given $x$ and $w$ as\n",
    "$$\n",
    "p(y|x,w)={\\cal N}(y|w_1 x+w_0,\\sigma^2).\\hspace{5ex} (3)\n",
    "$$\n",
    "\n",
    "This way it is actually the mean of the distribution (3) which is predicted by a linear model.\n",
    "Now the problem is to fit unknown parameters of the model $w_1,w_0,\\sigma$ (the last one $\\sigma$ represents how usually close are the values of $y$ to the linear prediction), so that the model is the most consistent with the training data $\\{(x_j,y_j), j=1..N\\}$.\n",
    "\n",
    "Fitting could be done through maximizing the likelihood that the observed data $y_j$ actually follows the suggested distribution (3). Likelihood is defined as a product of probability density values $\\prod\\limits_j p(y_j|x_j)$. But it's actually more practical to maximize the log-likelihood (which is equivalent):\n",
    "$$\n",
    "\\log\\left(\\prod\\limits_j p(y_j|x_j)\\right)=\\sum\\limits_j \\log\\left({\\cal N}(y|w_1 x+w_0,\\sigma^2)\\right)=\n",
    "$$$$\n",
    "=-\\sum\\limits_j \\frac{(y_j-w_1 x_j+w_0)^2}{2\\sigma^2}- N \\log(\\sigma)-N \\log(\\sqrt{2\\pi})\\to\\max\n",
    "$$\n",
    "Optimization with respect to $w$ turns out to be equivalent to the above least-square minimization. Then for minimal $RSS(\\hat{w})$ achieved, $\\sigma$ could be found from\n",
    "$$\n",
    "\\frac{RSS(\\hat{w})}{2\\sigma^2}+N\\log(\\sigma)\\to\\min\n",
    "$$$$\n",
    "\\frac{\\partial\\frac{RSS(\\hat{w})}{2\\sigma^2}+N\\log(\\sigma)}{\\partial \\sigma}=0,\n",
    "$$$$\n",
    "-\\frac{RSS(\\hat{w})}{\\sigma^3}+\\frac{N}{\\sigma}=0,\n",
    "$$$$\n",
    "\\sigma^2=\\frac{RSS(\\hat{w})}{N}.\n",
    "$$\n",
    "However often in order to account for the actual number of degrees of freedom in the model which is $N-2$ rather than $N$, the adjusted version of the above estimate is being used:\n",
    "$$\n",
    "\\sigma^2=\\frac{RSS(\\hat{w})}{N-2}\n",
    "$$\n",
    "\n",
    "In case of the multi-variate regression the probabilistic view on the model in the assumption that $\\varepsilon\\sim {\\cal N}(0,\\sigma^2)$ is\n",
    "$$\n",
    "p(y|x,w,\\sigma)={\\cal N}(y|w^T x,\\sigma^2)=\\frac{1}{\\sqrt{2\\pi}\\sigma}e^{-\\frac{(y-w^T x)^2}{2\\sigma^2}}\\hspace{5ex} (4).\n",
    "$$\n",
    "\n",
    "Given a training set $X=\\{(x_j^i), j=1...n, i=1...N\\}$, $Y=\\{(y^i), i=1...N\\}$ (further also denote columns of $X$ as $X_j=\\{(x_j^i), i=1...N\\}$), the max-likelihood criteria will take form:\n",
    "$$\n",
    "\\prod\\limits_i p(y^i|x^i,w,\\sigma)\\to \\max.\n",
    "$$\n",
    "or\n",
    "$$\n",
    "\\log\\left(\\prod\\limits_i p(y^i|x^i,w,\\sigma)\\right)=\\sum\\limits_i \\log\\left({\\cal N}(y^i|w^T x^i,\\sigma^2)\\right)=\n",
    "$$$$\n",
    "=-\\sum\\limits_i \\frac{(y^i-w^T x^i)^2}{2\\sigma^2}- N \\log(\\sigma)-N \\log(\\sqrt{2\\pi})=-\\frac{RSS(w)}{2\\sigma^2}-N \\log(\\sigma)-N \\to\\max\n",
    "$$\n",
    "Which is in turn equivalent to\n",
    "$$\n",
    "RSS(w)\\to \\min,\n",
    "$$\n",
    "i.e. least-square criteria plus (just like in case of the bi-variate regression)\n",
    "$$\n",
    "\\frac{RSS(\\hat{w})}{2\\sigma^2}+N\\log(\\sigma)\\to\\min,\n",
    "$$\n",
    "i.e. the estimate $\\hat{\\sigma}$ could be found as\n",
    "$$\n",
    "\\frac{\\partial\\left[\\frac{RSS(\\hat{w})}{2\\sigma^2}+N\\log(\\hat{\\sigma})\\right]}{\\partial \\hat{\\sigma}}=0,\n",
    "$$$$\n",
    "-\\frac{RSS(\\hat{w})}{\\hat{\\sigma}^3}+\\frac{N}{\\hat{\\sigma}}=0,\n",
    "$$$$\n",
    "\\hat{\\sigma}^2=\\frac{RSS(\\hat{w})}{N}. \\hspace{5ex} (5)\n",
    "$$\n",
    "\n",
    "Also an unbiased adjusted estimate is known to be\n",
    "$$\n",
    "\\hat{\\sigma}^2=\\frac{RSS(\\hat{w})}{N-n}. \\hspace{5ex} (5')\n",
    "$$\n",
    "\n",
    "\n",
    "### Confidence intervals\n",
    "Uncertainty of the model predictions comes together with the uncertainty of the estimate for the model's coefficients estimates $w$. If we start from uncertainty of $y$ taking the observations for the output variable as normally distributed random variables, this leads to a multinomial normal distribution\n",
    "$$\n",
    "w\\sim{\\cal N}(\\hat{w},\\sigma^2(X^T X)^{-1})\n",
    "$$\n",
    "with an average $E[w]=\\hat{w}$ and a variance-covariance matrix \n",
    "$$\n",
    "Var(w)=\\sigma^2(X^T X)^{-1}.\n",
    "$$\n",
    "However while using an estimate (5') for $\\sigma=\\hat{\\sigma}=\\sqrt{\\frac{RSS(\\hat{w})}{N-n}}$ we also have to admit its uncertainty rather than having $\\sigma$ fixed which does not allow to consider a normal distribution for $w$ anymore. Instead one can have a Student's $t$-distributions with $N-n$ degrees of freedom for the standardized quantities\n",
    "$$\n",
    "z_j=\\frac{w_j-\\hat{w_j}}{\\hat{\\sigma} \\sqrt{h_j}},\n",
    "$$\n",
    "where $h_j$ are the $j$-the diagonal elements of the matrix $(X^T X)^{-1}$.\n",
    "\n",
    "This way the confidence intervals for each $\\hat{w}_j$ given the confidence level $1-\\alpha$ are constructed as\n",
    "$$\n",
    "P\\left(w_j\\in[\\hat{w}_j-t_{\\alpha/2}\\sigma\\sqrt{h_j},\\hat{w}_j+t_{\\alpha/2}\\sigma\\sqrt{h_j}]\\right)=1-\\alpha\n",
    "$$\n",
    "where $t_{\\alpha/2}$ are quantiles of the $t$-distribution, i.e. such values that\n",
    "$$\n",
    "P(|z_j|\\leq t_{\\alpha/2})=1-\\alpha\n",
    "$$\n",
    "\n",
    "\n",
    "### Hypothesis testing: P-values, t-statistics\n",
    "\n",
    "Considering the statistical significance of each regressor $w_j$ we evaluate the hypothesis\n",
    "$$\n",
    "H_1:w_j\\neq w_j^0\n",
    "$$\n",
    "vs a null-hypothesis\n",
    "$$\n",
    "H_0:w_j=w_j^0.\n",
    "$$\n",
    "When $w_j^0=0$ this means that we are trying to validate the statistical significance of the non-zero impact of the considered regressor $w_j$. For that purpose we consider a $t$-statistics\n",
    "$$\n",
    "t=\\frac{w_j-w_j^0}{\\hat{\\sigma} \\sqrt{h_j}}.\n",
    "$$\n",
    "If $|t|>t_{\\alpha/2}$ (where $t_{\\alpha/2}$ is a quantile of the t-distribution which is approximately standard normal for large number of observations) this means that the hypothesis $H_0$ is too unlikely and should be rejected with the confidence level $1-\\alpha$.\n",
    "\n",
    "A $p$-value on the other hand is virtually speaking giving us such an $\\alpha$ based on the observed $t$, i.e. expressed the probability\n",
    "$$\n",
    "P(|z|>|t|)\n",
    "$$\n",
    "of having a $z$ randomly produced by the distribution corresponding to the null-hypothesis value $w_j=w_j^0$ with even higher $|z|$ compared to the observed $|t|$. This can be interpreted as a likelihood that the observed value of $t$ is got just by chance given $w_j=w_j^0$. If this likelihood is lower than a certain threshold value (usually $5\\%$) this is interpreted as having an equation $w_j=w_j^0$ too unlikely, i.e. having to reject the hypothesis $H_0$. Otherwise, if $p-value$ is higher than a threshold value ($>5\\%$) this means that the null-hypothesis can not be rejected with sufficient confidence (of at least $95\\%$) so this might be the case that the regressor does not have a significant impact. \n",
    "\n",
    "It is important to understand that $p$-value is not supposed to prove any specific estimate for the coefficient $w_j$ - it can only make us confident (or uncertain on the contrary) that $w_j\\neq 0$ (or different from another value of interest). Also having a low $p$-values do not prove that the impact of $x_i$ on $y$ is actually linear. In turn, having high $p$-value by itself does not prove that $y$ is independent on $x_i$ (first of all - a linear impact could still be there despite being seen as unlikely, just disguised by noise; second - the actual impact could be non-linear, i.e. not subject to being described by a linear model; third - an impact of the considered regressor might be affected by an overlap with the impact of the other regressors, so it might not be impactful after others are considered, but it might still be impactful by itself.\n",
    "\n",
    "Regressors having high $p$-values are usually not included into the final model in order to stay free from the random insignificant effects, reducing the risk of overfitting. This is however not the only way of fighting it. Also sequentially excluding regressors based on their $p$-values is not necessarily the best way of the feature selection as high $p$-values might result from multicollinearity, i.e. from having an impact of the considered regressor overlap with the impact of others. And it might happen that excluding other regressors in the first place will better help with fighting the overfitting and also might lead to the decrease of the $p$-values of the remaining regressors as a result.\n",
    "\n",
    "### Hypothesis testing: F-statistics\n",
    "\n",
    "However often we need to test the significance of a subgroup of regressors together (or all of the regressors) testing the entire model against the null-hypothesis that a model based on a smaller subset of $m$ regressors (or just the intercept) of the regressors actually performs not worse than the original one.  The following $F$-statistics helps with that:\n",
    "$$\n",
    "F=\\frac{(RSS_0-RSS_1)(N-n)}{RSS_1\\cdot (n-m)},\n",
    "$$\n",
    "where $RSS_1$ is the optimal (least-square) $RSS$ value for the original regression and $RSS_0$ - is the optimal $RSS$ value of the regression based on the considered subset of $m$ regressors (testing the hypothesis that only those $m$ regressors are significant). If we only consider a cumulative impact of all the regressors vs a trivial regression having just the intercept, then $m-1$ and $F$-statistics could be expressed through $R^2$:\n",
    "$$\n",
    "F=\\frac{R^2 (N-n)}{(1-R^2)(n-1)}.\n",
    "$$\n",
    "R and python will report the value of $F$ for the null-hypothesis that only the intercept is significant, as well as the $p$-value characterizing this $F$-statistics.\n",
    "\n",
    "If $F$-statistics above is a critical value corresponding to a certain level of confidence $1-\\alpha$ (or if the corresponding $p$-value is below the threshold $\\alpha$ one rejects the null-hypothesis of having all the considered regressors together insignificant. Otherwise this hypothesis can not be rejected, so it might be the case that regressors do not really have an impact. But once again $F$-statistics can not prove any specific estimates for the coefficients, nor can it prove a linear impact of those regressors."
   ]
  },
  {
   "cell_type": "code",
   "execution_count": 1,
   "metadata": {
    "tags": []
   },
   "outputs": [
    {
     "name": "stdout",
     "output_type": "stream",
     "text": [
      "%pylab is deprecated, use %matplotlib inline and import the required libraries.\n",
      "Populating the interactive namespace from numpy and matplotlib\n"
     ]
    },
    {
     "name": "stderr",
     "output_type": "stream",
     "text": [
      "C:\\Users\\Administrator\\AppData\\Roaming\\Python\\Python311\\site-packages\\IPython\\core\\magics\\pylab.py:162: UserWarning: pylab import has clobbered these variables: ['plt']\n",
      "`%matplotlib` prevents importing * from pylab and numpy\n",
      "  warn(\"pylab import has clobbered these variables: %s\"  % clobbered +\n"
     ]
    }
   ],
   "source": [
    "#loading pandas package to load and clean the data\n",
    "import pandas as pd\n",
    "#importing libraries needed for regression and visualization\n",
    "import numpy as np\n",
    "import seaborn as sns\n",
    "import statsmodels.formula.api as smf\n",
    "import matplotlib.pylab as plt\n",
    "%pylab inline"
   ]
  },
  {
   "cell_type": "markdown",
   "metadata": {},
   "source": [
    "During this lab we will work with American community survey and crime data to establish and visualize relations between wealth, population and crime for US cities."
   ]
  },
  {
   "cell_type": "markdown",
   "metadata": {},
   "source": [
    "## Urban scaling laws\n",
    "\n",
    "According to G.West and colleagues [Bettencourt, L.M., Lobo, J., Helbing, D., Kühnert, C. and West, G.B., 2007. Growth, innovation, scaling, and the pace of life in cities. Proceedings of the national academy of sciences, 104(17), pp.7301-7306.] many urban quantities scale superlinearly or underlinearly with city size. This means they follow the law \n",
    "$$\n",
    "Y\\sim C \\cdot{\\rm Population}^q\n",
    "$$ \n",
    "with $q>1$ (for productivity metrics) or $q<1$ (for infrastructural metrics). \n",
    "\n",
    "Meaning that e.g. once the city becomes twice bigger it becomes more than twice wealthier, more innovative etc. And it takes less than twice the amount of infrastructure!\n",
    "\n",
    "Below we will establish a scaling relationship between total income/crime vs population for US cities. \n",
    "\n",
    "And although scaling relationship is non-linear, linear regression can perfectly help. Just take log-scale:\n",
    "$$\n",
    "log(Y)\\sim q\\cdot \\log(Population)+\\log(C)\n",
    "$$\n",
    "and think of it as a bi-variate linear regression of $log(Y)$ vs $log(Population)$ with a slope coefficient $q$ and intercept $log(C)$.\n",
    "\n",
    "We will perform this regression asking a question if $q$ is substantially different from $1$ or if $q=1$ could be the right model? "
   ]
  },
  {
   "cell_type": "markdown",
   "metadata": {},
   "source": [
    "First read the data on MSA's as well as population, income (as per American Community Survey) and crime statistics and aggregate demographics and crime by MSA"
   ]
  },
  {
   "cell_type": "code",
   "execution_count": 2,
   "metadata": {
    "scrolled": true,
    "tags": []
   },
   "outputs": [
    {
     "data": {
      "text/html": [
       "<div>\n",
       "<style scoped>\n",
       "    .dataframe tbody tr th:only-of-type {\n",
       "        vertical-align: middle;\n",
       "    }\n",
       "\n",
       "    .dataframe tbody tr th {\n",
       "        vertical-align: top;\n",
       "    }\n",
       "\n",
       "    .dataframe thead th {\n",
       "        text-align: right;\n",
       "    }\n",
       "</style>\n",
       "<table border=\"1\" class=\"dataframe\">\n",
       "  <thead>\n",
       "    <tr style=\"text-align: right;\">\n",
       "      <th></th>\n",
       "      <th>msa</th>\n",
       "      <th>msa_name</th>\n",
       "      <th>Geo_FIPS</th>\n",
       "      <th>county</th>\n",
       "    </tr>\n",
       "  </thead>\n",
       "  <tbody>\n",
       "    <tr>\n",
       "      <th>0</th>\n",
       "      <td>10180</td>\n",
       "      <td>Abilene, TX (Metropolitan Statistical Area)</td>\n",
       "      <td>48059</td>\n",
       "      <td>Callahan, TX</td>\n",
       "    </tr>\n",
       "    <tr>\n",
       "      <th>1</th>\n",
       "      <td>10180</td>\n",
       "      <td>Abilene, TX (Metropolitan Statistical Area)</td>\n",
       "      <td>48253</td>\n",
       "      <td>Jones, TX</td>\n",
       "    </tr>\n",
       "    <tr>\n",
       "      <th>2</th>\n",
       "      <td>10180</td>\n",
       "      <td>Abilene, TX (Metropolitan Statistical Area)</td>\n",
       "      <td>48441</td>\n",
       "      <td>Taylor, TX</td>\n",
       "    </tr>\n",
       "    <tr>\n",
       "      <th>3</th>\n",
       "      <td>10420</td>\n",
       "      <td>Akron, OH (Metropolitan Statistical Area)</td>\n",
       "      <td>39133</td>\n",
       "      <td>Portage, OH</td>\n",
       "    </tr>\n",
       "    <tr>\n",
       "      <th>4</th>\n",
       "      <td>10420</td>\n",
       "      <td>Akron, OH (Metropolitan Statistical Area)</td>\n",
       "      <td>39153</td>\n",
       "      <td>Summit, OH</td>\n",
       "    </tr>\n",
       "  </tbody>\n",
       "</table>\n",
       "</div>"
      ],
      "text/plain": [
       "     msa                                     msa_name  Geo_FIPS        county\n",
       "0  10180  Abilene, TX (Metropolitan Statistical Area)     48059  Callahan, TX\n",
       "1  10180  Abilene, TX (Metropolitan Statistical Area)     48253     Jones, TX\n",
       "2  10180  Abilene, TX (Metropolitan Statistical Area)     48441    Taylor, TX\n",
       "3  10420    Akron, OH (Metropolitan Statistical Area)     39133   Portage, OH\n",
       "4  10420    Akron, OH (Metropolitan Statistical Area)     39153    Summit, OH"
      ]
     },
     "execution_count": 2,
     "metadata": {},
     "output_type": "execute_result"
    }
   ],
   "source": [
    "#load data on US Metropolitan statistical areas (one of the definitions of a city)\n",
    "msa = pd.read_csv('msalist.csv', encoding = \"ISO-8859-1\", engine='python')\n",
    "msa.head()"
   ]
  },
  {
   "cell_type": "markdown",
   "metadata": {},
   "source": [
    "The dataframe contains the counties that belong to each MSA, identified by Geo_FIPS code "
   ]
  },
  {
   "cell_type": "code",
   "execution_count": 3,
   "metadata": {
    "tags": []
   },
   "outputs": [],
   "source": [
    "#create dictionary of msa names by their code\n",
    "msaNames={r['msa']:r['msa_name'] for i,r in msa.iterrows()}"
   ]
  },
  {
   "cell_type": "code",
   "execution_count": 4,
   "metadata": {
    "tags": []
   },
   "outputs": [
    {
     "data": {
      "text/plain": [
       "382"
      ]
     },
     "execution_count": 4,
     "metadata": {},
     "output_type": "execute_result"
    }
   ],
   "source": [
    "#we have 382 MSA's\n",
    "len(msa.msa.unique())"
   ]
  },
  {
   "cell_type": "code",
   "execution_count": 5,
   "metadata": {
    "tags": []
   },
   "outputs": [
    {
     "data": {
      "text/plain": [
       "1147"
      ]
     },
     "execution_count": 5,
     "metadata": {},
     "output_type": "execute_result"
    }
   ],
   "source": [
    "#we have 1147 counties that belong to MSA's (out of the total of more than 3000 counties)\n",
    "len(msa.Geo_FIPS.unique())"
   ]
  },
  {
   "cell_type": "markdown",
   "metadata": {},
   "source": [
    "load demographics by FIPS geographical subdivision\n",
    "provided by ACS 2014 data: https://www.census.gov/acs/www/data/data-tables-and-tools/data-profiles/2014/"
   ]
  },
  {
   "cell_type": "code",
   "execution_count": 6,
   "metadata": {
    "tags": []
   },
   "outputs": [],
   "source": [
    "demographics = pd.read_csv('ACS2014.csv', encoding = \"ISO-8859-1\", engine='python')"
   ]
  },
  {
   "cell_type": "code",
   "execution_count": 7,
   "metadata": {
    "tags": []
   },
   "outputs": [],
   "source": [
    "demographics = demographics[[ u'Geo_GEOID', u'Geo_NAME', u'Geo_QName', u'Geo_COUNTY',\\\n",
    "                             u'SE_T001_001', u'SE_T002_002', u'SE_T002_003', u'SE_T057_001', u'SE_T083_001']]\n",
    "\n",
    "demographics.rename(columns={u'SE_T001_001' : 'Population',\\\n",
    "                             u'SE_T002_002' : 'Population Density', \\\n",
    "                             u'SE_T002_003' : 'Area',\\\n",
    "                             u'SE_T057_001' : 'Median household income',\\\n",
    "                             u'SE_T083_001' : 'Per capita income'}, inplace=True)"
   ]
  },
  {
   "cell_type": "code",
   "execution_count": 8,
   "metadata": {
    "tags": []
   },
   "outputs": [],
   "source": [
    "#add cumulative city income\n",
    "demographics['Income']=demographics.Population*demographics['Per capita income']"
   ]
  },
  {
   "cell_type": "code",
   "execution_count": 9,
   "metadata": {
    "tags": []
   },
   "outputs": [
    {
     "data": {
      "text/html": [
       "<div>\n",
       "<style scoped>\n",
       "    .dataframe tbody tr th:only-of-type {\n",
       "        vertical-align: middle;\n",
       "    }\n",
       "\n",
       "    .dataframe tbody tr th {\n",
       "        vertical-align: top;\n",
       "    }\n",
       "\n",
       "    .dataframe thead th {\n",
       "        text-align: right;\n",
       "    }\n",
       "</style>\n",
       "<table border=\"1\" class=\"dataframe\">\n",
       "  <thead>\n",
       "    <tr style=\"text-align: right;\">\n",
       "      <th></th>\n",
       "      <th>Geo_GEOID</th>\n",
       "      <th>Geo_NAME</th>\n",
       "      <th>Geo_QName</th>\n",
       "      <th>Geo_COUNTY</th>\n",
       "      <th>Population</th>\n",
       "      <th>Population Density</th>\n",
       "      <th>Area</th>\n",
       "      <th>Median household income</th>\n",
       "      <th>Per capita income</th>\n",
       "      <th>Income</th>\n",
       "    </tr>\n",
       "  </thead>\n",
       "  <tbody>\n",
       "    <tr>\n",
       "      <th>0</th>\n",
       "      <td>05000US01001</td>\n",
       "      <td>Autauga County, Alabama</td>\n",
       "      <td>Autauga County, Alabama</td>\n",
       "      <td>1</td>\n",
       "      <td>55136</td>\n",
       "      <td>92.75346</td>\n",
       "      <td>594.436089</td>\n",
       "      <td>52475</td>\n",
       "      <td>24644</td>\n",
       "      <td>1358771584</td>\n",
       "    </tr>\n",
       "    <tr>\n",
       "      <th>1</th>\n",
       "      <td>05000US01003</td>\n",
       "      <td>Baldwin County, Alabama</td>\n",
       "      <td>Baldwin County, Alabama</td>\n",
       "      <td>3</td>\n",
       "      <td>191205</td>\n",
       "      <td>120.27100</td>\n",
       "      <td>1589.784070</td>\n",
       "      <td>50183</td>\n",
       "      <td>26851</td>\n",
       "      <td>5134045455</td>\n",
       "    </tr>\n",
       "    <tr>\n",
       "      <th>2</th>\n",
       "      <td>05000US01005</td>\n",
       "      <td>Barbour County, Alabama</td>\n",
       "      <td>Barbour County, Alabama</td>\n",
       "      <td>5</td>\n",
       "      <td>27119</td>\n",
       "      <td>30.64722</td>\n",
       "      <td>884.876304</td>\n",
       "      <td>35634</td>\n",
       "      <td>17350</td>\n",
       "      <td>470514650</td>\n",
       "    </tr>\n",
       "    <tr>\n",
       "      <th>3</th>\n",
       "      <td>05000US01007</td>\n",
       "      <td>Bibb County, Alabama</td>\n",
       "      <td>Bibb County, Alabama</td>\n",
       "      <td>7</td>\n",
       "      <td>22653</td>\n",
       "      <td>36.38555</td>\n",
       "      <td>622.582332</td>\n",
       "      <td>37984</td>\n",
       "      <td>18110</td>\n",
       "      <td>410245830</td>\n",
       "    </tr>\n",
       "    <tr>\n",
       "      <th>4</th>\n",
       "      <td>05000US01009</td>\n",
       "      <td>Blount County, Alabama</td>\n",
       "      <td>Blount County, Alabama</td>\n",
       "      <td>9</td>\n",
       "      <td>57645</td>\n",
       "      <td>89.40315</td>\n",
       "      <td>644.775905</td>\n",
       "      <td>44409</td>\n",
       "      <td>20501</td>\n",
       "      <td>1181780145</td>\n",
       "    </tr>\n",
       "  </tbody>\n",
       "</table>\n",
       "</div>"
      ],
      "text/plain": [
       "      Geo_GEOID                 Geo_NAME                Geo_QName  Geo_COUNTY  \\\n",
       "0  05000US01001  Autauga County, Alabama  Autauga County, Alabama           1   \n",
       "1  05000US01003  Baldwin County, Alabama  Baldwin County, Alabama           3   \n",
       "2  05000US01005  Barbour County, Alabama  Barbour County, Alabama           5   \n",
       "3  05000US01007     Bibb County, Alabama     Bibb County, Alabama           7   \n",
       "4  05000US01009   Blount County, Alabama   Blount County, Alabama           9   \n",
       "\n",
       "   Population  Population Density         Area  Median household income  \\\n",
       "0       55136            92.75346   594.436089                    52475   \n",
       "1      191205           120.27100  1589.784070                    50183   \n",
       "2       27119            30.64722   884.876304                    35634   \n",
       "3       22653            36.38555   622.582332                    37984   \n",
       "4       57645            89.40315   644.775905                    44409   \n",
       "\n",
       "   Per capita income      Income  \n",
       "0              24644  1358771584  \n",
       "1              26851  5134045455  \n",
       "2              17350   470514650  \n",
       "3              18110   410245830  \n",
       "4              20501  1181780145  "
      ]
     },
     "execution_count": 9,
     "metadata": {},
     "output_type": "execute_result"
    }
   ],
   "source": [
    "demographics.head()"
   ]
  },
  {
   "cell_type": "code",
   "execution_count": 10,
   "metadata": {
    "tags": []
   },
   "outputs": [
    {
     "data": {
      "text/plain": [
       "3220"
      ]
     },
     "execution_count": 10,
     "metadata": {},
     "output_type": "execute_result"
    }
   ],
   "source": [
    "len(demographics.Geo_GEOID.unique())"
   ]
  },
  {
   "cell_type": "code",
   "execution_count": 11,
   "metadata": {
    "tags": []
   },
   "outputs": [
    {
     "data": {
      "text/plain": [
       "317746049"
      ]
     },
     "execution_count": 11,
     "metadata": {},
     "output_type": "execute_result"
    }
   ],
   "source": [
    "sum(demographics.Population) #cumulative population in demographics data"
   ]
  },
  {
   "cell_type": "code",
   "execution_count": 12,
   "metadata": {
    "tags": []
   },
   "outputs": [
    {
     "data": {
      "text/html": [
       "<div>\n",
       "<style scoped>\n",
       "    .dataframe tbody tr th:only-of-type {\n",
       "        vertical-align: middle;\n",
       "    }\n",
       "\n",
       "    .dataframe tbody tr th {\n",
       "        vertical-align: top;\n",
       "    }\n",
       "\n",
       "    .dataframe thead th {\n",
       "        text-align: right;\n",
       "    }\n",
       "</style>\n",
       "<table border=\"1\" class=\"dataframe\">\n",
       "  <thead>\n",
       "    <tr style=\"text-align: right;\">\n",
       "      <th></th>\n",
       "      <th>Geo_GEOID</th>\n",
       "      <th>Geo_NAME</th>\n",
       "      <th>Geo_QName</th>\n",
       "      <th>Geo_COUNTY</th>\n",
       "      <th>Population</th>\n",
       "      <th>Population Density</th>\n",
       "      <th>Area</th>\n",
       "      <th>Median household income</th>\n",
       "      <th>Per capita income</th>\n",
       "      <th>Income</th>\n",
       "      <th>ID</th>\n",
       "      <th>msa</th>\n",
       "      <th>msa_name</th>\n",
       "      <th>Geo_FIPS</th>\n",
       "      <th>county</th>\n",
       "    </tr>\n",
       "  </thead>\n",
       "  <tbody>\n",
       "    <tr>\n",
       "      <th>0</th>\n",
       "      <td>05000US01001</td>\n",
       "      <td>Autauga County, Alabama</td>\n",
       "      <td>Autauga County, Alabama</td>\n",
       "      <td>1</td>\n",
       "      <td>55136</td>\n",
       "      <td>92.75346</td>\n",
       "      <td>594.436089</td>\n",
       "      <td>52475</td>\n",
       "      <td>24644</td>\n",
       "      <td>1358771584</td>\n",
       "      <td>1001</td>\n",
       "      <td>33860</td>\n",
       "      <td>Montgomery, AL (Metropolitan Statistical Area)</td>\n",
       "      <td>1001</td>\n",
       "      <td>Autauga, AL</td>\n",
       "    </tr>\n",
       "    <tr>\n",
       "      <th>1</th>\n",
       "      <td>05000US01003</td>\n",
       "      <td>Baldwin County, Alabama</td>\n",
       "      <td>Baldwin County, Alabama</td>\n",
       "      <td>3</td>\n",
       "      <td>191205</td>\n",
       "      <td>120.27100</td>\n",
       "      <td>1589.784070</td>\n",
       "      <td>50183</td>\n",
       "      <td>26851</td>\n",
       "      <td>5134045455</td>\n",
       "      <td>1003</td>\n",
       "      <td>19300</td>\n",
       "      <td>Daphne-Fairhope-Foley, AL (Metropolitan Statis...</td>\n",
       "      <td>1003</td>\n",
       "      <td>Baldwin, AL</td>\n",
       "    </tr>\n",
       "    <tr>\n",
       "      <th>2</th>\n",
       "      <td>05000US01007</td>\n",
       "      <td>Bibb County, Alabama</td>\n",
       "      <td>Bibb County, Alabama</td>\n",
       "      <td>7</td>\n",
       "      <td>22653</td>\n",
       "      <td>36.38555</td>\n",
       "      <td>622.582332</td>\n",
       "      <td>37984</td>\n",
       "      <td>18110</td>\n",
       "      <td>410245830</td>\n",
       "      <td>1007</td>\n",
       "      <td>13820</td>\n",
       "      <td>Birmingham-Hoover, AL (Metropolitan Statistica...</td>\n",
       "      <td>1007</td>\n",
       "      <td>Bibb, AL</td>\n",
       "    </tr>\n",
       "    <tr>\n",
       "      <th>3</th>\n",
       "      <td>05000US01009</td>\n",
       "      <td>Blount County, Alabama</td>\n",
       "      <td>Blount County, Alabama</td>\n",
       "      <td>9</td>\n",
       "      <td>57645</td>\n",
       "      <td>89.40315</td>\n",
       "      <td>644.775905</td>\n",
       "      <td>44409</td>\n",
       "      <td>20501</td>\n",
       "      <td>1181780145</td>\n",
       "      <td>1009</td>\n",
       "      <td>13820</td>\n",
       "      <td>Birmingham-Hoover, AL (Metropolitan Statistica...</td>\n",
       "      <td>1009</td>\n",
       "      <td>Blount, AL</td>\n",
       "    </tr>\n",
       "    <tr>\n",
       "      <th>4</th>\n",
       "      <td>05000US01015</td>\n",
       "      <td>Calhoun County, Alabama</td>\n",
       "      <td>Calhoun County, Alabama</td>\n",
       "      <td>15</td>\n",
       "      <td>117186</td>\n",
       "      <td>193.41850</td>\n",
       "      <td>605.867678</td>\n",
       "      <td>40919</td>\n",
       "      <td>21306</td>\n",
       "      <td>2496764916</td>\n",
       "      <td>1015</td>\n",
       "      <td>11500</td>\n",
       "      <td>Anniston-Oxford-Jacksonville, AL (Metropolitan...</td>\n",
       "      <td>1015</td>\n",
       "      <td>Calhoun, AL</td>\n",
       "    </tr>\n",
       "  </tbody>\n",
       "</table>\n",
       "</div>"
      ],
      "text/plain": [
       "      Geo_GEOID                 Geo_NAME                Geo_QName  Geo_COUNTY  \\\n",
       "0  05000US01001  Autauga County, Alabama  Autauga County, Alabama           1   \n",
       "1  05000US01003  Baldwin County, Alabama  Baldwin County, Alabama           3   \n",
       "2  05000US01007     Bibb County, Alabama     Bibb County, Alabama           7   \n",
       "3  05000US01009   Blount County, Alabama   Blount County, Alabama           9   \n",
       "4  05000US01015  Calhoun County, Alabama  Calhoun County, Alabama          15   \n",
       "\n",
       "   Population  Population Density         Area  Median household income  \\\n",
       "0       55136            92.75346   594.436089                    52475   \n",
       "1      191205           120.27100  1589.784070                    50183   \n",
       "2       22653            36.38555   622.582332                    37984   \n",
       "3       57645            89.40315   644.775905                    44409   \n",
       "4      117186           193.41850   605.867678                    40919   \n",
       "\n",
       "   Per capita income      Income    ID    msa  \\\n",
       "0              24644  1358771584  1001  33860   \n",
       "1              26851  5134045455  1003  19300   \n",
       "2              18110   410245830  1007  13820   \n",
       "3              20501  1181780145  1009  13820   \n",
       "4              21306  2496764916  1015  11500   \n",
       "\n",
       "                                            msa_name  Geo_FIPS       county  \n",
       "0     Montgomery, AL (Metropolitan Statistical Area)      1001  Autauga, AL  \n",
       "1  Daphne-Fairhope-Foley, AL (Metropolitan Statis...      1003  Baldwin, AL  \n",
       "2  Birmingham-Hoover, AL (Metropolitan Statistica...      1007     Bibb, AL  \n",
       "3  Birmingham-Hoover, AL (Metropolitan Statistica...      1009   Blount, AL  \n",
       "4  Anniston-Oxford-Jacksonville, AL (Metropolitan...      1015  Calhoun, AL  "
      ]
     },
     "execution_count": 12,
     "metadata": {},
     "output_type": "execute_result"
    }
   ],
   "source": [
    "#convert some location identifiers from string to numeric\n",
    "def num(s):\n",
    "    try:\n",
    "        return int(s)\n",
    "    except ValueError:\n",
    "        0\n",
    "\n",
    "demographics['ID'] = demographics.Geo_GEOID.apply(lambda x: num(x[7:]))\n",
    "msa['ID'] = msa.Geo_FIPS.apply(num)\n",
    "\n",
    "demomsa = pd.merge(demographics, msa, on='ID', how='inner')\n",
    "demomsa.head()"
   ]
  },
  {
   "cell_type": "code",
   "execution_count": 13,
   "metadata": {
    "tags": []
   },
   "outputs": [],
   "source": [
    "msaDemo = demomsa.groupby(by='msa').sum().loc[:,[u'Population', u'Area', u'Income']]"
   ]
  },
  {
   "cell_type": "markdown",
   "metadata": {},
   "source": [
    "Now look at the final data per MSA we have (we keep those separate as not all the msa's are covered equally in demographics and crime datasets"
   ]
  },
  {
   "cell_type": "code",
   "execution_count": 14,
   "metadata": {
    "tags": []
   },
   "outputs": [
    {
     "data": {
      "text/html": [
       "<div>\n",
       "<style scoped>\n",
       "    .dataframe tbody tr th:only-of-type {\n",
       "        vertical-align: middle;\n",
       "    }\n",
       "\n",
       "    .dataframe tbody tr th {\n",
       "        vertical-align: top;\n",
       "    }\n",
       "\n",
       "    .dataframe thead th {\n",
       "        text-align: right;\n",
       "    }\n",
       "</style>\n",
       "<table border=\"1\" class=\"dataframe\">\n",
       "  <thead>\n",
       "    <tr style=\"text-align: right;\">\n",
       "      <th></th>\n",
       "      <th>Population</th>\n",
       "      <th>Area</th>\n",
       "      <th>Income</th>\n",
       "    </tr>\n",
       "    <tr>\n",
       "      <th>msa</th>\n",
       "      <th></th>\n",
       "      <th></th>\n",
       "      <th></th>\n",
       "    </tr>\n",
       "  </thead>\n",
       "  <tbody>\n",
       "    <tr>\n",
       "      <th>10180</th>\n",
       "      <td>167171</td>\n",
       "      <td>2743.478027</td>\n",
       "      <td>3740034900</td>\n",
       "    </tr>\n",
       "    <tr>\n",
       "      <th>10420</th>\n",
       "      <td>703017</td>\n",
       "      <td>900.129156</td>\n",
       "      <td>19560044574</td>\n",
       "    </tr>\n",
       "    <tr>\n",
       "      <th>10500</th>\n",
       "      <td>156706</td>\n",
       "      <td>1932.557130</td>\n",
       "      <td>3172077530</td>\n",
       "    </tr>\n",
       "    <tr>\n",
       "      <th>10540</th>\n",
       "      <td>118270</td>\n",
       "      <td>2290.129282</td>\n",
       "      <td>2526602010</td>\n",
       "    </tr>\n",
       "    <tr>\n",
       "      <th>10580</th>\n",
       "      <td>875567</td>\n",
       "      <td>2811.554500</td>\n",
       "      <td>28078339939</td>\n",
       "    </tr>\n",
       "  </tbody>\n",
       "</table>\n",
       "</div>"
      ],
      "text/plain": [
       "       Population         Area       Income\n",
       "msa                                        \n",
       "10180      167171  2743.478027   3740034900\n",
       "10420      703017   900.129156  19560044574\n",
       "10500      156706  1932.557130   3172077530\n",
       "10540      118270  2290.129282   2526602010\n",
       "10580      875567  2811.554500  28078339939"
      ]
     },
     "execution_count": 14,
     "metadata": {},
     "output_type": "execute_result"
    }
   ],
   "source": [
    "msaDemo.head()"
   ]
  },
  {
   "cell_type": "markdown",
   "metadata": {},
   "source": [
    "### Q1. Run a simple linear regression of income vs population, without intercept, visualize the fit"
   ]
  },
  {
   "cell_type": "code",
   "execution_count": 15,
   "metadata": {
    "tags": []
   },
   "outputs": [
    {
     "data": {
      "text/html": [
       "<table class=\"simpletable\">\n",
       "<caption>OLS Regression Results</caption>\n",
       "<tr>\n",
       "  <th>Dep. Variable:</th>         <td>Income</td>      <th>  R-squared (uncentered):</th>      <td>   0.982</td> \n",
       "</tr>\n",
       "<tr>\n",
       "  <th>Model:</th>                   <td>OLS</td>       <th>  Adj. R-squared (uncentered):</th> <td>   0.982</td> \n",
       "</tr>\n",
       "<tr>\n",
       "  <th>Method:</th>             <td>Least Squares</td>  <th>  F-statistic:       </th>          <td>2.108e+04</td>\n",
       "</tr>\n",
       "<tr>\n",
       "  <th>Date:</th>             <td>Mon, 11 Dec 2023</td> <th>  Prob (F-statistic):</th>           <td>  0.00</td>  \n",
       "</tr>\n",
       "<tr>\n",
       "  <th>Time:</th>                 <td>18:06:59</td>     <th>  Log-Likelihood:    </th>          <td> -9159.2</td> \n",
       "</tr>\n",
       "<tr>\n",
       "  <th>No. Observations:</th>      <td>   379</td>      <th>  AIC:               </th>          <td>1.832e+04</td>\n",
       "</tr>\n",
       "<tr>\n",
       "  <th>Df Residuals:</th>          <td>   378</td>      <th>  BIC:               </th>          <td>1.832e+04</td>\n",
       "</tr>\n",
       "<tr>\n",
       "  <th>Df Model:</th>              <td>     1</td>      <th>                     </th>              <td> </td>    \n",
       "</tr>\n",
       "<tr>\n",
       "  <th>Covariance Type:</th>      <td>nonrobust</td>    <th>                     </th>              <td> </td>    \n",
       "</tr>\n",
       "</table>\n",
       "<table class=\"simpletable\">\n",
       "<tr>\n",
       "       <td></td>         <th>coef</th>     <th>std err</th>      <th>t</th>      <th>P>|t|</th>  <th>[0.025</th>    <th>0.975]</th>  \n",
       "</tr>\n",
       "<tr>\n",
       "  <th>Population</th> <td> 3.245e+04</td> <td>  223.455</td> <td>  145.197</td> <td> 0.000</td> <td>  3.2e+04</td> <td> 3.29e+04</td>\n",
       "</tr>\n",
       "</table>\n",
       "<table class=\"simpletable\">\n",
       "<tr>\n",
       "  <th>Omnibus:</th>       <td>344.787</td> <th>  Durbin-Watson:     </th> <td>   1.818</td> \n",
       "</tr>\n",
       "<tr>\n",
       "  <th>Prob(Omnibus):</th> <td> 0.000</td>  <th>  Jarque-Bera (JB):  </th> <td>27704.925</td>\n",
       "</tr>\n",
       "<tr>\n",
       "  <th>Skew:</th>          <td> 3.344</td>  <th>  Prob(JB):          </th> <td>    0.00</td> \n",
       "</tr>\n",
       "<tr>\n",
       "  <th>Kurtosis:</th>      <td>44.348</td>  <th>  Cond. No.          </th> <td>    1.00</td> \n",
       "</tr>\n",
       "</table><br/><br/>Notes:<br/>[1] R² is computed without centering (uncentered) since the model does not contain a constant.<br/>[2] Standard Errors assume that the covariance matrix of the errors is correctly specified."
      ],
      "text/latex": [
       "\\begin{center}\n",
       "\\begin{tabular}{lclc}\n",
       "\\toprule\n",
       "\\textbf{Dep. Variable:}    &      Income      & \\textbf{  R-squared (uncentered):}      &     0.982   \\\\\n",
       "\\textbf{Model:}            &       OLS        & \\textbf{  Adj. R-squared (uncentered):} &     0.982   \\\\\n",
       "\\textbf{Method:}           &  Least Squares   & \\textbf{  F-statistic:       }          & 2.108e+04   \\\\\n",
       "\\textbf{Date:}             & Mon, 11 Dec 2023 & \\textbf{  Prob (F-statistic):}          &     0.00    \\\\\n",
       "\\textbf{Time:}             &     18:06:59     & \\textbf{  Log-Likelihood:    }          &   -9159.2   \\\\\n",
       "\\textbf{No. Observations:} &         379      & \\textbf{  AIC:               }          & 1.832e+04   \\\\\n",
       "\\textbf{Df Residuals:}     &         378      & \\textbf{  BIC:               }          & 1.832e+04   \\\\\n",
       "\\textbf{Df Model:}         &           1      & \\textbf{                     }          &             \\\\\n",
       "\\textbf{Covariance Type:}  &    nonrobust     & \\textbf{                     }          &             \\\\\n",
       "\\bottomrule\n",
       "\\end{tabular}\n",
       "\\begin{tabular}{lcccccc}\n",
       "                    & \\textbf{coef} & \\textbf{std err} & \\textbf{t} & \\textbf{P$> |$t$|$} & \\textbf{[0.025} & \\textbf{0.975]}  \\\\\n",
       "\\midrule\n",
       "\\textbf{Population} &    3.245e+04  &      223.455     &   145.197  &         0.000        &      3.2e+04    &     3.29e+04     \\\\\n",
       "\\bottomrule\n",
       "\\end{tabular}\n",
       "\\begin{tabular}{lclc}\n",
       "\\textbf{Omnibus:}       & 344.787 & \\textbf{  Durbin-Watson:     } &     1.818  \\\\\n",
       "\\textbf{Prob(Omnibus):} &   0.000 & \\textbf{  Jarque-Bera (JB):  } & 27704.925  \\\\\n",
       "\\textbf{Skew:}          &   3.344 & \\textbf{  Prob(JB):          } &      0.00  \\\\\n",
       "\\textbf{Kurtosis:}      &  44.348 & \\textbf{  Cond. No.          } &      1.00  \\\\\n",
       "\\bottomrule\n",
       "\\end{tabular}\n",
       "%\\caption{OLS Regression Results}\n",
       "\\end{center}\n",
       "\n",
       "Notes: \\newline\n",
       " [1] R² is computed without centering (uncentered) since the model does not contain a constant. \\newline\n",
       " [2] Standard Errors assume that the covariance matrix of the errors is correctly specified."
      ],
      "text/plain": [
       "<class 'statsmodels.iolib.summary.Summary'>\n",
       "\"\"\"\n",
       "                                 OLS Regression Results                                \n",
       "=======================================================================================\n",
       "Dep. Variable:                 Income   R-squared (uncentered):                   0.982\n",
       "Model:                            OLS   Adj. R-squared (uncentered):              0.982\n",
       "Method:                 Least Squares   F-statistic:                          2.108e+04\n",
       "Date:                Mon, 11 Dec 2023   Prob (F-statistic):                        0.00\n",
       "Time:                        18:06:59   Log-Likelihood:                         -9159.2\n",
       "No. Observations:                 379   AIC:                                  1.832e+04\n",
       "Df Residuals:                     378   BIC:                                  1.832e+04\n",
       "Df Model:                           1                                                  \n",
       "Covariance Type:            nonrobust                                                  \n",
       "==============================================================================\n",
       "                 coef    std err          t      P>|t|      [0.025      0.975]\n",
       "------------------------------------------------------------------------------\n",
       "Population  3.245e+04    223.455    145.197      0.000     3.2e+04    3.29e+04\n",
       "==============================================================================\n",
       "Omnibus:                      344.787   Durbin-Watson:                   1.818\n",
       "Prob(Omnibus):                  0.000   Jarque-Bera (JB):            27704.925\n",
       "Skew:                           3.344   Prob(JB):                         0.00\n",
       "Kurtosis:                      44.348   Cond. No.                         1.00\n",
       "==============================================================================\n",
       "\n",
       "Notes:\n",
       "[1] R² is computed without centering (uncentered) since the model does not contain a constant.\n",
       "[2] Standard Errors assume that the covariance matrix of the errors is correctly specified.\n",
       "\"\"\""
      ]
     },
     "execution_count": 15,
     "metadata": {},
     "output_type": "execute_result"
    }
   ],
   "source": [
    "#Performing OLS regression\n",
    "lm = smf.ols('Income~Population-1', data=msaDemo).fit()\n",
    "lm.summary()"
   ]
  },
  {
   "cell_type": "code",
   "execution_count": 16,
   "metadata": {
    "tags": []
   },
   "outputs": [
    {
     "name": "stderr",
     "output_type": "stream",
     "text": [
      "No artists with labels found to put in legend.  Note that artists whose label start with an underscore are ignored when legend() is called with no argument.\n"
     ]
    },
    {
     "data": {
      "text/plain": [
       "<matplotlib.legend.Legend at 0x1d6adcb5d90>"
      ]
     },
     "execution_count": 16,
     "metadata": {},
     "output_type": "execute_result"
    },
    {
     "data": {
      "image/png": "[encoded data removed]",
      "text/plain": [
       "<Figure size 1400x800 with 1 Axes>"
      ]
     },
     "metadata": {},
     "output_type": "display_data"
    }
   ],
   "source": [
    "#Visualizing the regression fit\n",
    "plt.figure(figsize=(14,8))\n",
    "plt.plot(msaDemo['Population'], msaDemo['Income'], 'o')\n",
    "plt.title('Income vs population', fontsize = 15)\n",
    "plt.xlabel('Population')\n",
    "plt.ylabel('Income')\n",
    "plt.plot(msaDemo['Population'], lm.predict(), '-r')\n",
    "plt.legend()"
   ]
  },
  {
   "cell_type": "markdown",
   "metadata": {},
   "source": [
    "### Q2 Take the log-scale of income and population and repeat the regression, now with intercept"
   ]
  },
  {
   "cell_type": "code",
   "execution_count": 17,
   "metadata": {
    "tags": []
   },
   "outputs": [
    {
     "data": {
      "text/html": [
       "<div>\n",
       "<style scoped>\n",
       "    .dataframe tbody tr th:only-of-type {\n",
       "        vertical-align: middle;\n",
       "    }\n",
       "\n",
       "    .dataframe tbody tr th {\n",
       "        vertical-align: top;\n",
       "    }\n",
       "\n",
       "    .dataframe thead th {\n",
       "        text-align: right;\n",
       "    }\n",
       "</style>\n",
       "<table border=\"1\" class=\"dataframe\">\n",
       "  <thead>\n",
       "    <tr style=\"text-align: right;\">\n",
       "      <th></th>\n",
       "      <th>logIncome</th>\n",
       "      <th>logPop</th>\n",
       "    </tr>\n",
       "    <tr>\n",
       "      <th>msa</th>\n",
       "      <th></th>\n",
       "      <th></th>\n",
       "    </tr>\n",
       "  </thead>\n",
       "  <tbody>\n",
       "    <tr>\n",
       "      <th>10180</th>\n",
       "      <td>22.042361</td>\n",
       "      <td>12.026773</td>\n",
       "    </tr>\n",
       "    <tr>\n",
       "      <th>10420</th>\n",
       "      <td>23.696755</td>\n",
       "      <td>13.463136</td>\n",
       "    </tr>\n",
       "    <tr>\n",
       "      <th>10500</th>\n",
       "      <td>21.877653</td>\n",
       "      <td>11.962127</td>\n",
       "    </tr>\n",
       "    <tr>\n",
       "      <th>10540</th>\n",
       "      <td>21.650141</td>\n",
       "      <td>11.680725</td>\n",
       "    </tr>\n",
       "    <tr>\n",
       "      <th>10580</th>\n",
       "      <td>24.058264</td>\n",
       "      <td>13.682627</td>\n",
       "    </tr>\n",
       "  </tbody>\n",
       "</table>\n",
       "</div>"
      ],
      "text/plain": [
       "       logIncome     logPop\n",
       "msa                        \n",
       "10180  22.042361  12.026773\n",
       "10420  23.696755  13.463136\n",
       "10500  21.877653  11.962127\n",
       "10540  21.650141  11.680725\n",
       "10580  24.058264  13.682627"
      ]
     },
     "execution_count": 17,
     "metadata": {},
     "output_type": "execute_result"
    }
   ],
   "source": [
    "logPop = np.log(msaDemo['Population'])\n",
    "logIncome = np.log(msaDemo['Income'])\n",
    "dataLog = pd.DataFrame({'logIncome':logIncome, 'logPop':logPop})\n",
    "dataLog.head()"
   ]
  },
  {
   "cell_type": "code",
   "execution_count": 18,
   "metadata": {
    "tags": []
   },
   "outputs": [
    {
     "data": {
      "text/html": [
       "<table class=\"simpletable\">\n",
       "<caption>OLS Regression Results</caption>\n",
       "<tr>\n",
       "  <th>Dep. Variable:</th>        <td>logIncome</td>    <th>  R-squared:         </th> <td>   0.983</td> \n",
       "</tr>\n",
       "<tr>\n",
       "  <th>Model:</th>                   <td>OLS</td>       <th>  Adj. R-squared:    </th> <td>   0.983</td> \n",
       "</tr>\n",
       "<tr>\n",
       "  <th>Method:</th>             <td>Least Squares</td>  <th>  F-statistic:       </th> <td>2.157e+04</td>\n",
       "</tr>\n",
       "<tr>\n",
       "  <th>Date:</th>             <td>Mon, 11 Dec 2023</td> <th>  Prob (F-statistic):</th>  <td>  0.00</td>  \n",
       "</tr>\n",
       "<tr>\n",
       "  <th>Time:</th>                 <td>18:07:00</td>     <th>  Log-Likelihood:    </th> <td>  175.13</td> \n",
       "</tr>\n",
       "<tr>\n",
       "  <th>No. Observations:</th>      <td>   379</td>      <th>  AIC:               </th> <td>  -346.3</td> \n",
       "</tr>\n",
       "<tr>\n",
       "  <th>Df Residuals:</th>          <td>   377</td>      <th>  BIC:               </th> <td>  -338.4</td> \n",
       "</tr>\n",
       "<tr>\n",
       "  <th>Df Model:</th>              <td>     1</td>      <th>                     </th>     <td> </td>    \n",
       "</tr>\n",
       "<tr>\n",
       "  <th>Covariance Type:</th>      <td>nonrobust</td>    <th>                     </th>     <td> </td>    \n",
       "</tr>\n",
       "</table>\n",
       "<table class=\"simpletable\">\n",
       "<tr>\n",
       "      <td></td>         <th>coef</th>     <th>std err</th>      <th>t</th>      <th>P>|t|</th>  <th>[0.025</th>    <th>0.975]</th>  \n",
       "</tr>\n",
       "<tr>\n",
       "  <th>Intercept</th> <td>    9.3549</td> <td>    0.092</td> <td>  101.819</td> <td> 0.000</td> <td>    9.174</td> <td>    9.536</td>\n",
       "</tr>\n",
       "<tr>\n",
       "  <th>logPop</th>    <td>    1.0633</td> <td>    0.007</td> <td>  146.865</td> <td> 0.000</td> <td>    1.049</td> <td>    1.078</td>\n",
       "</tr>\n",
       "</table>\n",
       "<table class=\"simpletable\">\n",
       "<tr>\n",
       "  <th>Omnibus:</th>       <td>19.243</td> <th>  Durbin-Watson:     </th> <td>   1.792</td>\n",
       "</tr>\n",
       "<tr>\n",
       "  <th>Prob(Omnibus):</th> <td> 0.000</td> <th>  Jarque-Bera (JB):  </th> <td>  53.781</td>\n",
       "</tr>\n",
       "<tr>\n",
       "  <th>Skew:</th>          <td> 0.021</td> <th>  Prob(JB):          </th> <td>2.10e-12</td>\n",
       "</tr>\n",
       "<tr>\n",
       "  <th>Kurtosis:</th>      <td> 4.845</td> <th>  Cond. No.          </th> <td>    149.</td>\n",
       "</tr>\n",
       "</table><br/><br/>Notes:<br/>[1] Standard Errors assume that the covariance matrix of the errors is correctly specified."
      ],
      "text/latex": [
       "\\begin{center}\n",
       "\\begin{tabular}{lclc}\n",
       "\\toprule\n",
       "\\textbf{Dep. Variable:}    &    logIncome     & \\textbf{  R-squared:         } &     0.983   \\\\\n",
       "\\textbf{Model:}            &       OLS        & \\textbf{  Adj. R-squared:    } &     0.983   \\\\\n",
       "\\textbf{Method:}           &  Least Squares   & \\textbf{  F-statistic:       } & 2.157e+04   \\\\\n",
       "\\textbf{Date:}             & Mon, 11 Dec 2023 & \\textbf{  Prob (F-statistic):} &     0.00    \\\\\n",
       "\\textbf{Time:}             &     18:07:00     & \\textbf{  Log-Likelihood:    } &    175.13   \\\\\n",
       "\\textbf{No. Observations:} &         379      & \\textbf{  AIC:               } &    -346.3   \\\\\n",
       "\\textbf{Df Residuals:}     &         377      & \\textbf{  BIC:               } &    -338.4   \\\\\n",
       "\\textbf{Df Model:}         &           1      & \\textbf{                     } &             \\\\\n",
       "\\textbf{Covariance Type:}  &    nonrobust     & \\textbf{                     } &             \\\\\n",
       "\\bottomrule\n",
       "\\end{tabular}\n",
       "\\begin{tabular}{lcccccc}\n",
       "                   & \\textbf{coef} & \\textbf{std err} & \\textbf{t} & \\textbf{P$> |$t$|$} & \\textbf{[0.025} & \\textbf{0.975]}  \\\\\n",
       "\\midrule\n",
       "\\textbf{Intercept} &       9.3549  &        0.092     &   101.819  &         0.000        &        9.174    &        9.536     \\\\\n",
       "\\textbf{logPop}    &       1.0633  &        0.007     &   146.865  &         0.000        &        1.049    &        1.078     \\\\\n",
       "\\bottomrule\n",
       "\\end{tabular}\n",
       "\\begin{tabular}{lclc}\n",
       "\\textbf{Omnibus:}       & 19.243 & \\textbf{  Durbin-Watson:     } &    1.792  \\\\\n",
       "\\textbf{Prob(Omnibus):} &  0.000 & \\textbf{  Jarque-Bera (JB):  } &   53.781  \\\\\n",
       "\\textbf{Skew:}          &  0.021 & \\textbf{  Prob(JB):          } & 2.10e-12  \\\\\n",
       "\\textbf{Kurtosis:}      &  4.845 & \\textbf{  Cond. No.          } &     149.  \\\\\n",
       "\\bottomrule\n",
       "\\end{tabular}\n",
       "%\\caption{OLS Regression Results}\n",
       "\\end{center}\n",
       "\n",
       "Notes: \\newline\n",
       " [1] Standard Errors assume that the covariance matrix of the errors is correctly specified."
      ],
      "text/plain": [
       "<class 'statsmodels.iolib.summary.Summary'>\n",
       "\"\"\"\n",
       "                            OLS Regression Results                            \n",
       "==============================================================================\n",
       "Dep. Variable:              logIncome   R-squared:                       0.983\n",
       "Model:                            OLS   Adj. R-squared:                  0.983\n",
       "Method:                 Least Squares   F-statistic:                 2.157e+04\n",
       "Date:                Mon, 11 Dec 2023   Prob (F-statistic):               0.00\n",
       "Time:                        18:07:00   Log-Likelihood:                 175.13\n",
       "No. Observations:                 379   AIC:                            -346.3\n",
       "Df Residuals:                     377   BIC:                            -338.4\n",
       "Df Model:                           1                                         \n",
       "Covariance Type:            nonrobust                                         \n",
       "==============================================================================\n",
       "                 coef    std err          t      P>|t|      [0.025      0.975]\n",
       "------------------------------------------------------------------------------\n",
       "Intercept      9.3549      0.092    101.819      0.000       9.174       9.536\n",
       "logPop         1.0633      0.007    146.865      0.000       1.049       1.078\n",
       "==============================================================================\n",
       "Omnibus:                       19.243   Durbin-Watson:                   1.792\n",
       "Prob(Omnibus):                  0.000   Jarque-Bera (JB):               53.781\n",
       "Skew:                           0.021   Prob(JB):                     2.10e-12\n",
       "Kurtosis:                       4.845   Cond. No.                         149.\n",
       "==============================================================================\n",
       "\n",
       "Notes:\n",
       "[1] Standard Errors assume that the covariance matrix of the errors is correctly specified.\n",
       "\"\"\""
      ]
     },
     "execution_count": 18,
     "metadata": {},
     "output_type": "execute_result"
    }
   ],
   "source": [
    "#Performing OLS regression\n",
    "lmIncome = smf.ols('logIncome~logPop', data=dataLog).fit()\n",
    "lmIncome.summary()"
   ]
  },
  {
   "cell_type": "code",
   "execution_count": 19,
   "metadata": {
    "tags": []
   },
   "outputs": [
    {
     "name": "stderr",
     "output_type": "stream",
     "text": [
      "No artists with labels found to put in legend.  Note that artists whose label start with an underscore are ignored when legend() is called with no argument.\n"
     ]
    },
    {
     "data": {
      "text/plain": [
       "<matplotlib.legend.Legend at 0x1d6adc99ed0>"
      ]
     },
     "execution_count": 19,
     "metadata": {},
     "output_type": "execute_result"
    },
    {
     "data": {
      "image/png": "[encoded data removed]",
      "text/plain": [
       "<Figure size 1400x800 with 1 Axes>"
      ]
     },
     "metadata": {},
     "output_type": "display_data"
    }
   ],
   "source": [
    "#Visualize the income scaling law\n",
    "plt.figure(figsize=(14,8))\n",
    "plt.plot(dataLog['logPop'], dataLog['logIncome'], 'o')\n",
    "plt.title('Income scaing', fontsize = 15)\n",
    "plt.xlabel('log(Population)')\n",
    "plt.ylabel('log(Income)')\n",
    "plt.plot(dataLog['logPop'], lmIncome.predict(), '-r')\n",
    "plt.legend()"
   ]
  },
  {
   "cell_type": "markdown",
   "metadata": {},
   "source": [
    "This means $$log(Income)=1.0633 log(Population)+9.3549$$ or $$Income=exp(9.3549) Population^{1.0633}$$\n",
    "\n",
    "Does it mean the actual dependency of Income vs Population is actually a power law rather than a linear relationship? The estimate $q=1.0633$ for the exponent is somewhat close to 1. Is the conclusion that $q>1$ statistically significant?"
   ]
  },
  {
   "cell_type": "code",
   "execution_count": 20,
   "metadata": {
    "tags": []
   },
   "outputs": [
    {
     "data": {
      "text/plain": [
       "133.84433676499071"
      ]
     },
     "execution_count": 20,
     "metadata": {},
     "output_type": "execute_result"
    }
   ],
   "source": [
    "#if a city is 100 times larger its not 100 but 134 times wealthier\n",
    "100**1.0633"
   ]
  },
  {
   "cell_type": "markdown",
   "metadata": {},
   "source": [
    "As the confidence intervals tells us, we're 95% confident that the exponent $q$ of the scaling law is between [1.049, 1.078], i.e. above 1.\n",
    "\n",
    "**This way we can reject the hypothesis that $q=1$ at the 95% confidence level**"
   ]
  },
  {
   "cell_type": "code",
   "execution_count": 21,
   "metadata": {
    "tags": []
   },
   "outputs": [],
   "source": [
    "#where does the confidence interval come from? Illustrate idea of the uncertainty in the model estimates using the experiment below."
   ]
  },
  {
   "cell_type": "code",
   "execution_count": 22,
   "metadata": {
    "tags": []
   },
   "outputs": [],
   "source": [
    "#perform regression on 100 subsamples\n",
    "np.random.seed(2019)\n",
    "W=[]\n",
    "for i in range(0,100):\n",
    "    df=dataLog.sample(frac=0.5)\n",
    "    lm = smf.ols(formula='logIncome~logPop', data = df).fit()\n",
    "    W+=[lm.params.logPop]"
   ]
  },
  {
   "cell_type": "code",
   "execution_count": 23,
   "metadata": {
    "tags": []
   },
   "outputs": [
    {
     "name": "stdout",
     "output_type": "stream",
     "text": [
      "1.0632614987565112+-0.006389464050779145\n"
     ]
    }
   ],
   "source": [
    "print('{}+-{}'.format(np.array(W).mean(),np.array(W).std()))"
   ]
  },
  {
   "cell_type": "markdown",
   "metadata": {},
   "source": [
    "But mind the fact that variance will actually depend on the sample sizes and there is no direct correspondence - it was coincidental that the std of our experiments largely matched standard error reported in the regression summary. Those are different concepts. This experiment is just an illustration of the idea. A more robust way of explaining it would employ Bayesian thinking:\n",
    "Consider a regression $$y\\sim w\\cdot x$$ or its probabilistic form $y\\sim N(wx,\\sigma^2)$ given the observed $Data$. Then one can assess the joint likelihood of the $Data=\\{(x^i,y^i)\\}$ given the choice of the model coefficient $w$ as\n",
    "$$\n",
    "p(Data|w)=\\prod\\limits_i p(y^i|w x^i,\\sigma^2)\\sim{\\rm exp}\\left(\\sum\\limits_i \\frac{-(y^i-w x^i)^2}{2\\sigma^2}\\right).\n",
    "$$\n",
    "Using Bayes theorem one could flip it into\n",
    "$$\n",
    "p(w|Data)=\\frac{p(Data|w)p(w)}{p(Data)}.\n",
    "$$\n",
    "While $p(Data)$ does not depend on $w$ one can use the relationship above to infer not only a single estimate for $w$ but the entire probabilistic distribution for it to be proportional to the product of the likelihood above $p(Data|w)$ and our prior beliefs about $w$ expressed through $p(w)$. If we do not really have any we can assume $p(w)=const$ over a certain interval of reasonable values and then a distribution for $w$ could be defined through a simple proportionality relationship $p(w|Data)\\sim p(Data|w)$ over this interval. Alternatively we can assume $p(w)=N(0,(\\sigma^*)^2)$ with $\\sigma^*$ large enough, which will lead to normal distribution for $p(w|Data)$ in case $\\sigma^*$ were known upfront."
   ]
  },
  {
   "cell_type": "code",
   "execution_count": 24,
   "metadata": {
    "tags": []
   },
   "outputs": [
    {
     "data": {
      "image/png": "[encoded data removed]",
      "text/plain": [
       "<Figure size 1400x500 with 1 Axes>"
      ]
     },
     "metadata": {},
     "output_type": "display_data"
    }
   ],
   "source": [
    "#returning to the example above use a normal distribution with mean 1.0633 \n",
    "#and standard error 0.007 as reported by the regression\n",
    "#in order to approximate p(q|Data) (in reality distribution is slightly more complex, but often reasonably close to normal - see below)\n",
    "from scipy.stats import norm\n",
    "mu=1.0633; sigma=0.007\n",
    "q0=1.055\n",
    "q = 0.05/2\n",
    "x = np.arange(1.03,1.09,0.0001)\n",
    "y = norm.pdf(x, loc=mu, scale=sigma)    # default setting with location parameter 0 and scale parameter 1\n",
    "t0 = norm.ppf(q, mu, sigma)   # lower bound\n",
    "t1 = norm.isf(q, mu, sigma)   # upper bound, or simply \"-t0\" because of symmetry\n",
    "\n",
    "ax = plt.figure(figsize=(14,5)).add_subplot(111)\n",
    "ax.fill_between(x[(x<t0) | (x>t1)], 0, y[(x<t0) | (x>t1)], facecolor = 'green') # tails\n",
    "ax.fill_between(x[(x>t0) & (x<t1)], 0, y[(x>t0) & (x<t1)], facecolor = 'gold')  # center\n",
    "# Annotations\n",
    "plt.axvline(x=mu,linestyle=':')\n",
    "plt.axvline(x=q0,linestyle=':',c='b')\n",
    "plt.axvline(x=2*mu-q0,linestyle=':',c='b')\n",
    "ax.text(mu, -2, '$mu=1.0633$', fontsize = 10)\n",
    "ax.text(q0, 20, '$q=q^*$', fontsize = 10)\n",
    "ax.text(t1+0.003, 0.0012, '%.2f%%'%(100*q), fontsize = 24)\n",
    "ax.text(t0-0.01, 0.0012, '%.2f%%'%(100*q), fontsize = 24)\n",
    "ax.text(mu-0.003, 10, '%.2f%%'%(100*(1-q*2)), fontsize = 24)\n",
    "ax.text(t0-0.001, -1, '$q_{min}$', fontsize = 22)\n",
    "ax.text(t1-0.001, -1, '$q_{max}$', fontsize = 22)\n",
    "plt.show()"
   ]
  },
  {
   "cell_type": "markdown",
   "metadata": {},
   "source": [
    "This plot shows the range of most 95% most likely values (accumulating 95% probability), i.e. the confidence interval. It also allows to asses how relatively likely a certain candidate value of $q=q^*$ is by measuring the volume (by probability) of all the values which are less likely thant $q^*$, i.e. those $q<q^*$ and $q>2\\mu-q^*$."
   ]
  },
  {
   "cell_type": "markdown",
   "metadata": {},
   "source": [
    "More robustly, a standard regression framework gives that a quantity \n",
    "$$\n",
    "t=\\frac{w_j-w_j^0}{\\hat{\\sigma_j}}.\n",
    "$$\n",
    "(where $w_j^0$ and $\\hat{\\sigma_j}$ are the mean estimate and the standard error reported for the coefficient $w_j$) follows a so called t-distribution (approximately standard normal given a number of observations large enough) defined as below"
   ]
  },
  {
   "cell_type": "code",
   "execution_count": 25,
   "metadata": {
    "tags": []
   },
   "outputs": [
    {
     "data": {
      "image/png": "[encoded data removed]",
      "text/plain": [
       "<Figure size 1400x500 with 1 Axes>"
      ]
     },
     "metadata": {},
     "output_type": "display_data"
    }
   ],
   "source": [
    "from scipy.stats import t\n",
    "df_=100\n",
    "q = 0.05/2\n",
    "x = np.arange(-5,5,0.01)\n",
    "y = t.pdf(x, df_)    # default setting with location parameter 0 and scale parameter 1\n",
    "t0 = t.ppf(q, df_)   # lower bound\n",
    "t1 = t.isf(q, df_)   # upper bound, or simply \"-t0\" because of symmetry\n",
    "\n",
    "ax = plt.figure(figsize=(14,5)).add_subplot(111)\n",
    "ax.fill_between(x[(x<t0) | (x>t1)], 0, y[(x<t0) | (x>t1)], facecolor = 'green') # tails\n",
    "ax.fill_between(x[(x>t0) & (x<t1)], 0, y[(x>t0) & (x<t1)], facecolor = 'gold')  # center\n",
    "# Annotations\n",
    "ax.text(t1+0.3, 0.12, '%.2f%%'%(100*q), fontsize = 24)\n",
    "ax.text(t0-1.6, 0.12, '%.2f%%'%(100*q), fontsize = 24)\n",
    "ax.text(-0.7, 0.12, '%.2f%%'%(100*(1-q*2)), fontsize = 24)\n",
    "ax.text(t0-0.1, -0.03, '$t_0$', fontsize = 22)\n",
    "ax.text(t1-0.1, -0.03, '$t_1$', fontsize = 22)\n",
    "plt.show()"
   ]
  },
  {
   "cell_type": "markdown",
   "metadata": {},
   "source": [
    "then the $1-\\alpha$ (e.g. $95\\%$ when $\\alpha=5\\%$) confidence interval is the one covering $1-\\alpha$ (by probability density) of the most probable values of the distribution and excluding $\\alpha$ (e.g. $5\\%$) of the least probable values. "
   ]
  },
  {
   "cell_type": "code",
   "execution_count": 26,
   "metadata": {
    "tags": []
   },
   "outputs": [
    {
     "data": {
      "text/html": [
       "<div>\n",
       "<style scoped>\n",
       "    .dataframe tbody tr th:only-of-type {\n",
       "        vertical-align: middle;\n",
       "    }\n",
       "\n",
       "    .dataframe tbody tr th {\n",
       "        vertical-align: top;\n",
       "    }\n",
       "\n",
       "    .dataframe thead th {\n",
       "        text-align: right;\n",
       "    }\n",
       "</style>\n",
       "<table border=\"1\" class=\"dataframe\">\n",
       "  <thead>\n",
       "    <tr style=\"text-align: right;\">\n",
       "      <th></th>\n",
       "      <th>0</th>\n",
       "      <th>1</th>\n",
       "    </tr>\n",
       "  </thead>\n",
       "  <tbody>\n",
       "    <tr>\n",
       "      <th>Intercept</th>\n",
       "      <td>9.174235</td>\n",
       "      <td>9.535549</td>\n",
       "    </tr>\n",
       "    <tr>\n",
       "      <th>logPop</th>\n",
       "      <td>1.049105</td>\n",
       "      <td>1.077578</td>\n",
       "    </tr>\n",
       "  </tbody>\n",
       "</table>\n",
       "</div>"
      ],
      "text/plain": [
       "                  0         1\n",
       "Intercept  9.174235  9.535549\n",
       "logPop     1.049105  1.077578"
      ]
     },
     "execution_count": 26,
     "metadata": {},
     "output_type": "execute_result"
    }
   ],
   "source": [
    "#standard regression statistics provides only 95% confidence interval; here is another way of getting it for arbitrary alpha\n",
    "lmIncome.conf_int(alpha=0.05) # 95% CI"
   ]
  },
  {
   "cell_type": "code",
   "execution_count": 27,
   "metadata": {
    "tags": []
   },
   "outputs": [
    {
     "data": {
      "text/html": [
       "<div>\n",
       "<style scoped>\n",
       "    .dataframe tbody tr th:only-of-type {\n",
       "        vertical-align: middle;\n",
       "    }\n",
       "\n",
       "    .dataframe tbody tr th {\n",
       "        vertical-align: top;\n",
       "    }\n",
       "\n",
       "    .dataframe thead th {\n",
       "        text-align: right;\n",
       "    }\n",
       "</style>\n",
       "<table border=\"1\" class=\"dataframe\">\n",
       "  <thead>\n",
       "    <tr style=\"text-align: right;\">\n",
       "      <th></th>\n",
       "      <th>0</th>\n",
       "      <th>1</th>\n",
       "    </tr>\n",
       "  </thead>\n",
       "  <tbody>\n",
       "    <tr>\n",
       "      <th>Intercept</th>\n",
       "      <td>9.117027</td>\n",
       "      <td>9.592757</td>\n",
       "    </tr>\n",
       "    <tr>\n",
       "      <th>logPop</th>\n",
       "      <td>1.044597</td>\n",
       "      <td>1.082086</td>\n",
       "    </tr>\n",
       "  </tbody>\n",
       "</table>\n",
       "</div>"
      ],
      "text/plain": [
       "                  0         1\n",
       "Intercept  9.117027  9.592757\n",
       "logPop     1.044597  1.082086"
      ]
     },
     "execution_count": 27,
     "metadata": {},
     "output_type": "execute_result"
    }
   ],
   "source": [
    "lmIncome.conf_int(alpha=0.01) # 99% CI"
   ]
  },
  {
   "cell_type": "code",
   "execution_count": 28,
   "metadata": {
    "tags": []
   },
   "outputs": [
    {
     "data": {
      "text/html": [
       "<div>\n",
       "<style scoped>\n",
       "    .dataframe tbody tr th:only-of-type {\n",
       "        vertical-align: middle;\n",
       "    }\n",
       "\n",
       "    .dataframe tbody tr th {\n",
       "        vertical-align: top;\n",
       "    }\n",
       "\n",
       "    .dataframe thead th {\n",
       "        text-align: right;\n",
       "    }\n",
       "</style>\n",
       "<table border=\"1\" class=\"dataframe\">\n",
       "  <thead>\n",
       "    <tr style=\"text-align: right;\">\n",
       "      <th></th>\n",
       "      <th>0</th>\n",
       "      <th>1</th>\n",
       "    </tr>\n",
       "  </thead>\n",
       "  <tbody>\n",
       "    <tr>\n",
       "      <th>Intercept</th>\n",
       "      <td>9.050178</td>\n",
       "      <td>9.659606</td>\n",
       "    </tr>\n",
       "    <tr>\n",
       "      <th>logPop</th>\n",
       "      <td>1.039329</td>\n",
       "      <td>1.087354</td>\n",
       "    </tr>\n",
       "  </tbody>\n",
       "</table>\n",
       "</div>"
      ],
      "text/plain": [
       "                  0         1\n",
       "Intercept  9.050178  9.659606\n",
       "logPop     1.039329  1.087354"
      ]
     },
     "execution_count": 28,
     "metadata": {},
     "output_type": "execute_result"
    }
   ],
   "source": [
    "# so even with 99.9% confidence we can claim q>1\n",
    "lmIncome.conf_int(alpha=0.001) # 99.9% CI"
   ]
  },
  {
   "cell_type": "markdown",
   "metadata": {},
   "source": [
    "Another useful quantity for hypothesis testing is p-value. In short, say we have a null-hypothesis that $q=0$. Based on the probability distribution for the coefficient $q$, the $p-value$ it measures the probability of getting a value which no more likely than $q=0$. If the p-value is below a certain threshold (usually $\\alpha=5\\%$) we reject the null-hypothesis at the level of confidence $1-\\alpha=95\\%$ as it would mean that $q=0$ is among $5\\%$ least likely values.\n",
    "\n",
    "It does not mean that $q=0$ is not the right value for sure (there is still $5\\%$ chance that this or even some less likely value is). It also does not mean that the regression estimate is the right value. It just means that values like $q=0$ are unlikely enough to not be reasonably anticipated. "
   ]
  },
  {
   "cell_type": "markdown",
   "metadata": {},
   "source": [
    "While typically the regression gives us p-value for the hypothesis $q=0$ in our case what we care about is $q=1$."
   ]
  },
  {
   "cell_type": "code",
   "execution_count": 29,
   "metadata": {},
   "outputs": [
    {
     "name": "stdout",
     "output_type": "stream",
     "text": [
      "                            OLS Regression Results                            \n",
      "==============================================================================\n",
      "Dep. Variable:     logIncomePerCapita   R-squared:                       0.169\n",
      "Model:                            OLS   Adj. R-squared:                  0.167\n",
      "Method:                 Least Squares   F-statistic:                     76.54\n",
      "Date:                Mon, 11 Dec 2023   Prob (F-statistic):           7.30e-17\n",
      "Time:                        18:07:01   Log-Likelihood:                 175.13\n",
      "No. Observations:                 379   AIC:                            -346.3\n",
      "Df Residuals:                     377   BIC:                            -338.4\n",
      "Df Model:                           1                                         \n",
      "Covariance Type:            nonrobust                                         \n",
      "==============================================================================\n",
      "                 coef    std err          t      P>|t|      [0.025      0.975]\n",
      "------------------------------------------------------------------------------\n",
      "Intercept      9.3549      0.092    101.819      0.000       9.174       9.536\n",
      "logPop         0.0633      0.007      8.749      0.000       0.049       0.078\n",
      "==============================================================================\n",
      "Omnibus:                       19.243   Durbin-Watson:                   1.792\n",
      "Prob(Omnibus):                  0.000   Jarque-Bera (JB):               53.781\n",
      "Skew:                           0.021   Prob(JB):                     2.10e-12\n",
      "Kurtosis:                       4.845   Cond. No.                         149.\n",
      "==============================================================================\n",
      "\n",
      "Notes:\n",
      "[1] Standard Errors assume that the covariance matrix of the errors is correctly specified.\n",
      "p-value=7.299920661343274e-17\n"
     ]
    }
   ],
   "source": [
    "#the regression estimate above gives p-value for the null-hypothesis q=0. As it is not the one we need, lets adjust the regression to get the right one\n",
    "dataLog['logIncomePerCapita']=dataLog['logIncome']-dataLog['logPop']\n",
    "lm2 = smf.ols('logIncomePerCapita~logPop', data=dataLog).fit()\n",
    "print(lm2.summary())\n",
    "print('p-value={}'.format(lm2.pvalues.logPop))"
   ]
  },
  {
   "cell_type": "markdown",
   "metadata": {},
   "source": [
    "### Q3. Find the top 5 cities overperforming and underperforming cities by income (by log-scale difference from the trend)\n",
    "\n",
    "Exponent of the log-scale residuals would show how many times does the city overperforming or underperforming in terms of income compared to the expected (predicted by the regresion) income for the city of that size "
   ]
  },
  {
   "cell_type": "code",
   "execution_count": 30,
   "metadata": {
    "tags": []
   },
   "outputs": [],
   "source": [
    "msaDemo['msaName'] = msaDemo.index.map(msaNames) #add city names to the "
   ]
  },
  {
   "cell_type": "code",
   "execution_count": 31,
   "metadata": {
    "tags": []
   },
   "outputs": [],
   "source": [
    "#compute the residuals\n",
    "msaDemo['IncomePerCapita'] = msaDemo['Income'] / msaDemo['Population']\n",
    "msaDemo['IncRes'] = dataLog['logIncome'] - lmIncome.predict()"
   ]
  },
  {
   "cell_type": "code",
   "execution_count": 32,
   "metadata": {
    "tags": []
   },
   "outputs": [
    {
     "data": {
      "text/html": [
       "<div>\n",
       "<style scoped>\n",
       "    .dataframe tbody tr th:only-of-type {\n",
       "        vertical-align: middle;\n",
       "    }\n",
       "\n",
       "    .dataframe tbody tr th {\n",
       "        vertical-align: top;\n",
       "    }\n",
       "\n",
       "    .dataframe thead th {\n",
       "        text-align: right;\n",
       "    }\n",
       "</style>\n",
       "<table border=\"1\" class=\"dataframe\">\n",
       "  <thead>\n",
       "    <tr style=\"text-align: right;\">\n",
       "      <th></th>\n",
       "      <th>Population</th>\n",
       "      <th>Area</th>\n",
       "      <th>Income</th>\n",
       "      <th>msaName</th>\n",
       "      <th>IncomePerCapita</th>\n",
       "      <th>IncRes</th>\n",
       "    </tr>\n",
       "    <tr>\n",
       "      <th>msa</th>\n",
       "      <th></th>\n",
       "      <th></th>\n",
       "      <th></th>\n",
       "      <th></th>\n",
       "      <th></th>\n",
       "      <th></th>\n",
       "    </tr>\n",
       "  </thead>\n",
       "  <tbody>\n",
       "    <tr>\n",
       "      <th>14860</th>\n",
       "      <td>934215</td>\n",
       "      <td>624.889555</td>\n",
       "      <td>46419274920</td>\n",
       "      <td>Bridgeport-Stamford-Norwalk, CT (Metropolitan ...</td>\n",
       "      <td>49688.0</td>\n",
       "      <td>0.587838</td>\n",
       "    </tr>\n",
       "    <tr>\n",
       "      <th>15680</th>\n",
       "      <td>108472</td>\n",
       "      <td>357.180046</td>\n",
       "      <td>3970292144</td>\n",
       "      <td>California-Lexington Park, MD (Metropolitan St...</td>\n",
       "      <td>36602.0</td>\n",
       "      <td>0.418566</td>\n",
       "    </tr>\n",
       "    <tr>\n",
       "      <th>14500</th>\n",
       "      <td>305166</td>\n",
       "      <td>726.289252</td>\n",
       "      <td>11756214984</td>\n",
       "      <td>Boulder, CO (Metropolitan Statistical Area)</td>\n",
       "      <td>38524.0</td>\n",
       "      <td>0.404226</td>\n",
       "    </tr>\n",
       "    <tr>\n",
       "      <th>12700</th>\n",
       "      <td>215167</td>\n",
       "      <td>393.723227</td>\n",
       "      <td>7953432988</td>\n",
       "      <td>Barnstable Town, MA (Metropolitan Statistical ...</td>\n",
       "      <td>36964.0</td>\n",
       "      <td>0.385023</td>\n",
       "    </tr>\n",
       "    <tr>\n",
       "      <th>45940</th>\n",
       "      <td>369526</td>\n",
       "      <td>224.557494</td>\n",
       "      <td>14070071976</td>\n",
       "      <td>Trenton, NJ (Metropolitan Statistical Area)</td>\n",
       "      <td>38076.0</td>\n",
       "      <td>0.380407</td>\n",
       "    </tr>\n",
       "  </tbody>\n",
       "</table>\n",
       "</div>"
      ],
      "text/plain": [
       "       Population        Area       Income  \\\n",
       "msa                                          \n",
       "14860      934215  624.889555  46419274920   \n",
       "15680      108472  357.180046   3970292144   \n",
       "14500      305166  726.289252  11756214984   \n",
       "12700      215167  393.723227   7953432988   \n",
       "45940      369526  224.557494  14070071976   \n",
       "\n",
       "                                                 msaName  IncomePerCapita  \\\n",
       "msa                                                                         \n",
       "14860  Bridgeport-Stamford-Norwalk, CT (Metropolitan ...          49688.0   \n",
       "15680  California-Lexington Park, MD (Metropolitan St...          36602.0   \n",
       "14500        Boulder, CO (Metropolitan Statistical Area)          38524.0   \n",
       "12700  Barnstable Town, MA (Metropolitan Statistical ...          36964.0   \n",
       "45940        Trenton, NJ (Metropolitan Statistical Area)          38076.0   \n",
       "\n",
       "         IncRes  \n",
       "msa              \n",
       "14860  0.587838  \n",
       "15680  0.418566  \n",
       "14500  0.404226  \n",
       "12700  0.385023  \n",
       "45940  0.380407  "
      ]
     },
     "execution_count": 32,
     "metadata": {},
     "output_type": "execute_result"
    }
   ],
   "source": [
    "msaDemo.sort_values(by='IncRes',ascending=False).head(5)"
   ]
  },
  {
   "cell_type": "code",
   "execution_count": 33,
   "metadata": {
    "tags": []
   },
   "outputs": [
    {
     "data": {
      "text/html": [
       "<div>\n",
       "<style scoped>\n",
       "    .dataframe tbody tr th:only-of-type {\n",
       "        vertical-align: middle;\n",
       "    }\n",
       "\n",
       "    .dataframe tbody tr th {\n",
       "        vertical-align: top;\n",
       "    }\n",
       "\n",
       "    .dataframe thead th {\n",
       "        text-align: right;\n",
       "    }\n",
       "</style>\n",
       "<table border=\"1\" class=\"dataframe\">\n",
       "  <thead>\n",
       "    <tr style=\"text-align: right;\">\n",
       "      <th></th>\n",
       "      <th>Population</th>\n",
       "      <th>Area</th>\n",
       "      <th>Income</th>\n",
       "      <th>msaName</th>\n",
       "      <th>IncomePerCapita</th>\n",
       "      <th>IncRes</th>\n",
       "    </tr>\n",
       "    <tr>\n",
       "      <th>msa</th>\n",
       "      <th></th>\n",
       "      <th></th>\n",
       "      <th></th>\n",
       "      <th></th>\n",
       "      <th></th>\n",
       "      <th></th>\n",
       "    </tr>\n",
       "  </thead>\n",
       "  <tbody>\n",
       "    <tr>\n",
       "      <th>32580</th>\n",
       "      <td>806447</td>\n",
       "      <td>1570.865088</td>\n",
       "      <td>11713642675</td>\n",
       "      <td>McAllen-Edinburg-Mission, TX (Metropolitan Sta...</td>\n",
       "      <td>14525.0</td>\n",
       "      <td>-0.632738</td>\n",
       "    </tr>\n",
       "    <tr>\n",
       "      <th>15180</th>\n",
       "      <td>415103</td>\n",
       "      <td>890.922380</td>\n",
       "      <td>6184204494</td>\n",
       "      <td>Brownsville-Harlingen, TX (Metropolitan Statis...</td>\n",
       "      <td>14898.0</td>\n",
       "      <td>-0.565317</td>\n",
       "    </tr>\n",
       "    <tr>\n",
       "      <th>29700</th>\n",
       "      <td>259471</td>\n",
       "      <td>3361.482188</td>\n",
       "      <td>3853663292</td>\n",
       "      <td>Laredo, TX (Metropolitan Statistical Area)</td>\n",
       "      <td>14852.0</td>\n",
       "      <td>-0.538646</td>\n",
       "    </tr>\n",
       "    <tr>\n",
       "      <th>20940</th>\n",
       "      <td>177026</td>\n",
       "      <td>4176.603407</td>\n",
       "      <td>2904819634</td>\n",
       "      <td>El Centro, CA (Metropolitan Statistical Area)</td>\n",
       "      <td>16409.0</td>\n",
       "      <td>-0.414732</td>\n",
       "    </tr>\n",
       "    <tr>\n",
       "      <th>47300</th>\n",
       "      <td>451108</td>\n",
       "      <td>4824.214846</td>\n",
       "      <td>8069419904</td>\n",
       "      <td>Visalia-Porterville, CA (Metropolitan Statisti...</td>\n",
       "      <td>17888.0</td>\n",
       "      <td>-0.387682</td>\n",
       "    </tr>\n",
       "  </tbody>\n",
       "</table>\n",
       "</div>"
      ],
      "text/plain": [
       "       Population         Area       Income  \\\n",
       "msa                                           \n",
       "32580      806447  1570.865088  11713642675   \n",
       "15180      415103   890.922380   6184204494   \n",
       "29700      259471  3361.482188   3853663292   \n",
       "20940      177026  4176.603407   2904819634   \n",
       "47300      451108  4824.214846   8069419904   \n",
       "\n",
       "                                                 msaName  IncomePerCapita  \\\n",
       "msa                                                                         \n",
       "32580  McAllen-Edinburg-Mission, TX (Metropolitan Sta...          14525.0   \n",
       "15180  Brownsville-Harlingen, TX (Metropolitan Statis...          14898.0   \n",
       "29700         Laredo, TX (Metropolitan Statistical Area)          14852.0   \n",
       "20940      El Centro, CA (Metropolitan Statistical Area)          16409.0   \n",
       "47300  Visalia-Porterville, CA (Metropolitan Statisti...          17888.0   \n",
       "\n",
       "         IncRes  \n",
       "msa              \n",
       "32580 -0.632738  \n",
       "15180 -0.565317  \n",
       "29700 -0.538646  \n",
       "20940 -0.414732  \n",
       "47300 -0.387682  "
      ]
     },
     "execution_count": 33,
     "metadata": {},
     "output_type": "execute_result"
    }
   ],
   "source": [
    "msaDemo.sort_values(by='IncRes',ascending=True).head(5)"
   ]
  },
  {
   "cell_type": "markdown",
   "metadata": {},
   "source": [
    "## Homework\n",
    "\n",
    "### task 1. Establish a scaling relationship $Y\\sim C X^q$ between total crime vs population \n",
    "(by running log-scale regression filtering out the data points with Crime=0 if any). Visualize on the log scale. Does $q=1$ fall into the 95% confidence interval? What about 99% CI?"
   ]
  },
  {
   "cell_type": "code",
   "execution_count": 34,
   "metadata": {
    "tags": []
   },
   "outputs": [],
   "source": [
    "#first load the data and perform some cleaning\n",
    "crime2014 = pd.read_csv('R11460954_SL050.csv', encoding = \"ISO-8859-1\", engine='python') #Load crime data"
   ]
  },
  {
   "cell_type": "code",
   "execution_count": 35,
   "metadata": {
    "tags": []
   },
   "outputs": [],
   "source": [
    "#rename some columns\n",
    "crime2014.rename(columns = { u'SE_T001_001' : 'Population',\\\n",
    "                          u'SE_T002_001' : 'Crimes',\\\n",
    "                          u'SE_T002_002' : 'Violent Crimes', \\\n",
    "                          u'SE_T002_003' : 'Property Crimes' }, inplace=True)\n",
    "\n",
    "crime2014 = crime2014[[u'Geo_FIPS', u'Geo_NAME', u'Geo_STATE', u'Geo_COUNTY', 'Population', 'Crimes', 'Violent Crimes', 'Property Crimes']].copy()"
   ]
  },
  {
   "cell_type": "code",
   "execution_count": 36,
   "metadata": {
    "tags": []
   },
   "outputs": [
    {
     "data": {
      "text/html": [
       "<div>\n",
       "<style scoped>\n",
       "    .dataframe tbody tr th:only-of-type {\n",
       "        vertical-align: middle;\n",
       "    }\n",
       "\n",
       "    .dataframe tbody tr th {\n",
       "        vertical-align: top;\n",
       "    }\n",
       "\n",
       "    .dataframe thead th {\n",
       "        text-align: right;\n",
       "    }\n",
       "</style>\n",
       "<table border=\"1\" class=\"dataframe\">\n",
       "  <thead>\n",
       "    <tr style=\"text-align: right;\">\n",
       "      <th></th>\n",
       "      <th>Geo_FIPS</th>\n",
       "      <th>Geo_NAME</th>\n",
       "      <th>Geo_STATE</th>\n",
       "      <th>Geo_COUNTY</th>\n",
       "      <th>Population</th>\n",
       "      <th>Crimes</th>\n",
       "      <th>Violent Crimes</th>\n",
       "      <th>Property Crimes</th>\n",
       "    </tr>\n",
       "  </thead>\n",
       "  <tbody>\n",
       "    <tr>\n",
       "      <th>0</th>\n",
       "      <td>01001</td>\n",
       "      <td>Autauga County</td>\n",
       "      <td>1</td>\n",
       "      <td>001</td>\n",
       "      <td>55395.0</td>\n",
       "      <td>482</td>\n",
       "      <td>68</td>\n",
       "      <td>414</td>\n",
       "    </tr>\n",
       "    <tr>\n",
       "      <th>1</th>\n",
       "      <td>01003</td>\n",
       "      <td>Baldwin County</td>\n",
       "      <td>1</td>\n",
       "      <td>003</td>\n",
       "      <td>200111.0</td>\n",
       "      <td>760</td>\n",
       "      <td>98</td>\n",
       "      <td>662</td>\n",
       "    </tr>\n",
       "    <tr>\n",
       "      <th>2</th>\n",
       "      <td>01005</td>\n",
       "      <td>Barbour County</td>\n",
       "      <td>1</td>\n",
       "      <td>005</td>\n",
       "      <td>26887.0</td>\n",
       "      <td>145</td>\n",
       "      <td>17</td>\n",
       "      <td>128</td>\n",
       "    </tr>\n",
       "    <tr>\n",
       "      <th>3</th>\n",
       "      <td>01007</td>\n",
       "      <td>Bibb County</td>\n",
       "      <td>1</td>\n",
       "      <td>007</td>\n",
       "      <td>22506.0</td>\n",
       "      <td>86</td>\n",
       "      <td>4</td>\n",
       "      <td>82</td>\n",
       "    </tr>\n",
       "    <tr>\n",
       "      <th>4</th>\n",
       "      <td>01009</td>\n",
       "      <td>Blount County</td>\n",
       "      <td>1</td>\n",
       "      <td>009</td>\n",
       "      <td>57719.0</td>\n",
       "      <td>1013</td>\n",
       "      <td>90</td>\n",
       "      <td>923</td>\n",
       "    </tr>\n",
       "  </tbody>\n",
       "</table>\n",
       "</div>"
      ],
      "text/plain": [
       "  Geo_FIPS        Geo_NAME  Geo_STATE Geo_COUNTY  Population  Crimes  \\\n",
       "0    01001  Autauga County          1        001     55395.0     482   \n",
       "1    01003  Baldwin County          1        003    200111.0     760   \n",
       "2    01005  Barbour County          1        005     26887.0     145   \n",
       "3    01007     Bibb County          1        007     22506.0      86   \n",
       "4    01009   Blount County          1        009     57719.0    1013   \n",
       "\n",
       "   Violent Crimes  Property Crimes  \n",
       "0              68              414  \n",
       "1              98              662  \n",
       "2              17              128  \n",
       "3               4               82  \n",
       "4              90              923  "
      ]
     },
     "execution_count": 36,
     "metadata": {},
     "output_type": "execute_result"
    }
   ],
   "source": [
    "crime2014.head()"
   ]
  },
  {
   "cell_type": "code",
   "execution_count": 37,
   "metadata": {
    "tags": []
   },
   "outputs": [
    {
     "data": {
      "text/plain": [
       "250424654.0"
      ]
     },
     "execution_count": 37,
     "metadata": {},
     "output_type": "execute_result"
    }
   ],
   "source": [
    "sum(crime2014.Population)"
   ]
  },
  {
   "cell_type": "code",
   "execution_count": 38,
   "metadata": {
    "tags": []
   },
   "outputs": [
    {
     "data": {
      "text/html": [
       "<div>\n",
       "<style scoped>\n",
       "    .dataframe tbody tr th:only-of-type {\n",
       "        vertical-align: middle;\n",
       "    }\n",
       "\n",
       "    .dataframe tbody tr th {\n",
       "        vertical-align: top;\n",
       "    }\n",
       "\n",
       "    .dataframe thead th {\n",
       "        text-align: right;\n",
       "    }\n",
       "</style>\n",
       "<table border=\"1\" class=\"dataframe\">\n",
       "  <thead>\n",
       "    <tr style=\"text-align: right;\">\n",
       "      <th></th>\n",
       "      <th>Geo_FIPS_x</th>\n",
       "      <th>Geo_NAME</th>\n",
       "      <th>Geo_STATE</th>\n",
       "      <th>Geo_COUNTY</th>\n",
       "      <th>Population</th>\n",
       "      <th>Crimes</th>\n",
       "      <th>Violent Crimes</th>\n",
       "      <th>Property Crimes</th>\n",
       "      <th>ID</th>\n",
       "      <th>msa</th>\n",
       "      <th>msa_name</th>\n",
       "      <th>Geo_FIPS_y</th>\n",
       "      <th>county</th>\n",
       "    </tr>\n",
       "  </thead>\n",
       "  <tbody>\n",
       "    <tr>\n",
       "      <th>0</th>\n",
       "      <td>01001</td>\n",
       "      <td>Autauga County</td>\n",
       "      <td>1</td>\n",
       "      <td>001</td>\n",
       "      <td>55395.0</td>\n",
       "      <td>482</td>\n",
       "      <td>68</td>\n",
       "      <td>414</td>\n",
       "      <td>1001.0</td>\n",
       "      <td>33860</td>\n",
       "      <td>Montgomery, AL (Metropolitan Statistical Area)</td>\n",
       "      <td>1001</td>\n",
       "      <td>Autauga, AL</td>\n",
       "    </tr>\n",
       "    <tr>\n",
       "      <th>1</th>\n",
       "      <td>01003</td>\n",
       "      <td>Baldwin County</td>\n",
       "      <td>1</td>\n",
       "      <td>003</td>\n",
       "      <td>200111.0</td>\n",
       "      <td>760</td>\n",
       "      <td>98</td>\n",
       "      <td>662</td>\n",
       "      <td>1003.0</td>\n",
       "      <td>19300</td>\n",
       "      <td>Daphne-Fairhope-Foley, AL (Metropolitan Statis...</td>\n",
       "      <td>1003</td>\n",
       "      <td>Baldwin, AL</td>\n",
       "    </tr>\n",
       "    <tr>\n",
       "      <th>2</th>\n",
       "      <td>01007</td>\n",
       "      <td>Bibb County</td>\n",
       "      <td>1</td>\n",
       "      <td>007</td>\n",
       "      <td>22506.0</td>\n",
       "      <td>86</td>\n",
       "      <td>4</td>\n",
       "      <td>82</td>\n",
       "      <td>1007.0</td>\n",
       "      <td>13820</td>\n",
       "      <td>Birmingham-Hoover, AL (Metropolitan Statistica...</td>\n",
       "      <td>1007</td>\n",
       "      <td>Bibb, AL</td>\n",
       "    </tr>\n",
       "    <tr>\n",
       "      <th>3</th>\n",
       "      <td>01009</td>\n",
       "      <td>Blount County</td>\n",
       "      <td>1</td>\n",
       "      <td>009</td>\n",
       "      <td>57719.0</td>\n",
       "      <td>1013</td>\n",
       "      <td>90</td>\n",
       "      <td>923</td>\n",
       "      <td>1009.0</td>\n",
       "      <td>13820</td>\n",
       "      <td>Birmingham-Hoover, AL (Metropolitan Statistica...</td>\n",
       "      <td>1009</td>\n",
       "      <td>Blount, AL</td>\n",
       "    </tr>\n",
       "    <tr>\n",
       "      <th>4</th>\n",
       "      <td>01015</td>\n",
       "      <td>Calhoun County</td>\n",
       "      <td>1</td>\n",
       "      <td>015</td>\n",
       "      <td>115916.0</td>\n",
       "      <td>486</td>\n",
       "      <td>15</td>\n",
       "      <td>471</td>\n",
       "      <td>1015.0</td>\n",
       "      <td>11500</td>\n",
       "      <td>Anniston-Oxford-Jacksonville, AL (Metropolitan...</td>\n",
       "      <td>1015</td>\n",
       "      <td>Calhoun, AL</td>\n",
       "    </tr>\n",
       "  </tbody>\n",
       "</table>\n",
       "</div>"
      ],
      "text/plain": [
       "  Geo_FIPS_x        Geo_NAME  Geo_STATE Geo_COUNTY  Population  Crimes  \\\n",
       "0      01001  Autauga County          1        001     55395.0     482   \n",
       "1      01003  Baldwin County          1        003    200111.0     760   \n",
       "2      01007     Bibb County          1        007     22506.0      86   \n",
       "3      01009   Blount County          1        009     57719.0    1013   \n",
       "4      01015  Calhoun County          1        015    115916.0     486   \n",
       "\n",
       "   Violent Crimes  Property Crimes      ID    msa  \\\n",
       "0              68              414  1001.0  33860   \n",
       "1              98              662  1003.0  19300   \n",
       "2               4               82  1007.0  13820   \n",
       "3              90              923  1009.0  13820   \n",
       "4              15              471  1015.0  11500   \n",
       "\n",
       "                                            msa_name  Geo_FIPS_y       county  \n",
       "0     Montgomery, AL (Metropolitan Statistical Area)        1001  Autauga, AL  \n",
       "1  Daphne-Fairhope-Foley, AL (Metropolitan Statis...        1003  Baldwin, AL  \n",
       "2  Birmingham-Hoover, AL (Metropolitan Statistica...        1007     Bibb, AL  \n",
       "3  Birmingham-Hoover, AL (Metropolitan Statistica...        1009   Blount, AL  \n",
       "4  Anniston-Oxford-Jacksonville, AL (Metropolitan...        1015  Calhoun, AL  "
      ]
     },
     "execution_count": 38,
     "metadata": {},
     "output_type": "execute_result"
    }
   ],
   "source": [
    "#convert some location identifiers from string to numeric\n",
    "def num(s):\n",
    "    try:\n",
    "        return int(s)\n",
    "    except ValueError:\n",
    "        0\n",
    "\n",
    "crime2014['ID'] = crime2014.Geo_FIPS.apply(num)\n",
    "\n",
    "crimemsa = pd.merge(crime2014, msa, on='ID', how='inner')\n",
    "crimemsa.head()"
   ]
  },
  {
   "cell_type": "code",
   "execution_count": 39,
   "metadata": {
    "tags": []
   },
   "outputs": [],
   "source": [
    "#create a dataframe with the population and total violent and property crime per each MSA\n",
    "msaCrime = crimemsa.groupby(by='msa').sum().loc[:,[u'Population','Crimes', u'Violent Crimes', u'Property Crimes']]"
   ]
  },
  {
   "cell_type": "code",
   "execution_count": 40,
   "metadata": {
    "tags": []
   },
   "outputs": [
    {
     "data": {
      "text/html": [
       "<div>\n",
       "<style scoped>\n",
       "    .dataframe tbody tr th:only-of-type {\n",
       "        vertical-align: middle;\n",
       "    }\n",
       "\n",
       "    .dataframe tbody tr th {\n",
       "        vertical-align: top;\n",
       "    }\n",
       "\n",
       "    .dataframe thead th {\n",
       "        text-align: right;\n",
       "    }\n",
       "</style>\n",
       "<table border=\"1\" class=\"dataframe\">\n",
       "  <thead>\n",
       "    <tr style=\"text-align: right;\">\n",
       "      <th></th>\n",
       "      <th>Population</th>\n",
       "      <th>Crimes</th>\n",
       "      <th>Violent Crimes</th>\n",
       "      <th>Property Crimes</th>\n",
       "      <th>msaName</th>\n",
       "    </tr>\n",
       "    <tr>\n",
       "      <th>msa</th>\n",
       "      <th></th>\n",
       "      <th></th>\n",
       "      <th></th>\n",
       "      <th></th>\n",
       "      <th></th>\n",
       "    </tr>\n",
       "  </thead>\n",
       "  <tbody>\n",
       "    <tr>\n",
       "      <th>10180</th>\n",
       "      <td>168592.0</td>\n",
       "      <td>492</td>\n",
       "      <td>62</td>\n",
       "      <td>430</td>\n",
       "      <td>Abilene, TX (Metropolitan Statistical Area)</td>\n",
       "    </tr>\n",
       "    <tr>\n",
       "      <th>10420</th>\n",
       "      <td>703825.0</td>\n",
       "      <td>2397</td>\n",
       "      <td>106</td>\n",
       "      <td>2291</td>\n",
       "      <td>Akron, OH (Metropolitan Statistical Area)</td>\n",
       "    </tr>\n",
       "    <tr>\n",
       "      <th>10500</th>\n",
       "      <td>151670.0</td>\n",
       "      <td>1364</td>\n",
       "      <td>107</td>\n",
       "      <td>1257</td>\n",
       "      <td>Albany, GA (Metropolitan Statistical Area)</td>\n",
       "    </tr>\n",
       "    <tr>\n",
       "      <th>10540</th>\n",
       "      <td>119356.0</td>\n",
       "      <td>1092</td>\n",
       "      <td>23</td>\n",
       "      <td>1069</td>\n",
       "      <td>Albany, OR (Metropolitan Statistical Area)</td>\n",
       "    </tr>\n",
       "    <tr>\n",
       "      <th>10580</th>\n",
       "      <td>880167.0</td>\n",
       "      <td>1590</td>\n",
       "      <td>91</td>\n",
       "      <td>1499</td>\n",
       "      <td>Albany-Schenectady-Troy, NY (Metropolitan Stat...</td>\n",
       "    </tr>\n",
       "  </tbody>\n",
       "</table>\n",
       "</div>"
      ],
      "text/plain": [
       "       Population  Crimes  Violent Crimes  Property Crimes  \\\n",
       "msa                                                          \n",
       "10180    168592.0     492              62              430   \n",
       "10420    703825.0    2397             106             2291   \n",
       "10500    151670.0    1364             107             1257   \n",
       "10540    119356.0    1092              23             1069   \n",
       "10580    880167.0    1590              91             1499   \n",
       "\n",
       "                                                 msaName  \n",
       "msa                                                       \n",
       "10180        Abilene, TX (Metropolitan Statistical Area)  \n",
       "10420          Akron, OH (Metropolitan Statistical Area)  \n",
       "10500         Albany, GA (Metropolitan Statistical Area)  \n",
       "10540         Albany, OR (Metropolitan Statistical Area)  \n",
       "10580  Albany-Schenectady-Troy, NY (Metropolitan Stat...  "
      ]
     },
     "execution_count": 40,
     "metadata": {},
     "output_type": "execute_result"
    }
   ],
   "source": [
    "# add the city names frist\n",
    "msaCrime['msaName'] = msaCrime.index.map(msaNames)\n",
    "msaCrime.head()"
   ]
  },
  {
   "cell_type": "code",
   "execution_count": 41,
   "metadata": {
    "tags": []
   },
   "outputs": [
    {
     "data": {
      "text/plain": [
       "True"
      ]
     },
     "execution_count": 41,
     "metadata": {},
     "output_type": "execute_result"
    }
   ],
   "source": [
    "#filtering out the data points with Crime=0\n",
    "Crimes_zero =(msaCrime['Crimes'] == 0).any()\n",
    "Crimes_zero"
   ]
  },
  {
   "cell_type": "code",
   "execution_count": 42,
   "metadata": {
    "tags": []
   },
   "outputs": [],
   "source": [
    "#drop the data points with Crime=0\n",
    "msaCrime_without_0 = msaCrime[msaCrime['Crimes'] != 0]"
   ]
  },
  {
   "cell_type": "code",
   "execution_count": 43,
   "metadata": {
    "tags": []
   },
   "outputs": [
    {
     "data": {
      "text/plain": [
       "False"
      ]
     },
     "execution_count": 43,
     "metadata": {},
     "output_type": "execute_result"
    }
   ],
   "source": [
    "# check if filter out all the data points with Crime=0\n",
    "Crimes_zero1 =(msaCrime_without_0['Crimes'] == 0).any()\n",
    "Crimes_zero1"
   ]
  },
  {
   "cell_type": "code",
   "execution_count": 44,
   "metadata": {
    "tags": []
   },
   "outputs": [
    {
     "data": {
      "text/html": [
       "<div>\n",
       "<style scoped>\n",
       "    .dataframe tbody tr th:only-of-type {\n",
       "        vertical-align: middle;\n",
       "    }\n",
       "\n",
       "    .dataframe tbody tr th {\n",
       "        vertical-align: top;\n",
       "    }\n",
       "\n",
       "    .dataframe thead th {\n",
       "        text-align: right;\n",
       "    }\n",
       "</style>\n",
       "<table border=\"1\" class=\"dataframe\">\n",
       "  <thead>\n",
       "    <tr style=\"text-align: right;\">\n",
       "      <th></th>\n",
       "      <th>logCrimes</th>\n",
       "      <th>logPopulation</th>\n",
       "    </tr>\n",
       "    <tr>\n",
       "      <th>msa</th>\n",
       "      <th></th>\n",
       "      <th></th>\n",
       "    </tr>\n",
       "  </thead>\n",
       "  <tbody>\n",
       "    <tr>\n",
       "      <th>10180</th>\n",
       "      <td>6.198479</td>\n",
       "      <td>12.035237</td>\n",
       "    </tr>\n",
       "    <tr>\n",
       "      <th>10420</th>\n",
       "      <td>7.781973</td>\n",
       "      <td>13.464285</td>\n",
       "    </tr>\n",
       "    <tr>\n",
       "      <th>10500</th>\n",
       "      <td>7.218177</td>\n",
       "      <td>11.929462</td>\n",
       "    </tr>\n",
       "    <tr>\n",
       "      <th>10540</th>\n",
       "      <td>6.995766</td>\n",
       "      <td>11.689866</td>\n",
       "    </tr>\n",
       "    <tr>\n",
       "      <th>10580</th>\n",
       "      <td>7.371489</td>\n",
       "      <td>13.687867</td>\n",
       "    </tr>\n",
       "  </tbody>\n",
       "</table>\n",
       "</div>"
      ],
      "text/plain": [
       "       logCrimes  logPopulation\n",
       "msa                            \n",
       "10180   6.198479      12.035237\n",
       "10420   7.781973      13.464285\n",
       "10500   7.218177      11.929462\n",
       "10540   6.995766      11.689866\n",
       "10580   7.371489      13.687867"
      ]
     },
     "execution_count": 44,
     "metadata": {},
     "output_type": "execute_result"
    }
   ],
   "source": [
    "# Running log-scale regression\n",
    "logPopulation = np.log(msaCrime_without_0['Population'])\n",
    "logCrimes = np.log(msaCrime_without_0['Crimes'])\n",
    "dataLog_Q1 = pd.DataFrame({'logCrimes':logCrimes, 'logPopulation':logPopulation})\n",
    "dataLog_Q1.head()"
   ]
  },
  {
   "cell_type": "code",
   "execution_count": 45,
   "metadata": {
    "tags": []
   },
   "outputs": [
    {
     "data": {
      "text/html": [
       "<table class=\"simpletable\">\n",
       "<caption>OLS Regression Results</caption>\n",
       "<tr>\n",
       "  <th>Dep. Variable:</th>        <td>logCrimes</td>    <th>  R-squared:         </th> <td>   0.351</td>\n",
       "</tr>\n",
       "<tr>\n",
       "  <th>Model:</th>                   <td>OLS</td>       <th>  Adj. R-squared:    </th> <td>   0.350</td>\n",
       "</tr>\n",
       "<tr>\n",
       "  <th>Method:</th>             <td>Least Squares</td>  <th>  F-statistic:       </th> <td>   181.6</td>\n",
       "</tr>\n",
       "<tr>\n",
       "  <th>Date:</th>             <td>Mon, 11 Dec 2023</td> <th>  Prob (F-statistic):</th> <td>2.29e-33</td>\n",
       "</tr>\n",
       "<tr>\n",
       "  <th>Time:</th>                 <td>18:07:01</td>     <th>  Log-Likelihood:    </th> <td> -542.10</td>\n",
       "</tr>\n",
       "<tr>\n",
       "  <th>No. Observations:</th>      <td>   337</td>      <th>  AIC:               </th> <td>   1088.</td>\n",
       "</tr>\n",
       "<tr>\n",
       "  <th>Df Residuals:</th>          <td>   335</td>      <th>  BIC:               </th> <td>   1096.</td>\n",
       "</tr>\n",
       "<tr>\n",
       "  <th>Df Model:</th>              <td>     1</td>      <th>                     </th>     <td> </td>   \n",
       "</tr>\n",
       "<tr>\n",
       "  <th>Covariance Type:</th>      <td>nonrobust</td>    <th>                     </th>     <td> </td>   \n",
       "</tr>\n",
       "</table>\n",
       "<table class=\"simpletable\">\n",
       "<tr>\n",
       "        <td></td>           <th>coef</th>     <th>std err</th>      <th>t</th>      <th>P>|t|</th>  <th>[0.025</th>    <th>0.975]</th>  \n",
       "</tr>\n",
       "<tr>\n",
       "  <th>Intercept</th>     <td>   -3.1676</td> <td>    0.768</td> <td>   -4.127</td> <td> 0.000</td> <td>   -4.677</td> <td>   -1.658</td>\n",
       "</tr>\n",
       "<tr>\n",
       "  <th>logPopulation</th> <td>    0.8218</td> <td>    0.061</td> <td>   13.475</td> <td> 0.000</td> <td>    0.702</td> <td>    0.942</td>\n",
       "</tr>\n",
       "</table>\n",
       "<table class=\"simpletable\">\n",
       "<tr>\n",
       "  <th>Omnibus:</th>       <td>224.360</td> <th>  Durbin-Watson:     </th> <td>   1.798</td>\n",
       "</tr>\n",
       "<tr>\n",
       "  <th>Prob(Omnibus):</th> <td> 0.000</td>  <th>  Jarque-Bera (JB):  </th> <td>2291.504</td>\n",
       "</tr>\n",
       "<tr>\n",
       "  <th>Skew:</th>          <td>-2.697</td>  <th>  Prob(JB):          </th> <td>    0.00</td>\n",
       "</tr>\n",
       "<tr>\n",
       "  <th>Kurtosis:</th>      <td>14.580</td>  <th>  Cond. No.          </th> <td>    147.</td>\n",
       "</tr>\n",
       "</table><br/><br/>Notes:<br/>[1] Standard Errors assume that the covariance matrix of the errors is correctly specified."
      ],
      "text/latex": [
       "\\begin{center}\n",
       "\\begin{tabular}{lclc}\n",
       "\\toprule\n",
       "\\textbf{Dep. Variable:}    &    logCrimes     & \\textbf{  R-squared:         } &     0.351   \\\\\n",
       "\\textbf{Model:}            &       OLS        & \\textbf{  Adj. R-squared:    } &     0.350   \\\\\n",
       "\\textbf{Method:}           &  Least Squares   & \\textbf{  F-statistic:       } &     181.6   \\\\\n",
       "\\textbf{Date:}             & Mon, 11 Dec 2023 & \\textbf{  Prob (F-statistic):} &  2.29e-33   \\\\\n",
       "\\textbf{Time:}             &     18:07:01     & \\textbf{  Log-Likelihood:    } &   -542.10   \\\\\n",
       "\\textbf{No. Observations:} &         337      & \\textbf{  AIC:               } &     1088.   \\\\\n",
       "\\textbf{Df Residuals:}     &         335      & \\textbf{  BIC:               } &     1096.   \\\\\n",
       "\\textbf{Df Model:}         &           1      & \\textbf{                     } &             \\\\\n",
       "\\textbf{Covariance Type:}  &    nonrobust     & \\textbf{                     } &             \\\\\n",
       "\\bottomrule\n",
       "\\end{tabular}\n",
       "\\begin{tabular}{lcccccc}\n",
       "                       & \\textbf{coef} & \\textbf{std err} & \\textbf{t} & \\textbf{P$> |$t$|$} & \\textbf{[0.025} & \\textbf{0.975]}  \\\\\n",
       "\\midrule\n",
       "\\textbf{Intercept}     &      -3.1676  &        0.768     &    -4.127  &         0.000        &       -4.677    &       -1.658     \\\\\n",
       "\\textbf{logPopulation} &       0.8218  &        0.061     &    13.475  &         0.000        &        0.702    &        0.942     \\\\\n",
       "\\bottomrule\n",
       "\\end{tabular}\n",
       "\\begin{tabular}{lclc}\n",
       "\\textbf{Omnibus:}       & 224.360 & \\textbf{  Durbin-Watson:     } &    1.798  \\\\\n",
       "\\textbf{Prob(Omnibus):} &   0.000 & \\textbf{  Jarque-Bera (JB):  } & 2291.504  \\\\\n",
       "\\textbf{Skew:}          &  -2.697 & \\textbf{  Prob(JB):          } &     0.00  \\\\\n",
       "\\textbf{Kurtosis:}      &  14.580 & \\textbf{  Cond. No.          } &     147.  \\\\\n",
       "\\bottomrule\n",
       "\\end{tabular}\n",
       "%\\caption{OLS Regression Results}\n",
       "\\end{center}\n",
       "\n",
       "Notes: \\newline\n",
       " [1] Standard Errors assume that the covariance matrix of the errors is correctly specified."
      ],
      "text/plain": [
       "<class 'statsmodels.iolib.summary.Summary'>\n",
       "\"\"\"\n",
       "                            OLS Regression Results                            \n",
       "==============================================================================\n",
       "Dep. Variable:              logCrimes   R-squared:                       0.351\n",
       "Model:                            OLS   Adj. R-squared:                  0.350\n",
       "Method:                 Least Squares   F-statistic:                     181.6\n",
       "Date:                Mon, 11 Dec 2023   Prob (F-statistic):           2.29e-33\n",
       "Time:                        18:07:01   Log-Likelihood:                -542.10\n",
       "No. Observations:                 337   AIC:                             1088.\n",
       "Df Residuals:                     335   BIC:                             1096.\n",
       "Df Model:                           1                                         \n",
       "Covariance Type:            nonrobust                                         \n",
       "=================================================================================\n",
       "                    coef    std err          t      P>|t|      [0.025      0.975]\n",
       "---------------------------------------------------------------------------------\n",
       "Intercept        -3.1676      0.768     -4.127      0.000      -4.677      -1.658\n",
       "logPopulation     0.8218      0.061     13.475      0.000       0.702       0.942\n",
       "==============================================================================\n",
       "Omnibus:                      224.360   Durbin-Watson:                   1.798\n",
       "Prob(Omnibus):                  0.000   Jarque-Bera (JB):             2291.504\n",
       "Skew:                          -2.697   Prob(JB):                         0.00\n",
       "Kurtosis:                      14.580   Cond. No.                         147.\n",
       "==============================================================================\n",
       "\n",
       "Notes:\n",
       "[1] Standard Errors assume that the covariance matrix of the errors is correctly specified.\n",
       "\"\"\""
      ]
     },
     "execution_count": 45,
     "metadata": {},
     "output_type": "execute_result"
    }
   ],
   "source": [
    "#Performing OLS regression\n",
    "lmCrimes = smf.ols('logCrimes~logPopulation', data=dataLog_Q1).fit()\n",
    "lmCrimes.summary()"
   ]
  },
  {
   "cell_type": "code",
   "execution_count": 46,
   "metadata": {
    "tags": []
   },
   "outputs": [
    {
     "name": "stderr",
     "output_type": "stream",
     "text": [
      "No artists with labels found to put in legend.  Note that artists whose label start with an underscore are ignored when legend() is called with no argument.\n"
     ]
    },
    {
     "data": {
      "text/plain": [
       "<matplotlib.legend.Legend at 0x1d6adeb8e10>"
      ]
     },
     "execution_count": 46,
     "metadata": {},
     "output_type": "execute_result"
    },
    {
     "data": {
      "image/png": "[encoded data removed]",
      "text/plain": [
       "<Figure size 1400x800 with 1 Axes>"
      ]
     },
     "metadata": {},
     "output_type": "display_data"
    }
   ],
   "source": [
    "# Visualize on the log scale\n",
    "plt.figure(figsize=(14,8))\n",
    "plt.plot(dataLog_Q1['logPopulation'], dataLog_Q1['logCrimes'], 'o')\n",
    "plt.title('Scaling_relationship_between_Crimes_VS_population', fontsize = 15)\n",
    "plt.xlabel('log(Population)')\n",
    "plt.ylabel('log(Crimes)')\n",
    "plt.plot(dataLog_Q1['logPopulation'], lmCrimes.predict(), '-r')\n",
    "plt.legend()"
   ]
  },
  {
   "cell_type": "code",
   "execution_count": 47,
   "metadata": {
    "tags": []
   },
   "outputs": [
    {
     "data": {
      "text/html": [
       "<div>\n",
       "<style scoped>\n",
       "    .dataframe tbody tr th:only-of-type {\n",
       "        vertical-align: middle;\n",
       "    }\n",
       "\n",
       "    .dataframe tbody tr th {\n",
       "        vertical-align: top;\n",
       "    }\n",
       "\n",
       "    .dataframe thead th {\n",
       "        text-align: right;\n",
       "    }\n",
       "</style>\n",
       "<table border=\"1\" class=\"dataframe\">\n",
       "  <thead>\n",
       "    <tr style=\"text-align: right;\">\n",
       "      <th></th>\n",
       "      <th>0</th>\n",
       "      <th>1</th>\n",
       "    </tr>\n",
       "  </thead>\n",
       "  <tbody>\n",
       "    <tr>\n",
       "      <th>Intercept</th>\n",
       "      <td>-4.677330</td>\n",
       "      <td>-1.657776</td>\n",
       "    </tr>\n",
       "    <tr>\n",
       "      <th>logPopulation</th>\n",
       "      <td>0.701814</td>\n",
       "      <td>0.941740</td>\n",
       "    </tr>\n",
       "  </tbody>\n",
       "</table>\n",
       "</div>"
      ],
      "text/plain": [
       "                      0         1\n",
       "Intercept     -4.677330 -1.657776\n",
       "logPopulation  0.701814  0.941740"
      ]
     },
     "execution_count": 47,
     "metadata": {},
     "output_type": "execute_result"
    }
   ],
   "source": [
    "# Does  𝑞=1  fall into the 95% confidence interval? What about 99% CI?\n",
    "lmCrimes.conf_int(alpha=0.05) # 95% CI"
   ]
  },
  {
   "cell_type": "code",
   "execution_count": 48,
   "metadata": {
    "tags": []
   },
   "outputs": [
    {
     "data": {
      "text/html": [
       "<div>\n",
       "<style scoped>\n",
       "    .dataframe tbody tr th:only-of-type {\n",
       "        vertical-align: middle;\n",
       "    }\n",
       "\n",
       "    .dataframe tbody tr th {\n",
       "        vertical-align: top;\n",
       "    }\n",
       "\n",
       "    .dataframe thead th {\n",
       "        text-align: right;\n",
       "    }\n",
       "</style>\n",
       "<table border=\"1\" class=\"dataframe\">\n",
       "  <thead>\n",
       "    <tr style=\"text-align: right;\">\n",
       "      <th></th>\n",
       "      <th>0</th>\n",
       "      <th>1</th>\n",
       "    </tr>\n",
       "  </thead>\n",
       "  <tbody>\n",
       "    <tr>\n",
       "      <th>Intercept</th>\n",
       "      <td>-5.155893</td>\n",
       "      <td>-1.179213</td>\n",
       "    </tr>\n",
       "    <tr>\n",
       "      <th>logPopulation</th>\n",
       "      <td>0.663789</td>\n",
       "      <td>0.979765</td>\n",
       "    </tr>\n",
       "  </tbody>\n",
       "</table>\n",
       "</div>"
      ],
      "text/plain": [
       "                      0         1\n",
       "Intercept     -5.155893 -1.179213\n",
       "logPopulation  0.663789  0.979765"
      ]
     },
     "execution_count": 48,
     "metadata": {},
     "output_type": "execute_result"
    }
   ],
   "source": [
    "lmCrimes.conf_int(alpha=0.01) # 95% CI"
   ]
  },
  {
   "cell_type": "markdown",
   "metadata": {
    "tags": []
   },
   "source": [
    "##### From above results, we cna know that q=1 doesn't fall into the 95% confidence interval and 99% CI. "
   ]
  },
  {
   "cell_type": "markdown",
   "metadata": {},
   "source": [
    "### task 2. Find top 5 and last 5 cities by crime log-residual \n",
    "(difference between log-crime and above regression prediction)"
   ]
  },
  {
   "cell_type": "code",
   "execution_count": 49,
   "metadata": {
    "tags": []
   },
   "outputs": [
    {
     "data": {
      "text/html": [
       "<div>\n",
       "<style scoped>\n",
       "    .dataframe tbody tr th:only-of-type {\n",
       "        vertical-align: middle;\n",
       "    }\n",
       "\n",
       "    .dataframe tbody tr th {\n",
       "        vertical-align: top;\n",
       "    }\n",
       "\n",
       "    .dataframe thead th {\n",
       "        text-align: right;\n",
       "    }\n",
       "</style>\n",
       "<table border=\"1\" class=\"dataframe\">\n",
       "  <thead>\n",
       "    <tr style=\"text-align: right;\">\n",
       "      <th></th>\n",
       "      <th>Population</th>\n",
       "      <th>Crimes</th>\n",
       "      <th>Violent Crimes</th>\n",
       "      <th>Property Crimes</th>\n",
       "      <th>msaName</th>\n",
       "    </tr>\n",
       "    <tr>\n",
       "      <th>msa</th>\n",
       "      <th></th>\n",
       "      <th></th>\n",
       "      <th></th>\n",
       "      <th></th>\n",
       "      <th></th>\n",
       "    </tr>\n",
       "  </thead>\n",
       "  <tbody>\n",
       "    <tr>\n",
       "      <th>10180</th>\n",
       "      <td>168592.0</td>\n",
       "      <td>492</td>\n",
       "      <td>62</td>\n",
       "      <td>430</td>\n",
       "      <td>Abilene, TX (Metropolitan Statistical Area)</td>\n",
       "    </tr>\n",
       "    <tr>\n",
       "      <th>10420</th>\n",
       "      <td>703825.0</td>\n",
       "      <td>2397</td>\n",
       "      <td>106</td>\n",
       "      <td>2291</td>\n",
       "      <td>Akron, OH (Metropolitan Statistical Area)</td>\n",
       "    </tr>\n",
       "    <tr>\n",
       "      <th>10500</th>\n",
       "      <td>151670.0</td>\n",
       "      <td>1364</td>\n",
       "      <td>107</td>\n",
       "      <td>1257</td>\n",
       "      <td>Albany, GA (Metropolitan Statistical Area)</td>\n",
       "    </tr>\n",
       "    <tr>\n",
       "      <th>10540</th>\n",
       "      <td>119356.0</td>\n",
       "      <td>1092</td>\n",
       "      <td>23</td>\n",
       "      <td>1069</td>\n",
       "      <td>Albany, OR (Metropolitan Statistical Area)</td>\n",
       "    </tr>\n",
       "    <tr>\n",
       "      <th>10580</th>\n",
       "      <td>880167.0</td>\n",
       "      <td>1590</td>\n",
       "      <td>91</td>\n",
       "      <td>1499</td>\n",
       "      <td>Albany-Schenectady-Troy, NY (Metropolitan Stat...</td>\n",
       "    </tr>\n",
       "  </tbody>\n",
       "</table>\n",
       "</div>"
      ],
      "text/plain": [
       "       Population  Crimes  Violent Crimes  Property Crimes  \\\n",
       "msa                                                          \n",
       "10180    168592.0     492              62              430   \n",
       "10420    703825.0    2397             106             2291   \n",
       "10500    151670.0    1364             107             1257   \n",
       "10540    119356.0    1092              23             1069   \n",
       "10580    880167.0    1590              91             1499   \n",
       "\n",
       "                                                 msaName  \n",
       "msa                                                       \n",
       "10180        Abilene, TX (Metropolitan Statistical Area)  \n",
       "10420          Akron, OH (Metropolitan Statistical Area)  \n",
       "10500         Albany, GA (Metropolitan Statistical Area)  \n",
       "10540         Albany, OR (Metropolitan Statistical Area)  \n",
       "10580  Albany-Schenectady-Troy, NY (Metropolitan Stat...  "
      ]
     },
     "execution_count": 49,
     "metadata": {},
     "output_type": "execute_result"
    }
   ],
   "source": [
    "msaCrime_without_0.head()"
   ]
  },
  {
   "cell_type": "code",
   "execution_count": 50,
   "metadata": {
    "tags": []
   },
   "outputs": [
    {
     "name": "stderr",
     "output_type": "stream",
     "text": [
      "C:\\Users\\Administrator\\AppData\\Local\\Temp\\ipykernel_13552\\119375295.py:2: SettingWithCopyWarning: \n",
      "A value is trying to be set on a copy of a slice from a DataFrame.\n",
      "Try using .loc[row_indexer,col_indexer] = value instead\n",
      "\n",
      "See the caveats in the documentation: https://pandas.pydata.org/pandas-docs/stable/user_guide/indexing.html#returning-a-view-versus-a-copy\n",
      "  msaCrime_without_0.loc[:, 'Crime_Res'] = dataLog_Q1['logCrimes'] - lmCrimes.predict()\n"
     ]
    }
   ],
   "source": [
    "#compute the residuals\n",
    "msaCrime_without_0.loc[:, 'Crime_Res'] = dataLog_Q1['logCrimes'] - lmCrimes.predict()"
   ]
  },
  {
   "cell_type": "code",
   "execution_count": 51,
   "metadata": {
    "tags": []
   },
   "outputs": [
    {
     "data": {
      "text/html": [
       "<div>\n",
       "<style scoped>\n",
       "    .dataframe tbody tr th:only-of-type {\n",
       "        vertical-align: middle;\n",
       "    }\n",
       "\n",
       "    .dataframe tbody tr th {\n",
       "        vertical-align: top;\n",
       "    }\n",
       "\n",
       "    .dataframe thead th {\n",
       "        text-align: right;\n",
       "    }\n",
       "</style>\n",
       "<table border=\"1\" class=\"dataframe\">\n",
       "  <thead>\n",
       "    <tr style=\"text-align: right;\">\n",
       "      <th></th>\n",
       "      <th>Population</th>\n",
       "      <th>Crimes</th>\n",
       "      <th>Violent Crimes</th>\n",
       "      <th>Property Crimes</th>\n",
       "      <th>msaName</th>\n",
       "      <th>Crime_Res</th>\n",
       "    </tr>\n",
       "    <tr>\n",
       "      <th>msa</th>\n",
       "      <th></th>\n",
       "      <th></th>\n",
       "      <th></th>\n",
       "      <th></th>\n",
       "      <th></th>\n",
       "      <th></th>\n",
       "    </tr>\n",
       "  </thead>\n",
       "  <tbody>\n",
       "    <tr>\n",
       "      <th>31420</th>\n",
       "      <td>230450.0</td>\n",
       "      <td>10881</td>\n",
       "      <td>869</td>\n",
       "      <td>10012</td>\n",
       "      <td>Macon-Bibb County, GA (Metropolitan Statistica...</td>\n",
       "      <td>2.315198</td>\n",
       "    </tr>\n",
       "    <tr>\n",
       "      <th>24860</th>\n",
       "      <td>862463.0</td>\n",
       "      <td>24316</td>\n",
       "      <td>3316</td>\n",
       "      <td>21000</td>\n",
       "      <td>Greenville-Anderson-Mauldin, SC (Metropolitan ...</td>\n",
       "      <td>2.034767</td>\n",
       "    </tr>\n",
       "    <tr>\n",
       "      <th>37860</th>\n",
       "      <td>474081.0</td>\n",
       "      <td>13234</td>\n",
       "      <td>1980</td>\n",
       "      <td>11254</td>\n",
       "      <td>Pensacola-Ferry Pass-Brent, FL (Metropolitan S...</td>\n",
       "      <td>1.918185</td>\n",
       "    </tr>\n",
       "    <tr>\n",
       "      <th>35380</th>\n",
       "      <td>867529.0</td>\n",
       "      <td>20326</td>\n",
       "      <td>2322</td>\n",
       "      <td>18004</td>\n",
       "      <td>New Orleans-Metairie, LA (Metropolitan Statist...</td>\n",
       "      <td>1.850721</td>\n",
       "    </tr>\n",
       "    <tr>\n",
       "      <th>36740</th>\n",
       "      <td>2321418.0</td>\n",
       "      <td>43637</td>\n",
       "      <td>7202</td>\n",
       "      <td>36435</td>\n",
       "      <td>Orlando-Kissimmee-Sanford, FL (Metropolitan St...</td>\n",
       "      <td>1.805863</td>\n",
       "    </tr>\n",
       "  </tbody>\n",
       "</table>\n",
       "</div>"
      ],
      "text/plain": [
       "       Population  Crimes  Violent Crimes  Property Crimes  \\\n",
       "msa                                                          \n",
       "31420    230450.0   10881             869            10012   \n",
       "24860    862463.0   24316            3316            21000   \n",
       "37860    474081.0   13234            1980            11254   \n",
       "35380    867529.0   20326            2322            18004   \n",
       "36740   2321418.0   43637            7202            36435   \n",
       "\n",
       "                                                 msaName  Crime_Res  \n",
       "msa                                                                  \n",
       "31420  Macon-Bibb County, GA (Metropolitan Statistica...   2.315198  \n",
       "24860  Greenville-Anderson-Mauldin, SC (Metropolitan ...   2.034767  \n",
       "37860  Pensacola-Ferry Pass-Brent, FL (Metropolitan S...   1.918185  \n",
       "35380  New Orleans-Metairie, LA (Metropolitan Statist...   1.850721  \n",
       "36740  Orlando-Kissimmee-Sanford, FL (Metropolitan St...   1.805863  "
      ]
     },
     "execution_count": 51,
     "metadata": {},
     "output_type": "execute_result"
    }
   ],
   "source": [
    "# top 5\n",
    "msaCrime_without_0.sort_values(by='Crime_Res',ascending=False).head(5)"
   ]
  },
  {
   "cell_type": "code",
   "execution_count": 52,
   "metadata": {
    "tags": []
   },
   "outputs": [
    {
     "data": {
      "text/html": [
       "<div>\n",
       "<style scoped>\n",
       "    .dataframe tbody tr th:only-of-type {\n",
       "        vertical-align: middle;\n",
       "    }\n",
       "\n",
       "    .dataframe tbody tr th {\n",
       "        vertical-align: top;\n",
       "    }\n",
       "\n",
       "    .dataframe thead th {\n",
       "        text-align: right;\n",
       "    }\n",
       "</style>\n",
       "<table border=\"1\" class=\"dataframe\">\n",
       "  <thead>\n",
       "    <tr style=\"text-align: right;\">\n",
       "      <th></th>\n",
       "      <th>Population</th>\n",
       "      <th>Crimes</th>\n",
       "      <th>Violent Crimes</th>\n",
       "      <th>Property Crimes</th>\n",
       "      <th>msaName</th>\n",
       "      <th>Crime_Res</th>\n",
       "    </tr>\n",
       "    <tr>\n",
       "      <th>msa</th>\n",
       "      <th></th>\n",
       "      <th></th>\n",
       "      <th></th>\n",
       "      <th></th>\n",
       "      <th></th>\n",
       "      <th></th>\n",
       "    </tr>\n",
       "  </thead>\n",
       "  <tbody>\n",
       "    <tr>\n",
       "      <th>11020</th>\n",
       "      <td>125955.0</td>\n",
       "      <td>1</td>\n",
       "      <td>1</td>\n",
       "      <td>0</td>\n",
       "      <td>Altoona, PA (Metropolitan Statistical Area)</td>\n",
       "      <td>-6.483133</td>\n",
       "    </tr>\n",
       "    <tr>\n",
       "      <th>21500</th>\n",
       "      <td>278443.0</td>\n",
       "      <td>2</td>\n",
       "      <td>0</td>\n",
       "      <td>2</td>\n",
       "      <td>Erie, PA (Metropolitan Statistical Area)</td>\n",
       "      <td>-6.441892</td>\n",
       "    </tr>\n",
       "    <tr>\n",
       "      <th>10900</th>\n",
       "      <td>407571.0</td>\n",
       "      <td>3</td>\n",
       "      <td>0</td>\n",
       "      <td>3</td>\n",
       "      <td>Allentown-Bethlehem-Easton, PA-NJ (Metropolita...</td>\n",
       "      <td>-6.349525</td>\n",
       "    </tr>\n",
       "    <tr>\n",
       "      <th>38300</th>\n",
       "      <td>2154097.0</td>\n",
       "      <td>17</td>\n",
       "      <td>12</td>\n",
       "      <td>5</td>\n",
       "      <td>Pittsburgh, PA (Metropolitan Statistical Area)</td>\n",
       "      <td>-5.983110</td>\n",
       "    </tr>\n",
       "    <tr>\n",
       "      <th>49620</th>\n",
       "      <td>440755.0</td>\n",
       "      <td>5</td>\n",
       "      <td>5</td>\n",
       "      <td>0</td>\n",
       "      <td>York-Hanover, PA (Metropolitan Statistical Area)</td>\n",
       "      <td>-5.903023</td>\n",
       "    </tr>\n",
       "  </tbody>\n",
       "</table>\n",
       "</div>"
      ],
      "text/plain": [
       "       Population  Crimes  Violent Crimes  Property Crimes  \\\n",
       "msa                                                          \n",
       "11020    125955.0       1               1                0   \n",
       "21500    278443.0       2               0                2   \n",
       "10900    407571.0       3               0                3   \n",
       "38300   2154097.0      17              12                5   \n",
       "49620    440755.0       5               5                0   \n",
       "\n",
       "                                                 msaName  Crime_Res  \n",
       "msa                                                                  \n",
       "11020        Altoona, PA (Metropolitan Statistical Area)  -6.483133  \n",
       "21500           Erie, PA (Metropolitan Statistical Area)  -6.441892  \n",
       "10900  Allentown-Bethlehem-Easton, PA-NJ (Metropolita...  -6.349525  \n",
       "38300     Pittsburgh, PA (Metropolitan Statistical Area)  -5.983110  \n",
       "49620   York-Hanover, PA (Metropolitan Statistical Area)  -5.903023  "
      ]
     },
     "execution_count": 52,
     "metadata": {},
     "output_type": "execute_result"
    }
   ],
   "source": [
    "# last 5 \n",
    "msaCrime_without_0.sort_values(by='Crime_Res',ascending=True).head(5)"
   ]
  },
  {
   "cell_type": "markdown",
   "metadata": {},
   "source": [
    "### task 3. Is there any correlation between residual by income and residual by the total crime?\n",
    "Do the cities overperforming by wealth also typically over/underperform by crime?"
   ]
  },
  {
   "cell_type": "code",
   "execution_count": 53,
   "metadata": {
    "tags": []
   },
   "outputs": [
    {
     "data": {
      "text/html": [
       "<div>\n",
       "<style scoped>\n",
       "    .dataframe tbody tr th:only-of-type {\n",
       "        vertical-align: middle;\n",
       "    }\n",
       "\n",
       "    .dataframe tbody tr th {\n",
       "        vertical-align: top;\n",
       "    }\n",
       "\n",
       "    .dataframe thead th {\n",
       "        text-align: right;\n",
       "    }\n",
       "</style>\n",
       "<table border=\"1\" class=\"dataframe\">\n",
       "  <thead>\n",
       "    <tr style=\"text-align: right;\">\n",
       "      <th></th>\n",
       "      <th>IncRes</th>\n",
       "      <th>Crime_Res</th>\n",
       "    </tr>\n",
       "    <tr>\n",
       "      <th>msa</th>\n",
       "      <th></th>\n",
       "      <th></th>\n",
       "    </tr>\n",
       "  </thead>\n",
       "  <tbody>\n",
       "    <tr>\n",
       "      <th>10180</th>\n",
       "      <td>-0.101101</td>\n",
       "      <td>-0.524249</td>\n",
       "    </tr>\n",
       "    <tr>\n",
       "      <th>10420</th>\n",
       "      <td>0.025948</td>\n",
       "      <td>-0.115113</td>\n",
       "    </tr>\n",
       "    <tr>\n",
       "      <th>10500</th>\n",
       "      <td>-0.197068</td>\n",
       "      <td>0.582373</td>\n",
       "    </tr>\n",
       "    <tr>\n",
       "      <th>10540</th>\n",
       "      <td>-0.125354</td>\n",
       "      <td>0.556857</td>\n",
       "    </tr>\n",
       "    <tr>\n",
       "      <th>10580</th>\n",
       "      <td>0.154064</td>\n",
       "      <td>-0.709331</td>\n",
       "    </tr>\n",
       "  </tbody>\n",
       "</table>\n",
       "</div>"
      ],
      "text/plain": [
       "         IncRes  Crime_Res\n",
       "msa                       \n",
       "10180 -0.101101  -0.524249\n",
       "10420  0.025948  -0.115113\n",
       "10500 -0.197068   0.582373\n",
       "10540 -0.125354   0.556857\n",
       "10580  0.154064  -0.709331"
      ]
     },
     "execution_count": 53,
     "metadata": {},
     "output_type": "execute_result"
    }
   ],
   "source": [
    "merged_residual = pd.merge(msaDemo['IncRes'], msaCrime_without_0['Crime_Res'], on='msa')\n",
    "merged_residual.head()"
   ]
  },
  {
   "cell_type": "code",
   "execution_count": 54,
   "metadata": {
    "tags": []
   },
   "outputs": [
    {
     "data": {
      "text/plain": [
       "-0.18622165549425843"
      ]
     },
     "execution_count": 54,
     "metadata": {},
     "output_type": "execute_result"
    }
   ],
   "source": [
    "correlation = merged_residual['IncRes'].corr(merged_residual['Crime_Res'])\n",
    "correlation"
   ]
  },
  {
   "cell_type": "code",
   "execution_count": 55,
   "metadata": {
    "tags": []
   },
   "outputs": [
    {
     "data": {
      "image/png": "[encoded data removed]",
      "text/plain": [
       "<Figure size 640x480 with 1 Axes>"
      ]
     },
     "metadata": {},
     "output_type": "display_data"
    }
   ],
   "source": [
    "plt.scatter(merged_residual['IncRes'], merged_residual['Crime_Res'])\n",
    "plt.xlabel('IncRes')\n",
    "plt.ylabel('Crime_Res')\n",
    "plt.title('correlation')\n",
    "plt.show()"
   ]
  },
  {
   "cell_type": "markdown",
   "metadata": {},
   "source": [
    "#### From the calculation result and the chart, we can know that the residual by income and residual by the total crime has a negative relationship. But the correlation is not very strong."
   ]
  }
 ],
 "metadata": {
  "kernelspec": {
   "display_name": "Python 3 (ipykernel)",
   "language": "python",
   "name": "python3"
  },
  "language_info": {
   "codemirror_mode": {
    "name": "ipython",
    "version": 3
   },
   "file_extension": ".py",
   "mimetype": "text/x-python",
   "name": "python",
   "nbconvert_exporter": "python",
   "pygments_lexer": "ipython3",
   "version": "3.11.5"
  },
  "toc": {
   "base_numbering": 1,
   "nav_menu": {},
   "number_sections": true,
   "sideBar": true,
   "skip_h1_title": false,
   "title_cell": "Table of Contents",
   "title_sidebar": "Contents",
   "toc_cell": false,
   "toc_position": {},
   "toc_section_display": true,
   "toc_window_display": false
  }
 },
 "nbformat": 4,
 "nbformat_minor": 4
}
